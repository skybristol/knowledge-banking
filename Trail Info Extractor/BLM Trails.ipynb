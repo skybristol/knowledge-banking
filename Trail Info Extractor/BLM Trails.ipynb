{
 "cells": [
  {
   "cell_type": "markdown",
   "source": "# Introduction",
   "metadata": {
    "formattedRanges": [],
    "is_collapsed": false,
    "cell_id": "5815a9a8915d4e4698b670d9024cead9",
    "tags": [],
    "deepnote_cell_type": "text-cell-h1"
   }
  },
  {
   "cell_type": "markdown",
   "source": "This notebook examines the possible data sources for trails from the U.S. Bureau of Land Management. It focuses on trails in the Gunnison Gorge National Conservation Area as a test case that should have some transferability to other BLM-managed areas. The intent for this work is to develop a code-based method for combining, organizing, and curating information about public trails into \"trail\" entities in Wikidata; essentially a semi-automated curation mechanism.",
   "metadata": {
    "formattedRanges": [],
    "is_collapsed": false,
    "cell_id": "4f53b361-542a-4321-bd44-0890c5999f75",
    "tags": [],
    "deepnote_cell_type": "text-cell-p"
   }
  },
  {
   "cell_type": "markdown",
   "source": "I focus here on BLM sources as opposed to other sources of information on trails for two main reasons:",
   "metadata": {
    "formattedRanges": [],
    "is_collapsed": false,
    "cell_id": "96b0f290-0c0b-4f10-af75-d7aed923cc08",
    "tags": [],
    "deepnote_cell_type": "text-cell-p"
   }
  },
  {
   "cell_type": "markdown",
   "source": "1. BLM data and information are generally public domain with no license restrictions, making them appropriate reference material for Wikidata and other data/information platforms from the Wikimedia Foundation.",
   "metadata": {
    "formattedRanges": [],
    "is_collapsed": false,
    "cell_id": "90e3e72f-b67b-4061-ac1c-4c229c9e31af",
    "tags": [],
    "number": 1,
    "style": "decimal",
    "deepnote_cell_type": "text-cell-number"
   }
  },
  {
   "cell_type": "markdown",
   "source": "undefined. BLM is the authoritative source for data/information about the lands and resources under their management jurisdiction as opposed to other aggregations or derivations of these data.",
   "metadata": {
    "formattedRanges": [],
    "is_collapsed": false,
    "cell_id": "e3fbc696-9066-4fa5-aacb-9bc0d0bb39c7",
    "tags": [],
    "style": "decimal",
    "deepnote_cell_type": "text-cell-number"
   }
  },
  {
   "cell_type": "markdown",
   "source": "I focus here on two main sources - advertised public geospatial data and what may be a transitory information source that nevertheless contains the most complete and organized information about trails. I describe the challenges that exist with using these sources and ways they might be addressed.",
   "metadata": {
    "formattedRanges": [],
    "is_collapsed": false,
    "cell_id": "14abb002-ea15-4015-9852-fe9ced4821e2",
    "tags": [],
    "style": "decimal",
    "deepnote_cell_type": "text-cell-p"
   }
  },
  {
   "cell_type": "markdown",
   "source": "# Environment",
   "metadata": {
    "formattedRanges": [],
    "is_collapsed": false,
    "cell_id": "4cd6799e-c844-4c0e-b32d-570e157374ac",
    "tags": [],
    "style": "decimal",
    "deepnote_cell_type": "text-cell-h1"
   }
  },
  {
   "cell_type": "markdown",
   "source": "This notebook is developed and run in the Deepnote environment, synced with a GitHub repository. I'm mostly using standard Python packages already available in the base Deepnote environment with a few exceptions. I did need some foundational components not available in the Deepnote core and used a local Dockerfile to install those along with a requirements.txt for some additional package needs.",
   "metadata": {
    "formattedRanges": [],
    "is_collapsed": false,
    "cell_id": "6dc99b2e-1a1e-47a4-a298-e7748d3bdd66",
    "tags": [],
    "style": "decimal",
    "deepnote_cell_type": "text-cell-p"
   }
  },
  {
   "cell_type": "code",
   "metadata": {
    "tags": [],
    "cell_id": "17d5b8d7-801f-46bd-80cd-99e971a704dd",
    "deepnote_to_be_reexecuted": false,
    "source_hash": "49270d27",
    "execution_start": 1662989602386,
    "execution_millis": 343,
    "deepnote_cell_type": "code",
    "deepnote_cell_height": 184
   },
   "source": "import pandas as pd\nimport geopandas as gpd\nimport fiona\nimport requests\nimport json\nfrom tabula import read_pdf\nfrom tabulate import tabulate",
   "execution_count": 1,
   "outputs": []
  },
  {
   "cell_type": "markdown",
   "source": "# GIS Data Sources",
   "metadata": {
    "formattedRanges": [],
    "is_collapsed": false,
    "cell_id": "7d2b86b1c25644eb9de3649c71d42817",
    "tags": [],
    "deepnote_cell_type": "text-cell-h1"
   }
  },
  {
   "cell_type": "markdown",
   "source": "Like any land management agency, BLM has a robust GIS program to support its operations. Trails are considered part of \"transportation,\" and since 2015 the Ground Transportation Linear Features data standard has been in effect. You kind of need to know this important fact in order to track down and use BLM trails data as \"GTLF\" ends up being the unique keyword that helps to find these data wherever they happen to be. That web page to the BLM policy links to three PDF documents that provide further detail on the standard and how it is to be implemented that will be important when we start trying to understand these data.",
   "metadata": {
    "formattedRanges": [
     {
      "type": "link",
      "url": "https://www.blm.gov/policy/im-2015-061",
      "fromCodePoint": 156,
      "toCodePoint": 193,
      "ranges": []
     }
    ],
    "is_collapsed": false,
    "cell_id": "890e7b72-5aca-46e2-9a7b-22991f68d5c2",
    "tags": [],
    "deepnote_cell_type": "text-cell-p"
   }
  },
  {
   "cell_type": "markdown",
   "source": "BLM's GIS data page links to 4 different \"data portals.\" Three of these are .gov resources and the first listed is an Esri ArcGIS Hub instance (a technology that Esri has been selling to gov agencies that have contracts with that company). The three .gov portals do all have metadata records for what BLM titles the \"BLM Natl GTLF Public Managed Trails\" dataset, which is what I'll concentrate on for now. Their transportation data includes several other \"packages,\" all nominally following the GTLF standard, that may have records for other types of trails (e.g., roads that may be used to connect between trails or trail segments). The public managed trails dataset shows up in the three .gov portals via the following links currently:",
   "metadata": {
    "formattedRanges": [
     {
      "type": "link",
      "url": "https://www.blm.gov/services/geospatial/GISData",
      "fromCodePoint": 6,
      "toCodePoint": 19,
      "ranges": []
     }
    ],
    "is_collapsed": false,
    "cell_id": "a92becdb-72bd-420f-b826-0fb45d46a631",
    "tags": [],
    "deepnote_cell_type": "text-cell-p"
   }
  },
  {
   "cell_type": "markdown",
   "source": "- BLM Natl GTLF Public Managed Trails at data.doi.gov",
   "metadata": {
    "formattedRanges": [
     {
      "type": "link",
      "url": "https://data.doi.gov/dataset/blm-natl-gtlf-public-managed-trails-63400",
      "fromCodePoint": 0,
      "toCodePoint": 51,
      "ranges": []
     }
    ],
    "is_collapsed": false,
    "cell_id": "f8a749bd-9001-44f0-8e15-2480dd76050c",
    "tags": [],
    "deepnote_cell_type": "text-cell-bullet"
   }
  },
  {
   "cell_type": "markdown",
   "source": "- BLM Natl GTLF Public Managed Trails at doi.gov",
   "metadata": {
    "formattedRanges": [
     {
      "type": "link",
      "url": "https://catalog.data.gov/dataset/blm-natl-gtlf-public-managed-trails",
      "fromCodePoint": 0,
      "toCodePoint": 46,
      "ranges": []
     }
    ],
    "is_collapsed": false,
    "cell_id": "ff506b0e-c7fd-457c-b55c-da3e6c7a643e",
    "tags": [],
    "deepnote_cell_type": "text-cell-bullet"
   }
  },
  {
   "cell_type": "markdown",
   "source": "- BLM Natl GTLF Public Managed Trails at geoplatform.gov",
   "metadata": {
    "formattedRanges": [
     {
      "type": "link",
      "url": "https://www.geoplatform.gov/metadata/68ba8127-e099-5d6e-b33c-1cbe2a835d96",
      "fromCodePoint": 0,
      "toCodePoint": 54,
      "ranges": []
     }
    ],
    "is_collapsed": false,
    "cell_id": "e91c3c44-f683-4ef8-8cba-1f73a808d39e",
    "tags": [],
    "deepnote_cell_type": "text-cell-bullet"
   }
  },
  {
   "cell_type": "markdown",
   "source": "The data.doi.gov and data.gov records seem to come from what may be the same source metadata, but they list different update dates when I looked at them. All links to access data in both of these records point to sources from the arcgis.com location, which appears to be BLM's preferred point of access. The geoplatform.gov record points to a single point of data access, which appears to be one of BLM's own Esri ArcGIS Servers (an ArcGIS MapServer interface). The ArcGIS Hub record for this dataset provides a number of data access options, including ArcGIS REST services as well as downloads.",
   "metadata": {
    "formattedRanges": [
     {
      "type": "link",
      "url": "https://gbp-blm-egis.hub.arcgis.com/datasets/BLM-EGIS::blm-natl-gtlf-public-managed-trails/about",
      "fromCodePoint": 477,
      "toCodePoint": 500,
      "ranges": []
     }
    ],
    "is_collapsed": false,
    "cell_id": "f035911e-d75b-492e-993c-036d8ffeaad8",
    "tags": [],
    "deepnote_cell_type": "text-cell-p"
   }
  },
  {
   "cell_type": "markdown",
   "source": "Interestingly enough, the first Google search result to come up on a query for \"blm gtlf trails data\" is from databasin.org, a nonprofit conservation organization that pulls together a bunch of government data into their own systems. They reference a download of a package from a different location on a BLM.gov site. The package contains an Esri file geodatabase that looks like it has all the different layers packaged up, including the other types of roads and trails that are shown in the ArcGIS Hub and other catalog sources as separate datasets. When looking just at the layer that package calls \"gtlf_public_managed_trails_ln,\" we see that it has 114 fewer records than other forms of the data. Apart from metadata dates that may or may not accurately reflect currency of the data, it appears that DataBasin may be working with an older version of the data.",
   "metadata": {
    "formattedRanges": [
     {
      "type": "link",
      "url": "https://databasin.org/datasets/f367c5d945e44f52b47907084b9bfa38/",
      "fromCodePoint": 110,
      "toCodePoint": 123,
      "ranges": []
     }
    ],
    "is_collapsed": false,
    "cell_id": "2838c78f-e0e3-4cdd-ab93-ae16025e7f96",
    "tags": [],
    "deepnote_cell_type": "text-cell-p"
   }
  },
  {
   "cell_type": "markdown",
   "source": "Given what appears to be BLM's push toward using their ArcGIS Hub instance as the primary access point for these and other BLM data, that's likely where I need to pull data to work from. Without doing a record by record comparison, I can't say whether there is some difference in what BLM serves from their own infrastructure, but a quick look at the query services shows that they are at least not operating the same version and configuration of ArcGIS Server.",
   "metadata": {
    "formattedRanges": [],
    "is_collapsed": false,
    "cell_id": "d0a825c5-acc6-4897-9de7-88c5c4ada8e1",
    "tags": [],
    "deepnote_cell_type": "text-cell-p"
   }
  },
  {
   "cell_type": "markdown",
   "source": "- arcgis.com instance",
   "metadata": {
    "formattedRanges": [
     {
      "type": "link",
      "url": "https://services1.arcgis.com/KbxwQRRfWyEYLgp4/ArcGIS/rest/services/BLM_Natl_GTLF_Public_Managed_Trails/FeatureServer/2",
      "fromCodePoint": 0,
      "toCodePoint": 19,
      "ranges": []
     }
    ],
    "is_collapsed": false,
    "cell_id": "a878d919-2714-420c-bae3-672ca1421f02",
    "tags": [],
    "deepnote_cell_type": "text-cell-bullet"
   }
  },
  {
   "cell_type": "markdown",
   "source": "- blm.gov instance ",
   "metadata": {
    "formattedRanges": [
     {
      "type": "link",
      "url": "https://gis.blm.gov/arcgis/rest/services/transportation/BLM_Natl_GTLF_Public_Display/MapServer/7",
      "fromCodePoint": 0,
      "toCodePoint": 16,
      "ranges": []
     }
    ],
    "is_collapsed": false,
    "cell_id": "cf6aa200-f3f1-4cff-8a05-f4a2f7645c04",
    "tags": [],
    "deepnote_cell_type": "text-cell-bullet"
   }
  },
  {
   "cell_type": "markdown",
   "source": "We can start with a quick pull of a handful of records and see what we're dealing with.",
   "metadata": {
    "formattedRanges": [],
    "is_collapsed": false,
    "cell_id": "8c3f8eba-2b27-46ad-8432-280612fa578d",
    "tags": [],
    "deepnote_cell_type": "text-cell-p"
   }
  },
  {
   "cell_type": "code",
   "metadata": {
    "cell_id": "49529b98300f4a04b5080cc4da4d4b82",
    "tags": [],
    "deepnote_to_be_reexecuted": false,
    "source_hash": "237299c2",
    "execution_start": 1662989609158,
    "execution_millis": 262,
    "deepnote_cell_type": "code",
    "deepnote_cell_height": 790.859375
   },
   "source": "# Query parameters are a bit different between the different versions of the services\nr_trails_arcgis_hub = requests.get(\"https://services1.arcgis.com/KbxwQRRfWyEYLgp4/ArcGIS/rest/services/BLM_Natl_GTLF_Public_Managed_Trails/FeatureServer/2/query?where=1%3D1&objectIds=&time=&geometry=&geometryType=esriGeometryEnvelope&inSR=&spatialRel=esriSpatialRelIntersects&resultType=none&distance=0.0&units=esriSRUnit_Meter&relationParam=&returnGeodetic=false&outFields=*&returnGeometry=false&featureEncoding=esriDefault&multipatchOption=xyFootprint&maxAllowableOffset=&geometryPrecision=&outSR=&defaultSR=&datumTransformation=&applyVCSProjection=false&returnIdsOnly=false&returnUniqueIdsOnly=false&returnCountOnly=false&returnExtentOnly=false&returnQueryGeometry=false&returnDistinctValues=false&cacheHint=false&orderByFields=&groupByFieldsForStatistics=&outStatistics=&having=&resultOffset=&resultRecordCount=10&returnZ=false&returnM=false&returnExceededLimitFeatures=true&quantizationParameters=&sqlFormat=none&f=pjson&token=\")\n\ntrails_arcgis_hub = r_trails_arcgis_hub.json()\ndf_trails_arcgis_hub = pd.DataFrame([i[\"attributes\"] for i in trails_arcgis_hub[\"features\"]])\n\ndf_trails_arcgis_hub.info()",
   "execution_count": 2,
   "outputs": [
    {
     "name": "stdout",
     "text": "<class 'pandas.core.frame.DataFrame'>\nRangeIndex: 10 entries, 0 to 9\nData columns (total 23 columns):\n #   Column                          Non-Null Count  Dtype  \n---  ------                          --------------  -----  \n 0   OBJECTID                        10 non-null     int64  \n 1   DSTRBTE_EXTRNL_CODE             10 non-null     object \n 2   PLAN_ROUTE_DSGNTN_AUTH          10 non-null     object \n 3   PLAN_ASSET_CLASS                10 non-null     object \n 4   PLAN_OHV_ROUTE_DSGNTN           9 non-null      object \n 5   PLAN_MODE_TRNSPRT               10 non-null     object \n 6   Original_GlobalID               10 non-null     object \n 7   ADMIN_ST                        10 non-null     object \n 8   PLAN_ADD_MODE_TRNSPRT_RSTRT_CD  0 non-null      object \n 9   OBSRVE_MODE_TRNSPRT             10 non-null     object \n 10  OBSRVE_SRFCE_TYPE               10 non-null     object \n 11  OBSRVE_FUNC_CLASS               10 non-null     object \n 12  OBSRVE_ROUTE_USE_CLASS          10 non-null     object \n 13  ROUTE_PRMRY_NM                  10 non-null     object \n 14  ROUTE_SCNDRY_SPCL_DSGNTN_NM     0 non-null      object \n 15  ROUTE_SPCL_DSGNTN_TYPE          0 non-null      object \n 16  GlobalID                        10 non-null     object \n 17  FAMS_ID                         0 non-null      object \n 18  EXSTNG_AUTH_CODE                0 non-null      object \n 19  PLAN_ALLOW_MODE_TRNSPRT         0 non-null      object \n 20  OHV_DSGNTN_LIM_EXPLAIN          0 non-null      object \n 21  OHV_ROUTE_DSGNTN_LIM            0 non-null      object \n 22  Shape__Length                   10 non-null     float64\ndtypes: float64(1), int64(1), object(21)\nmemory usage: 1.9+ KB\n",
     "output_type": "stream"
    }
   ]
  },
  {
   "cell_type": "markdown",
   "source": "I can see some attributes here that show up in the standards documentation for GTLF like PLAN_ASSET_CLASS, that I can find in the metadata but actually have to go dig up in one of the PDF documents associated with the data standard if I want full details like the acceptable values in a property and what they mean. There's a place for this level of detail in both the FGDC and ISO19115 metadata standards, and it's a bit annoying that it's not included here.",
   "metadata": {
    "formattedRanges": [
     {
      "type": "link",
      "url": "https://www.arcgis.com/sharing/rest/content/items/17899ddc7ace4e5685a95550d03cc505/info/metadata/metadata.xml?format=default&output=html",
      "fromCodePoint": 130,
      "toCodePoint": 138,
      "ranges": []
     },
     {
      "type": "link",
      "url": "https://www.blm.gov/sites/blm.gov/files/uploads/IM2015-061_att3.pdf",
      "fromCodePoint": 184,
      "toCodePoint": 197,
      "ranges": []
     },
     {
      "type": "link",
      "url": "https://www.arcgis.com/sharing/rest/content/items/17899ddc7ace4e5685a95550d03cc505/info/metadata/metadata.xml?format=default&output=html",
      "fromCodePoint": 282,
      "toCodePoint": 282,
      "ranges": []
     }
    ],
    "is_collapsed": false,
    "cell_id": "58ec443918ac495cb21ecd265cb73d85",
    "tags": [],
    "deepnote_cell_type": "text-cell-p"
   }
  },
  {
   "cell_type": "markdown",
   "source": "One significant point of discomfort here is that there is no date/currency information included in this particular derivative form of the data. The GTLF standard seems to call for useful fields to include CREATE_DATE and MODIFY_DATE along with CREATE_BY and MODIFY_BY. After digging around the other available forms of the data, I can't find these attributes anywhere in the national datasets. So, there was a design decision somewhere to not include those fields in the publicly available form of the data. In the current system, there doesn't seem to be any way for anyone using these data to know how current any given record of interest is or what might have changed. Without any type of versioning mechanism in place, the best anyone could do would be to pull full datasets periodically into a cache and diff them to figure how what's changing over time.",
   "metadata": {
    "is_collapsed": false,
    "cell_id": "a7c0b7ea-3577-4bf9-8e4c-cbe6985aa4cb",
    "tags": [],
    "formattedRanges": [
     {
      "type": "link",
      "url": "https://www.blm.gov/sites/blm.gov/files/uploads/IM2015-061_att3.pdf",
      "fromCodePoint": 148,
      "toCodePoint": 161,
      "ranges": []
     }
    ],
    "deepnote_cell_type": "text-cell-p"
   }
  },
  {
   "cell_type": "markdown",
   "source": "In somewhat typical fashion, though, the BLM produces these data on a state by state basis. Each state where BLM has a State Office does appear to have its own section of the ArcGIS Hub. Oregon/Washington seem to have the most robust GIS program with their own data management area complete with what appear to be more State-level data standards and models. Colorado, which is what I'm looking to in this case, has several specific trails-related data assets via their ArcGIS Hub catalog. The state-level dataset with GTLF in the description does have many more properties than the National aggregation and includes fields for created and modified dates.",
   "metadata": {
    "is_collapsed": false,
    "cell_id": "2ca61675-c58d-48e6-a211-988a11ad8c17",
    "tags": [],
    "formattedRanges": [
     {
      "type": "link",
      "url": "https://www.blm.gov/about/data/oregon-data-management",
      "fromCodePoint": 261,
      "toCodePoint": 281,
      "ranges": []
     },
     {
      "type": "link",
      "url": "https://gbp-blm-egis.hub.arcgis.com/search?categories=transportation&groupIds=97bb25da078444d4a04669405f77643b",
      "fromCodePoint": 423,
      "toCodePoint": 458,
      "ranges": []
     },
     {
      "type": "link",
      "url": "https://gbp-blm-egis.hub.arcgis.com/datasets/BLM-EGIS::blm-colorado-roads-and-trails-2/about",
      "fromCodePoint": 493,
      "toCodePoint": 541,
      "ranges": []
     }
    ],
    "deepnote_cell_type": "text-cell-p"
   }
  },
  {
   "cell_type": "markdown",
   "source": "I don't know this for sure yet, but the likely reason the National dataset is slimmed down may be a lack of consistency across the State-level data sources and an effort to harmonize at the lowest common denominator. The \"BLM CO Roads and Trails\" is also sourced from a BLM data server (gis.blm.gov/coarcgis), with the ArcGIS Hub record simply a metadata record in that catalog pointing to a BLM source. A quick look at a couple of other areas shows that Utah doesn't have any trails data source listed in their transportation category, though they do have a dataset for UT's part of the National Scenic and Historic Trails. Other states like Idaho also don't have any trails data that can be found readily in the ArcGIS Hub. My guess is that what the BLM ArcGIS Hub presents is something of an ideal that BLM is striving to achieve with some level of consistency across the States, but it looks like they are a long way off from achieving this.",
   "metadata": {
    "is_collapsed": false,
    "cell_id": "7e260af7-39a8-42b6-9091-1425b34d9beb",
    "tags": [],
    "formattedRanges": [
     {
      "type": "link",
      "url": "https://gbp-blm-egis.hub.arcgis.com/search?categories=transportation&groupIds=23bbacf27d254158a7fbda3730b2ea7e",
      "fromCodePoint": 512,
      "toCodePoint": 535,
      "ranges": []
     },
     {
      "type": "link",
      "url": "https://gbp-blm-egis.hub.arcgis.com/datasets/BLM-EGIS::blm-ut-national-scenic-and-historic-trails-arc/about",
      "fromCodePoint": 571,
      "toCodePoint": 623,
      "ranges": []
     }
    ],
    "deepnote_cell_type": "text-cell-p"
   }
  },
  {
   "cell_type": "markdown",
   "source": "Identifiers are also questionable in all of the the datasets. OBJECTID is listed in the standards documentation, but this appears to be a simple sequential numeric identifier for geospatial features in the dataset that shouldn't be used for anything other than internal consistency. GlobalID is also discussed in the standard but is documented as a \"software generated value\" that shouldn't be used as a meaningful unique ID. The presence of a property labeled Original_GlobalID makes me wonder a bit at the internal data management workings over time and why these properties are even included if they are not truly usable for anything. The only other identifier property that seems to be in this form of the data is FAMS_ID, which is documented as a link to another BLM system, the Facility Asset Management System, and is not populated for every record.",
   "metadata": {
    "is_collapsed": false,
    "cell_id": "52906943-3500-47f9-b542-7a1ee73a8843",
    "tags": [],
    "formattedRanges": [],
    "deepnote_cell_type": "text-cell-p"
   }
  },
  {
   "cell_type": "markdown",
   "source": "We'll look at the full dataset in a moment, but I suspect that there is no persistent, resolvable identifier in the public trails dataset that we could count on to detect and work through changes over time. Rather, this is a typical GIS dataset where the majority of the focus is on the geometry part of the model, making sure that the data needed to put lines in the right place on a map and run various geospatial operations is right. Other things like the properties we would be interested in using to characterize aspects of trails may not be as robust, complete, or consistently used.",
   "metadata": {
    "formattedRanges": [],
    "is_collapsed": false,
    "cell_id": "13d4b610-5173-4444-8453-aab7a9afa2a1",
    "tags": [],
    "deepnote_cell_type": "text-cell-p"
   }
  },
  {
   "cell_type": "markdown",
   "source": "Even though it's not necessarily ideal, the first place to go for BLM's GIS data on trails is probably the State level where data are available. In this case, I pulled down the simple CSV version of the properties for CO Public Roads and Trails so we can take a look at some of the dynamics for what looks like a richer information source than the National aggregation. I then ran through a couple of quick tests digging into what I'll need to work through in trails information for the GGNCA.",
   "metadata": {
    "is_collapsed": false,
    "cell_id": "bd443d0e-e036-4855-af8c-249e7168052b",
    "tags": [],
    "formattedRanges": [],
    "deepnote_cell_type": "text-cell-p"
   }
  },
  {
   "cell_type": "code",
   "source": "df_blm_co_trails_csv = pd.read_csv('/datasets/blmcogtlf/BLM_CO_GTLF.csv')\ndf_blm_co_trails_csv.info()",
   "metadata": {
    "cell_id": "c2fd99583dd741f6b00c09c4dd60aabe",
    "tags": [],
    "deepnote_to_be_reexecuted": false,
    "source_hash": "c66a7bae",
    "execution_start": 1662989614892,
    "execution_millis": 1680,
    "deepnote_cell_type": "code",
    "deepnote_cell_height": 714
   },
   "execution_count": 3,
   "outputs": [
    {
     "name": "stdout",
     "text": "<class 'pandas.core.frame.DataFrame'>\nRangeIndex: 61476 entries, 0 to 61475\nData columns (total 39 columns):\n #   Column                          Non-Null Count  Dtype  \n---  ------                          --------------  -----  \n 0   OBJECTID                        61476 non-null  int64  \n 1   PLAN_ALLOW_MODE_TRNSPRT         58320 non-null  object \n 2   OHV_ROUTE_DSGNTN_LIM            15542 non-null  object \n 3   OHV_DSGNTN_LIM_EXPLAIN          15262 non-null  object \n 4   ROUTE_PRMRY_NM                  22526 non-null  object \n 5   ROUTE_PRMRY_NUM                 22055 non-null  object \n 6   ROUTE_SPCL_DSGNTN_TYPE          188 non-null    object \n 7   PLAN_ROUTE_DSGNTN_AUTH          61476 non-null  object \n 8   PLAN_ASSET_CLASS                59246 non-null  object \n 9   PLAN_MODE_TRNSPRT               59338 non-null  object \n 10  PLAN_ACCESS_RSTRCT              60403 non-null  object \n 11  PLAN_SEASON_RSTRCT_CODE         56380 non-null  object \n 12  PLAN_ADD_MODE_TRNSPRT_RSTRT_CD  51032 non-null  object \n 13  PLAN_OHV_ROUTE_DSGNTN           60335 non-null  object \n 14  PLAN_PRMRY_ROUTE_MNGT_OBJTV     45815 non-null  object \n 15  OBSRVE_MODE_TRNSPRT             60550 non-null  object \n 16  OBSRVE_ROUTE_USE_CLASS          60855 non-null  object \n 17  OBSRVE_SRFCE_TYPE               60882 non-null  object \n 18  OBSRVE_FUNC_CLASS               44643 non-null  object \n 19  ROUTE_PLAN_ID                   34089 non-null  object \n 20  DSTRBTE_EXTRNL_CODE             61476 non-null  object \n 21  FAMS_ID                         11562 non-null  object \n 22  GTLF_OWN                        47959 non-null  object \n 23  EXSTNG_AUTH_CODE                40710 non-null  object \n 24  NEPA_DOC_NUM                    47701 non-null  object \n 25  ADM_UNIT_CD                     61475 non-null  object \n 26  ADMIN_ST                        61476 non-null  object \n 27  BLM_MILES                       61476 non-null  float64\n 28  GIS_MILES                       61476 non-null  float64\n 29  COORD_SRC_TYPE                  61476 non-null  object \n 30  COORD_SRC2                      43131 non-null  object \n 31  DEF_FET_TYPE                    61476 non-null  object \n 32  DEF_FET2                        11416 non-null  object \n 33  ACCURACY_FT                     61476 non-null  int64  \n 34  MODIFY_DATE                     61476 non-null  object \n 35  CREATE_DATE                     61476 non-null  object \n 36  GlobalID                        61476 non-null  object \n 37  SERIAL_NUM                      744 non-null    object \n 38  Shape__Length                   61476 non-null  float64\ndtypes: float64(3), int64(2), object(34)\nmemory usage: 18.3+ MB\n/shared-libs/python3.9/py-core/lib/python3.9/site-packages/IPython/core/interactiveshell.py:3135: DtypeWarning: Columns (32) have mixed types.Specify dtype option on import or set low_memory=False.\n  has_raised = await self.run_ast_nodes(code_ast.body, cell_name,\n",
     "output_type": "stream"
    }
   ]
  },
  {
   "cell_type": "code",
   "source": "# Show number of records with null name and number\nlen(df_blm_co_trails_csv[df_blm_co_trails_csv.ROUTE_PRMRY_NM.isnull() & df_blm_co_trails_csv.ROUTE_PRMRY_NUM.isnull()])",
   "metadata": {
    "cell_id": "98330a647d0b4be494447effa6a6363d",
    "tags": [],
    "deepnote_to_be_reexecuted": false,
    "source_hash": "5186b910",
    "execution_start": 1662989830808,
    "execution_millis": 36,
    "deepnote_cell_type": "code",
    "deepnote_cell_height": 135.1875,
    "deepnote_output_heights": [
     20.1875
    ]
   },
   "outputs": [
    {
     "output_type": "execute_result",
     "execution_count": 8,
     "data": {
      "text/plain": "35599"
     },
     "metadata": {}
    }
   ],
   "execution_count": 8
  },
  {
   "cell_type": "code",
   "source": "df_blm_co_trails_csv[\"name\"] = df_blm_co_trails_csv.ROUTE_PRMRY_NM.apply(lambda x: x.strip() if isinstance(x, str) and len(x.strip()) > 0 else None)\n\nnamed_co_trails = df_blm_co_trails_csv[\n    df_blm_co_trails_csv[\"name\"].notnull()\n]\nids = named_co_trails[\"name\"]\nlist(named_co_trails[ids.isin(ids[ids.duplicated()])].sort_values(\"name\").name.unique())",
   "metadata": {
    "cell_id": "c2477334b611456894e4d11d1666d813",
    "tags": [],
    "deepnote_to_be_reexecuted": false,
    "source_hash": "90bcbeca",
    "execution_start": 1662990260169,
    "execution_millis": 82,
    "deepnote_cell_type": "code",
    "deepnote_cell_height": 815,
    "deepnote_output_heights": [
     610
    ]
   },
   "outputs": [
    {
     "output_type": "execute_result",
     "execution_count": 19,
     "data": {
      "text/plain": "['001',\n '002',\n '003',\n '003A',\n '004',\n '005',\n '006',\n '007',\n '007A',\n '009',\n '009A',\n '010A',\n '011',\n '011A',\n '012',\n '012B',\n '013',\n '013A',\n '013B',\n '013C',\n '013E',\n '013H',\n '013K',\n '013O',\n '013S',\n '014',\n '015',\n '015A',\n '015B',\n '016',\n '017',\n '017B',\n '018',\n '020',\n '021',\n '022',\n '022A',\n '023',\n '023A',\n '023B',\n '023C',\n '023D',\n '023H',\n '023J',\n '023P',\n '023Q',\n '023R',\n '023T',\n '023U',\n '023X',\n '024',\n '025',\n '025A',\n '026',\n '026A',\n '027',\n '028',\n '030',\n '031',\n '031A',\n '032',\n '034',\n '035',\n '036',\n '036A',\n '037',\n '037A',\n '038',\n '039',\n '040',\n '042',\n '042A',\n '044',\n '045',\n '046',\n '047',\n '048',\n '078',\n '079A',\n '079B',\n '080',\n '080A',\n '080B',\n '080C',\n '080E',\n '081',\n '081A',\n '082',\n '082A',\n '082B',\n '083',\n '083B',\n '083C',\n '084',\n '085',\n '086',\n '087',\n '087A',\n '088',\n '089',\n '090',\n '090A',\n '090B',\n '092',\n '092A',\n '092B',\n '092C',\n '100',\n '101',\n '101A',\n '102',\n '103',\n '103B',\n '103D',\n '104',\n '104B',\n '104C',\n '105',\n '105A',\n '105B',\n '106',\n '109',\n '109H',\n '11 1/2 RD',\n '11 3/10 RD',\n '11 9/10 RD',\n '11 RD',\n '110',\n '110C',\n '110D',\n '112',\n '113',\n '114',\n '115',\n '116',\n '117',\n '118',\n '119',\n '120',\n '121',\n '123',\n '124',\n '125',\n '126',\n '127',\n '128',\n '129',\n '13 2/10 RD',\n '130',\n '131',\n '132',\n '132A',\n '133',\n '135',\n '137',\n '139A',\n '144',\n '146',\n '149',\n '15/100 RD',\n '150',\n '154',\n '155',\n '156',\n '157',\n '158',\n '159',\n '1593A: Signal Butte Road',\n '160',\n '161',\n '161B',\n '164',\n '165',\n '166',\n '173',\n '174',\n '175',\n '176',\n '177',\n '178',\n '179',\n '18 Up',\n '180',\n '181',\n '182',\n '183',\n '184',\n '186',\n '187',\n '189',\n '190',\n '192',\n '192A',\n '194',\n '195',\n '196',\n '197',\n '198',\n '198A',\n '199',\n '2 8/10 RD',\n '204',\n '208',\n '208H',\n '209',\n '209R',\n '209S',\n '209U',\n '209V',\n '209W',\n '21 RD',\n '210',\n '213',\n '214',\n '215',\n '215A',\n '217',\n '218',\n '219',\n '219D',\n '220',\n '222',\n '223',\n '224',\n '225',\n '226',\n '226A',\n '227',\n '230',\n '230B',\n '231',\n '234',\n '235',\n '236',\n '238',\n '238A',\n '239',\n '242',\n '242B',\n '242C',\n '243C',\n '243E',\n '244',\n '244A',\n '244B',\n '244C',\n '245',\n '245D',\n '245G',\n '246',\n '246B',\n '247',\n '247A',\n '247E',\n '247I',\n '248',\n '248A',\n '253',\n '255',\n '256D',\n '256F',\n '256M',\n '262',\n '262A',\n '262D',\n '262F',\n '262H',\n '263',\n '263A',\n '263B',\n '264',\n '264A',\n '265',\n '265A',\n '266',\n '267',\n '268',\n '268A',\n '269',\n '277',\n '277A',\n '277C',\n '277D',\n '277K',\n '278',\n '278B',\n '279',\n '279D',\n '279E',\n '280',\n '280A',\n '281',\n '282',\n '282A',\n '283',\n '283B',\n '283C',\n '285A',\n '285D',\n '285H',\n '285L',\n '286',\n '286A',\n '286B',\n '286C',\n '286D',\n '286E',\n '286F',\n '287',\n '287A',\n '288',\n '288B',\n '289',\n '290',\n '291',\n '291A',\n '292',\n '292B',\n '293',\n '293C',\n '294',\n '294A',\n '296',\n '296A',\n '296B',\n '296C',\n '296E',\n '296F',\n '297',\n '297B',\n '298C',\n '298E',\n '299A',\n '299B',\n '3 springs connect',\n '300',\n '300B',\n '300C',\n '300D',\n '300E',\n '301',\n '301B',\n '301D',\n '301F',\n '304B',\n '3120 Prosser Creek Road',\n '318A',\n '35 6/10 RD',\n '35 RD',\n '4 2/10 RD',\n '46AA Spur E',\n '505A',\n '520',\n '520A',\n '520B',\n '524',\n '524B',\n '525',\n '525A',\n '527',\n '527A',\n '528',\n '530',\n '534',\n '535',\n '535A',\n '535D',\n '535F',\n '536',\n '536A',\n '537',\n '537A',\n '538',\n '539',\n '539B',\n '540',\n '540A',\n '540C',\n '540E',\n '542',\n '544',\n '545',\n '547',\n '550',\n '550B',\n '550C',\n '551',\n '552',\n '552A',\n '552B',\n '552C',\n '552D',\n '552E',\n '552F',\n '552H',\n '553A',\n '553B',\n '555',\n '555A',\n '555B',\n '555D',\n '555E',\n '555H',\n '556',\n '557',\n '557A',\n '557B',\n '558',\n '558A',\n '558C',\n '558D',\n '559',\n '559A',\n '559B',\n '560',\n '560A',\n '560B',\n '562',\n '562A',\n '562B',\n '563',\n '563A',\n '564',\n '568',\n '568A',\n '570',\n '571',\n '572',\n '6 3/10 RD',\n '600',\n '600F',\n '601',\n '602',\n '603',\n '603C',\n '604',\n '6043',\n '6044',\n '604A',\n '605',\n '608',\n '608A',\n '608C',\n '608D',\n '610B',\n '610D',\n '610E',\n '610F',\n '610I',\n '610J',\n '611B',\n '614',\n '614A',\n '614D',\n '614E',\n '614H',\n '614I',\n '614J',\n '614K',\n '615',\n '615A',\n '615D',\n '616',\n '616C',\n '617',\n '617A',\n '617C',\n '617D',\n '617E',\n '618',\n '618A',\n '618B',\n '618C',\n '621',\n '621A',\n '621B',\n '622B',\n '623',\n '623C',\n '623D',\n '624',\n '625',\n '627F',\n '627G',\n '627H',\n '627I',\n '627K',\n '627L',\n '627M',\n '627N',\n '627O',\n '627P',\n '627Q',\n '627S',\n '629',\n '630',\n '630D',\n '634A',\n '635',\n '635A',\n '635B',\n '635C',\n '635D',\n '635F',\n '636',\n '636B',\n '637',\n '638C',\n '638D',\n '639',\n '639D',\n '640B',\n '666AA',\n '6SA',\n '706',\n '707',\n '711A',\n '711B',\n '711C',\n '715',\n '715C',\n '715D',\n '715I',\n '715N',\n '716',\n '716A',\n '719',\n '719A',\n '719C',\n '719E',\n '719G',\n '719I',\n '719J',\n '725D',\n '727',\n '728',\n '728A',\n '728C',\n '731',\n '731A',\n '731B',\n '732',\n '735C',\n '7N Saddle',\n '8 4/10 RD',\n '800',\n '8000J',\n '8000JD',\n '8000P',\n '8004AB',\n '8004D',\n '8004E',\n '8004G',\n '8005',\n '8008D',\n '8008E',\n '8008F',\n '8008G',\n '8008J',\n '8009E',\n '800A',\n '800D',\n '800E',\n '801',\n '8012A',\n '8020A',\n '803',\n '803A',\n '8046BB',\n '804A',\n '804C',\n '805C',\n '805H',\n '806',\n '8068',\n '807',\n '807A',\n '807B',\n '808',\n '8083A',\n '8084C',\n '8086',\n '8086C',\n '808A',\n '808B',\n '808C',\n '809',\n '8090H',\n '8095',\n '810',\n '810A',\n '810B',\n '810C',\n '811',\n '8110',\n '8110B',\n '8111',\n '8112',\n '8112F',\n '8113',\n '8114A',\n '8114AA',\n '8114C',\n '8114H',\n '811A',\n '811B',\n '811C',\n '812',\n '8120AC',\n '8120D',\n '8120J',\n '812A',\n '813',\n '8130D',\n '8131K',\n '8132CH',\n '8132CJ',\n '8132D',\n '813A',\n '813B',\n '814',\n '8146',\n '8146C',\n '8149F',\n '814A',\n '814B',\n '814C',\n '815',\n '815A',\n '816',\n '816A',\n '817',\n '818',\n '8181D',\n '8185',\n '8185B',\n '818B',\n '818D',\n '818G',\n '818I',\n '819',\n '820',\n '820A',\n '821',\n '8217',\n '8217A',\n '821A',\n '821B',\n '822',\n '8224A',\n '8226',\n '8226B',\n '8226C',\n '822A',\n '823',\n '8233',\n '823C',\n '823D',\n '823E',\n '824',\n '8240B',\n '8245',\n '824A',\n '824C',\n '825',\n '825A',\n '825B',\n '825C',\n '825D',\n '825F',\n '826',\n '826C',\n '827',\n '827A',\n '828',\n '8280',\n '8281AA',\n '828A',\n '830A',\n '831',\n '832',\n '8320I',\n '8321D',\n '833',\n '8330',\n '833A',\n '833B',\n '834',\n '8342B',\n '835',\n '8351H',\n '835D',\n '835E',\n '835F',\n '835G',\n '835H',\n '835I',\n '835J',\n '835K',\n '835L',\n '835M',\n '835N',\n '836',\n '8364',\n '8364AD',\n '8366',\n '8369H',\n '836A',\n '836B',\n '836C',\n '837',\n '8370A',\n '8370C',\n '8375',\n '8375AB',\n '8377B',\n '8377J',\n '837A',\n '838',\n '8380',\n '8381M',\n '8384',\n '8384BC',\n '8384G',\n '8384H',\n '8384HA',\n '8384HB',\n '8385',\n '8385A',\n '8385BA',\n '8385EA',\n '8385G',\n '8387A',\n '8389A',\n '838A',\n '838B',\n '838C',\n '838D',\n '839',\n '8390AE',\n '8390HA',\n '839A',\n '839E',\n '839F',\n '840',\n '840A',\n '840C',\n '841',\n '8410F',\n '8413BA',\n '842',\n '842A',\n '842B',\n '843',\n '8433',\n '843A',\n '843C',\n '843D',\n '843E',\n '843F',\n '843G',\n '844',\n '8445F',\n '8446B',\n '844A',\n '844C',\n '844D',\n '845',\n '8451',\n '8453',\n '8457D',\n '8458',\n '845B',\n '845E',\n '846',\n '8460',\n '8460A',\n '8468',\n '846A',\n '846B',\n '846C',\n '846D',\n '847',\n '8470A',\n '8473C',\n '8473D',\n '8478',\n '8479',\n '8479HB',\n '847A',\n '847B',\n '848',\n '8480',\n '8481',\n '8481A',\n '8482',\n '8482A',\n '8487',\n '848A',\n '848B',\n '848C',\n '848D',\n '848E',\n '849',\n '8490',\n '8495',\n '849A',\n '849B',\n '849C',\n '850',\n '8500',\n '8500B',\n '8501',\n '8501B',\n '8501D',\n '8501EG',\n '8503',\n '851',\n '8516',\n '8519',\n '8519A',\n '852',\n '8521',\n '853',\n '8530',\n '8532',\n '8532A',\n '8538B',\n '854',\n '8540',\n '855',\n '855A',\n '855B',\n '855C',\n '855D',\n '855E',\n '855F',\n '856',\n '8565D',\n '8567E',\n '8568',\n '856A',\n '857',\n '8575C',\n '858',\n '8580H',\n '858A',\n '858B',\n '859',\n '859A',\n '859B',\n '860',\n '8601',\n '8601A',\n '8601DB',\n '8601S',\n '8601SC',\n '8601SE',\n '8601SI',\n '860B',\n '860C',\n '860D',\n '860E',\n '860H',\n '861',\n '8613A',\n '8613B',\n '8613BA',\n '861A',\n '861B',\n '862',\n '8623A',\n '8624',\n '8624D',\n '8624E',\n '8625D',\n '862B',\n '863',\n '8630',\n '8638A',\n '864',\n '865',\n '866',\n '867',\n '867A',\n '867E',\n '868',\n '868A',\n '868B',\n '868C',\n '868F',\n '868G',\n '869',\n '870',\n '871',\n '871B',\n '872',\n '872A',\n '873',\n '873A',\n '873B',\n '873C',\n '874',\n '875',\n '875A',\n '875B',\n '875C',\n '877',\n '877A',\n '877B',\n '877E',\n '877G',\n '879A',\n '879C',\n '879D',\n '879E',\n '880',\n '880B',\n '881',\n '882',\n '883',\n '883A',\n '884',\n '884A',\n '884C',\n '885',\n '885A',\n '885B',\n '885C',\n '886',\n '888',\n '888B',\n '888C',\n '889',\n '889A',\n '890',\n '891',\n '891A',\n '892',\n '893',\n '893A',\n '894',\n '895',\n '895A',\n '895C',\n '896',\n '897',\n '897A',\n '897B',\n '897C',\n '898',\n '898A',\n '899',\n '899A',\n '899B',\n '899C',\n '899D',\n '9 Mile Radio Tower Rd',\n '90 Camping Loop',\n '900',\n '900A',\n '901',\n '901A',\n '902',\n '902A',\n '902B',\n '902C',\n '902D',\n '902E',\n '902F',\n '902G',\n '902J',\n '903',\n '903A',\n '904',\n '905',\n '905A',\n '906',\n '906A',\n '907',\n '908',\n '908A',\n '909',\n '910',\n '911',\n '911C',\n '912',\n '912A',\n '912B',\n '913',\n '913A',\n '913B',\n '914',\n '914A',\n '914B',\n '915',\n '959 and Rd X Jct. Rd A',\n 'A043A',\n 'A232C',\n 'A232D',\n ...]"
     },
     "metadata": {}
    }
   ],
   "execution_count": 19
  },
  {
   "cell_type": "code",
   "source": "# Misnamed trail in the State-level originating dataset\nnamed_co_trails[named_co_trails.name == \"Chuckar Trail\"]",
   "metadata": {
    "cell_id": "fd06c57687324a41bef22469f3a95bd2",
    "tags": [],
    "deepnote_to_be_reexecuted": false,
    "source_hash": "8076fe59",
    "execution_start": 1662990321029,
    "execution_millis": 11,
    "deepnote_cell_type": "code",
    "deepnote_cell_height": 244
   },
   "outputs": [
    {
     "output_type": "execute_result",
     "execution_count": 20,
     "data": {
      "application/vnd.deepnote.dataframe.v3+json": {
       "column_count": 40,
       "row_count": 1,
       "columns": [
        {
         "name": "OBJECTID",
         "dtype": "int64",
         "stats": {
          "unique_count": 1,
          "nan_count": 0,
          "min": "147897",
          "max": "147897",
          "histogram": [
           {
            "bin_start": 147896.5,
            "bin_end": 147896.6,
            "count": 0
           },
           {
            "bin_start": 147896.6,
            "bin_end": 147896.7,
            "count": 0
           },
           {
            "bin_start": 147896.7,
            "bin_end": 147896.8,
            "count": 0
           },
           {
            "bin_start": 147896.8,
            "bin_end": 147896.9,
            "count": 0
           },
           {
            "bin_start": 147896.9,
            "bin_end": 147897,
            "count": 0
           },
           {
            "bin_start": 147897,
            "bin_end": 147897.1,
            "count": 1
           },
           {
            "bin_start": 147897.1,
            "bin_end": 147897.2,
            "count": 0
           },
           {
            "bin_start": 147897.2,
            "bin_end": 147897.3,
            "count": 0
           },
           {
            "bin_start": 147897.3,
            "bin_end": 147897.4,
            "count": 0
           },
           {
            "bin_start": 147897.4,
            "bin_end": 147897.5,
            "count": 0
           }
          ]
         }
        },
        {
         "name": "PLAN_ALLOW_MODE_TRNSPRT",
         "dtype": "object",
         "stats": {
          "unique_count": 1,
          "nan_count": 0,
          "categories": [
           {
            "name": "EQU_HIK_ONLY",
            "count": 1
           }
          ]
         }
        },
        {
         "name": "OHV_ROUTE_DSGNTN_LIM",
         "dtype": "object",
         "stats": {
          "unique_count": 0,
          "nan_count": 1,
          "categories": [
           {
            "name": "Missing",
            "count": 1
           }
          ]
         }
        },
        {
         "name": "OHV_DSGNTN_LIM_EXPLAIN",
         "dtype": "object",
         "stats": {
          "unique_count": 0,
          "nan_count": 1,
          "categories": [
           {
            "name": "Missing",
            "count": 1
           }
          ]
         }
        },
        {
         "name": "ROUTE_PRMRY_NM",
         "dtype": "object",
         "stats": {
          "unique_count": 1,
          "nan_count": 0,
          "categories": [
           {
            "name": "Chuckar Trail",
            "count": 1
           }
          ]
         }
        },
        {
         "name": "ROUTE_PRMRY_NUM",
         "dtype": "object",
         "stats": {
          "unique_count": 1,
          "nan_count": 0,
          "categories": [
           {
            "name": "3414T",
            "count": 1
           }
          ]
         }
        },
        {
         "name": "ROUTE_SPCL_DSGNTN_TYPE",
         "dtype": "object",
         "stats": {
          "unique_count": 0,
          "nan_count": 1,
          "categories": [
           {
            "name": "Missing",
            "count": 1
           }
          ]
         }
        },
        {
         "name": "PLAN_ROUTE_DSGNTN_AUTH",
         "dtype": "object",
         "stats": {
          "unique_count": 1,
          "nan_count": 0,
          "categories": [
           {
            "name": "BLM",
            "count": 1
           }
          ]
         }
        },
        {
         "name": "PLAN_ASSET_CLASS",
         "dtype": "object",
         "stats": {
          "unique_count": 1,
          "nan_count": 0,
          "categories": [
           {
            "name": "Transportation System - Trail",
            "count": 1
           }
          ]
         }
        },
        {
         "name": "PLAN_MODE_TRNSPRT",
         "dtype": "object",
         "stats": {
          "unique_count": 1,
          "nan_count": 0,
          "categories": [
           {
            "name": "Non-Mechanized",
            "count": 1
           }
          ]
         }
        },
        {
         "name": "PLAN_ACCESS_RSTRCT",
         "dtype": "object",
         "stats": {
          "unique_count": 1,
          "nan_count": 0,
          "categories": [
           {
            "name": "None",
            "count": 1
           }
          ]
         }
        },
        {
         "name": "PLAN_SEASON_RSTRCT_CODE",
         "dtype": "object",
         "stats": {
          "unique_count": 1,
          "nan_count": 0,
          "categories": [
           {
            "name": "NO",
            "count": 1
           }
          ]
         }
        },
        {
         "name": "PLAN_ADD_MODE_TRNSPRT_RSTRT_CD",
         "dtype": "object",
         "stats": {
          "unique_count": 1,
          "nan_count": 0,
          "categories": [
           {
            "name": "NO",
            "count": 1
           }
          ]
         }
        },
        {
         "name": "PLAN_OHV_ROUTE_DSGNTN",
         "dtype": "object",
         "stats": {
          "unique_count": 1,
          "nan_count": 0,
          "categories": [
           {
            "name": "Limited",
            "count": 1
           }
          ]
         }
        },
        {
         "name": "PLAN_PRMRY_ROUTE_MNGT_OBJTV",
         "dtype": "object",
         "stats": {
          "unique_count": 0,
          "nan_count": 1,
          "categories": [
           {
            "name": "Missing",
            "count": 1
           }
          ]
         }
        },
        {
         "name": "OBSRVE_MODE_TRNSPRT",
         "dtype": "object",
         "stats": {
          "unique_count": 1,
          "nan_count": 0,
          "categories": [
           {
            "name": "Non-Mechanized",
            "count": 1
           }
          ]
         }
        },
        {
         "name": "OBSRVE_ROUTE_USE_CLASS",
         "dtype": "object",
         "stats": {
          "unique_count": 1,
          "nan_count": 0,
          "categories": [
           {
            "name": "Unknown",
            "count": 1
           }
          ]
         }
        },
        {
         "name": "OBSRVE_SRFCE_TYPE",
         "dtype": "object",
         "stats": {
          "unique_count": 1,
          "nan_count": 0,
          "categories": [
           {
            "name": "Unknown",
            "count": 1
           }
          ]
         }
        },
        {
         "name": "OBSRVE_FUNC_CLASS",
         "dtype": "object",
         "stats": {
          "unique_count": 0,
          "nan_count": 1,
          "categories": [
           {
            "name": "Missing",
            "count": 1
           }
          ]
         }
        },
        {
         "name": "ROUTE_PLAN_ID",
         "dtype": "object",
         "stats": {
          "unique_count": 1,
          "nan_count": 0,
          "categories": [
           {
            "name": "6028",
            "count": 1
           }
          ]
         }
        },
        {
         "name": "DSTRBTE_EXTRNL_CODE",
         "dtype": "object",
         "stats": {
          "unique_count": 1,
          "nan_count": 0,
          "categories": [
           {
            "name": "YES",
            "count": 1
           }
          ]
         }
        },
        {
         "name": "FAMS_ID",
         "dtype": "object",
         "stats": {
          "unique_count": 1,
          "nan_count": 0,
          "categories": [
           {
            "name": "L110400",
            "count": 1
           }
          ]
         }
        },
        {
         "name": "GTLF_OWN",
         "dtype": "object",
         "stats": {
          "unique_count": 1,
          "nan_count": 0,
          "categories": [
           {
            "name": "BLM",
            "count": 1
           }
          ]
         }
        },
        {
         "name": "EXSTNG_AUTH_CODE",
         "dtype": "object",
         "stats": {
          "unique_count": 1,
          "nan_count": 0,
          "categories": [
           {
            "name": "UNK",
            "count": 1
           }
          ]
         }
        },
        {
         "name": "NEPA_DOC_NUM",
         "dtype": "object",
         "stats": {
          "unique_count": 1,
          "nan_count": 0,
          "categories": [
           {
            "name": "BLM-CO-DEIS-03-13",
            "count": 1
           }
          ]
         }
        },
        {
         "name": "ADM_UNIT_CD",
         "dtype": "object",
         "stats": {
          "unique_count": 1,
          "nan_count": 0,
          "categories": [
           {
            "name": "COS05000",
            "count": 1
           }
          ]
         }
        },
        {
         "name": "ADMIN_ST",
         "dtype": "object",
         "stats": {
          "unique_count": 1,
          "nan_count": 0,
          "categories": [
           {
            "name": "CO",
            "count": 1
           }
          ]
         }
        },
        {
         "name": "BLM_MILES",
         "dtype": "float64",
         "stats": {
          "unique_count": 1,
          "nan_count": 0,
          "min": "1.01185846",
          "max": "1.01185846",
          "histogram": [
           {
            "bin_start": 0.51185846,
            "bin_end": 0.61185846,
            "count": 0
           },
           {
            "bin_start": 0.61185846,
            "bin_end": 0.71185846,
            "count": 0
           },
           {
            "bin_start": 0.71185846,
            "bin_end": 0.8118584600000001,
            "count": 0
           },
           {
            "bin_start": 0.8118584600000001,
            "bin_end": 0.91185846,
            "count": 0
           },
           {
            "bin_start": 0.91185846,
            "bin_end": 1.01185846,
            "count": 0
           },
           {
            "bin_start": 1.01185846,
            "bin_end": 1.11185846,
            "count": 1
           },
           {
            "bin_start": 1.11185846,
            "bin_end": 1.2118584600000002,
            "count": 0
           },
           {
            "bin_start": 1.2118584600000002,
            "bin_end": 1.31185846,
            "count": 0
           },
           {
            "bin_start": 1.31185846,
            "bin_end": 1.41185846,
            "count": 0
           },
           {
            "bin_start": 1.41185846,
            "bin_end": 1.51185846,
            "count": 0
           }
          ]
         }
        },
        {
         "name": "GIS_MILES",
         "dtype": "float64",
         "stats": {
          "unique_count": 1,
          "nan_count": 0,
          "min": "1.01185846",
          "max": "1.01185846",
          "histogram": [
           {
            "bin_start": 0.51185846,
            "bin_end": 0.61185846,
            "count": 0
           },
           {
            "bin_start": 0.61185846,
            "bin_end": 0.71185846,
            "count": 0
           },
           {
            "bin_start": 0.71185846,
            "bin_end": 0.8118584600000001,
            "count": 0
           },
           {
            "bin_start": 0.8118584600000001,
            "bin_end": 0.91185846,
            "count": 0
           },
           {
            "bin_start": 0.91185846,
            "bin_end": 1.01185846,
            "count": 0
           },
           {
            "bin_start": 1.01185846,
            "bin_end": 1.11185846,
            "count": 1
           },
           {
            "bin_start": 1.11185846,
            "bin_end": 1.2118584600000002,
            "count": 0
           },
           {
            "bin_start": 1.2118584600000002,
            "bin_end": 1.31185846,
            "count": 0
           },
           {
            "bin_start": 1.31185846,
            "bin_end": 1.41185846,
            "count": 0
           },
           {
            "bin_start": 1.41185846,
            "bin_end": 1.51185846,
            "count": 0
           }
          ]
         }
        },
        {
         "name": "COORD_SRC_TYPE",
         "dtype": "object",
         "stats": {
          "unique_count": 1,
          "nan_count": 0,
          "categories": [
           {
            "name": "UNK",
            "count": 1
           }
          ]
         }
        },
        {
         "name": "COORD_SRC2",
         "dtype": "object",
         "stats": {
          "unique_count": 1,
          "nan_count": 0,
          "categories": [
           {
            "name": "UNK",
            "count": 1
           }
          ]
         }
        },
        {
         "name": "DEF_FET_TYPE",
         "dtype": "object",
         "stats": {
          "unique_count": 1,
          "nan_count": 0,
          "categories": [
           {
            "name": "UNK",
            "count": 1
           }
          ]
         }
        },
        {
         "name": "DEF_FET2",
         "dtype": "object",
         "stats": {
          "unique_count": 0,
          "nan_count": 1,
          "categories": [
           {
            "name": "Missing",
            "count": 1
           }
          ]
         }
        },
        {
         "name": "ACCURACY_FT",
         "dtype": "int64",
         "stats": {
          "unique_count": 1,
          "nan_count": 0,
          "min": "-1",
          "max": "-1",
          "histogram": [
           {
            "bin_start": -1.5,
            "bin_end": -1.4,
            "count": 0
           },
           {
            "bin_start": -1.4,
            "bin_end": -1.3,
            "count": 0
           },
           {
            "bin_start": -1.3,
            "bin_end": -1.2,
            "count": 0
           },
           {
            "bin_start": -1.2,
            "bin_end": -1.1,
            "count": 0
           },
           {
            "bin_start": -1.1,
            "bin_end": -1,
            "count": 0
           },
           {
            "bin_start": -1,
            "bin_end": -0.8999999999999999,
            "count": 1
           },
           {
            "bin_start": -0.8999999999999999,
            "bin_end": -0.7999999999999999,
            "count": 0
           },
           {
            "bin_start": -0.7999999999999999,
            "bin_end": -0.7,
            "count": 0
           },
           {
            "bin_start": -0.7,
            "bin_end": -0.6,
            "count": 0
           },
           {
            "bin_start": -0.6,
            "bin_end": -0.5,
            "count": 0
           }
          ]
         }
        },
        {
         "name": "MODIFY_DATE",
         "dtype": "object",
         "stats": {
          "unique_count": 1,
          "nan_count": 0,
          "categories": [
           {
            "name": "2021/01/25 21:41:54+00",
            "count": 1
           }
          ]
         }
        },
        {
         "name": "CREATE_DATE",
         "dtype": "object",
         "stats": {
          "unique_count": 1,
          "nan_count": 0,
          "categories": [
           {
            "name": "2015/11/25 19:57:31+00",
            "count": 1
           }
          ]
         }
        },
        {
         "name": "GlobalID",
         "dtype": "object",
         "stats": {
          "unique_count": 1,
          "nan_count": 0,
          "categories": [
           {
            "name": "{1B1BE269-FFA8-4EE3-9A9C-E2549B8C132E}",
            "count": 1
           }
          ]
         }
        },
        {
         "name": "SERIAL_NUM",
         "dtype": "object",
         "stats": {
          "unique_count": 0,
          "nan_count": 1,
          "categories": [
           {
            "name": "Missing",
            "count": 1
           }
          ]
         }
        },
        {
         "name": "Shape__Length",
         "dtype": "float64",
         "stats": {
          "unique_count": 1,
          "nan_count": 0,
          "min": "1628.43159272606",
          "max": "1628.43159272606",
          "histogram": [
           {
            "bin_start": 1627.93159272606,
            "bin_end": 1628.03159272606,
            "count": 0
           },
           {
            "bin_start": 1628.03159272606,
            "bin_end": 1628.13159272606,
            "count": 0
           },
           {
            "bin_start": 1628.13159272606,
            "bin_end": 1628.23159272606,
            "count": 0
           },
           {
            "bin_start": 1628.23159272606,
            "bin_end": 1628.33159272606,
            "count": 0
           },
           {
            "bin_start": 1628.33159272606,
            "bin_end": 1628.43159272606,
            "count": 0
           },
           {
            "bin_start": 1628.43159272606,
            "bin_end": 1628.53159272606,
            "count": 1
           },
           {
            "bin_start": 1628.53159272606,
            "bin_end": 1628.63159272606,
            "count": 0
           },
           {
            "bin_start": 1628.63159272606,
            "bin_end": 1628.73159272606,
            "count": 0
           },
           {
            "bin_start": 1628.73159272606,
            "bin_end": 1628.83159272606,
            "count": 0
           },
           {
            "bin_start": 1628.83159272606,
            "bin_end": 1628.93159272606,
            "count": 0
           }
          ]
         }
        },
        {
         "name": "name",
         "dtype": "object",
         "stats": {
          "unique_count": 1,
          "nan_count": 0,
          "categories": [
           {
            "name": "Chuckar Trail",
            "count": 1
           }
          ]
         }
        },
        {
         "name": "_deepnote_index_column",
         "dtype": "int64"
        }
       ],
       "rows": [
        {
         "OBJECTID": "147897",
         "PLAN_ALLOW_MODE_TRNSPRT": "EQU_HIK_ONLY",
         "OHV_ROUTE_DSGNTN_LIM": "nan",
         "OHV_DSGNTN_LIM_EXPLAIN": "nan",
         "ROUTE_PRMRY_NM": "Chuckar Trail",
         "ROUTE_PRMRY_NUM": "3414T",
         "ROUTE_SPCL_DSGNTN_TYPE": "nan",
         "PLAN_ROUTE_DSGNTN_AUTH": "BLM",
         "PLAN_ASSET_CLASS": "Transportation System - Trail",
         "PLAN_MODE_TRNSPRT": "Non-Mechanized",
         "PLAN_ACCESS_RSTRCT": "None",
         "PLAN_SEASON_RSTRCT_CODE": "NO",
         "PLAN_ADD_MODE_TRNSPRT_RSTRT_CD": "NO",
         "PLAN_OHV_ROUTE_DSGNTN": "Limited",
         "PLAN_PRMRY_ROUTE_MNGT_OBJTV": "nan",
         "OBSRVE_MODE_TRNSPRT": "Non-Mechanized",
         "OBSRVE_ROUTE_USE_CLASS": "Unknown",
         "OBSRVE_SRFCE_TYPE": "Unknown",
         "OBSRVE_FUNC_CLASS": "nan",
         "ROUTE_PLAN_ID": "6028",
         "DSTRBTE_EXTRNL_CODE": "YES",
         "FAMS_ID": "L110400",
         "GTLF_OWN": "BLM",
         "EXSTNG_AUTH_CODE": "UNK",
         "NEPA_DOC_NUM": "BLM-CO-DEIS-03-13",
         "ADM_UNIT_CD": "COS05000",
         "ADMIN_ST": "CO",
         "BLM_MILES": "1.01185846",
         "GIS_MILES": "1.01185846",
         "COORD_SRC_TYPE": "UNK",
         "COORD_SRC2": "UNK",
         "DEF_FET_TYPE": "UNK",
         "DEF_FET2": "nan",
         "ACCURACY_FT": "-1",
         "MODIFY_DATE": "2021/01/25 21:41:54+00",
         "CREATE_DATE": "2015/11/25 19:57:31+00",
         "GlobalID": "{1B1BE269-FFA8-4EE3-9A9C-E2549B8C132E}",
         "SERIAL_NUM": "nan",
         "Shape__Length": "1628.43159272606",
         "name": "Chuckar Trail",
         "_deepnote_index_column": "22862"
        }
       ]
      },
      "text/plain": "       OBJECTID PLAN_ALLOW_MODE_TRNSPRT OHV_ROUTE_DSGNTN_LIM  \\\n22862    147897            EQU_HIK_ONLY                  NaN   \n\n      OHV_DSGNTN_LIM_EXPLAIN ROUTE_PRMRY_NM ROUTE_PRMRY_NUM  \\\n22862                    NaN  Chuckar Trail           3414T   \n\n      ROUTE_SPCL_DSGNTN_TYPE PLAN_ROUTE_DSGNTN_AUTH  \\\n22862                    NaN                    BLM   \n\n                    PLAN_ASSET_CLASS PLAN_MODE_TRNSPRT  ... COORD_SRC2  \\\n22862  Transportation System - Trail    Non-Mechanized  ...        UNK   \n\n      DEF_FET_TYPE DEF_FET2 ACCURACY_FT             MODIFY_DATE  \\\n22862          UNK      NaN          -1  2021/01/25 21:41:54+00   \n\n                  CREATE_DATE                                GlobalID  \\\n22862  2015/11/25 19:57:31+00  {1B1BE269-FFA8-4EE3-9A9C-E2549B8C132E}   \n\n      SERIAL_NUM Shape__Length           name  \n22862        NaN   1628.431593  Chuckar Trail  \n\n[1 rows x 40 columns]",
      "text/html": "<div>\n<style scoped>\n    .dataframe tbody tr th:only-of-type {\n        vertical-align: middle;\n    }\n\n    .dataframe tbody tr th {\n        vertical-align: top;\n    }\n\n    .dataframe thead th {\n        text-align: right;\n    }\n</style>\n<table border=\"1\" class=\"dataframe\">\n  <thead>\n    <tr style=\"text-align: right;\">\n      <th></th>\n      <th>OBJECTID</th>\n      <th>PLAN_ALLOW_MODE_TRNSPRT</th>\n      <th>OHV_ROUTE_DSGNTN_LIM</th>\n      <th>OHV_DSGNTN_LIM_EXPLAIN</th>\n      <th>ROUTE_PRMRY_NM</th>\n      <th>ROUTE_PRMRY_NUM</th>\n      <th>ROUTE_SPCL_DSGNTN_TYPE</th>\n      <th>PLAN_ROUTE_DSGNTN_AUTH</th>\n      <th>PLAN_ASSET_CLASS</th>\n      <th>PLAN_MODE_TRNSPRT</th>\n      <th>...</th>\n      <th>COORD_SRC2</th>\n      <th>DEF_FET_TYPE</th>\n      <th>DEF_FET2</th>\n      <th>ACCURACY_FT</th>\n      <th>MODIFY_DATE</th>\n      <th>CREATE_DATE</th>\n      <th>GlobalID</th>\n      <th>SERIAL_NUM</th>\n      <th>Shape__Length</th>\n      <th>name</th>\n    </tr>\n  </thead>\n  <tbody>\n    <tr>\n      <th>22862</th>\n      <td>147897</td>\n      <td>EQU_HIK_ONLY</td>\n      <td>NaN</td>\n      <td>NaN</td>\n      <td>Chuckar Trail</td>\n      <td>3414T</td>\n      <td>NaN</td>\n      <td>BLM</td>\n      <td>Transportation System - Trail</td>\n      <td>Non-Mechanized</td>\n      <td>...</td>\n      <td>UNK</td>\n      <td>UNK</td>\n      <td>NaN</td>\n      <td>-1</td>\n      <td>2021/01/25 21:41:54+00</td>\n      <td>2015/11/25 19:57:31+00</td>\n      <td>{1B1BE269-FFA8-4EE3-9A9C-E2549B8C132E}</td>\n      <td>NaN</td>\n      <td>1628.431593</td>\n      <td>Chuckar Trail</td>\n    </tr>\n  </tbody>\n</table>\n<p>1 rows × 40 columns</p>\n</div>"
     },
     "metadata": {}
    }
   ],
   "execution_count": 20
  },
  {
   "cell_type": "code",
   "source": "# Sidewinder trail shows up in multiple records with different properties indicating a non-motorized section\nnamed_co_trails[named_co_trails.name == \"Sidewinder\"]",
   "metadata": {
    "cell_id": "3cece1634dd04cfb9c563c67989335e3",
    "tags": [],
    "deepnote_to_be_reexecuted": false,
    "source_hash": "3129b108",
    "execution_start": 1662990380185,
    "execution_millis": 81,
    "deepnote_cell_type": "code",
    "deepnote_cell_height": 618
   },
   "outputs": [
    {
     "output_type": "execute_result",
     "execution_count": 24,
     "data": {
      "application/vnd.deepnote.dataframe.v3+json": {
       "column_count": 40,
       "row_count": 13,
       "columns": [
        {
         "name": "OBJECTID",
         "dtype": "int64",
         "stats": {
          "unique_count": 13,
          "nan_count": 0,
          "min": "142835",
          "max": "233390",
          "histogram": [
           {
            "bin_start": 142835,
            "bin_end": 151890.5,
            "count": 5
           },
           {
            "bin_start": 151890.5,
            "bin_end": 160946,
            "count": 2
           },
           {
            "bin_start": 160946,
            "bin_end": 170001.5,
            "count": 2
           },
           {
            "bin_start": 170001.5,
            "bin_end": 179057,
            "count": 0
           },
           {
            "bin_start": 179057,
            "bin_end": 188112.5,
            "count": 0
           },
           {
            "bin_start": 188112.5,
            "bin_end": 197168,
            "count": 0
           },
           {
            "bin_start": 197168,
            "bin_end": 206223.5,
            "count": 0
           },
           {
            "bin_start": 206223.5,
            "bin_end": 215279,
            "count": 0
           },
           {
            "bin_start": 215279,
            "bin_end": 224334.5,
            "count": 0
           },
           {
            "bin_start": 224334.5,
            "bin_end": 233390,
            "count": 4
           }
          ]
         }
        },
        {
         "name": "PLAN_ALLOW_MODE_TRNSPRT",
         "dtype": "object",
         "stats": {
          "unique_count": 2,
          "nan_count": 0,
          "categories": [
           {
            "name": "MTC_SHARED",
            "count": 9
           },
           {
            "name": "NON_MOTO_SHARED",
            "count": 4
           }
          ]
         }
        },
        {
         "name": "OHV_ROUTE_DSGNTN_LIM",
         "dtype": "object",
         "stats": {
          "unique_count": 0,
          "nan_count": 13,
          "categories": [
           {
            "name": "Missing",
            "count": 13
           }
          ]
         }
        },
        {
         "name": "OHV_DSGNTN_LIM_EXPLAIN",
         "dtype": "object",
         "stats": {
          "unique_count": 0,
          "nan_count": 13,
          "categories": [
           {
            "name": "Missing",
            "count": 13
           }
          ]
         }
        },
        {
         "name": "ROUTE_PRMRY_NM",
         "dtype": "object",
         "stats": {
          "unique_count": 1,
          "nan_count": 0,
          "categories": [
           {
            "name": "Sidewinder",
            "count": 13
           }
          ]
         }
        },
        {
         "name": "ROUTE_PRMRY_NUM",
         "dtype": "object",
         "stats": {
          "unique_count": 1,
          "nan_count": 9,
          "categories": [
           {
            "name": "42206T",
            "count": 4
           },
           {
            "name": "Missing",
            "count": 9
           }
          ]
         }
        },
        {
         "name": "ROUTE_SPCL_DSGNTN_TYPE",
         "dtype": "object",
         "stats": {
          "unique_count": 0,
          "nan_count": 13,
          "categories": [
           {
            "name": "Missing",
            "count": 13
           }
          ]
         }
        },
        {
         "name": "PLAN_ROUTE_DSGNTN_AUTH",
         "dtype": "object",
         "stats": {
          "unique_count": 1,
          "nan_count": 0,
          "categories": [
           {
            "name": "BLM",
            "count": 13
           }
          ]
         }
        },
        {
         "name": "PLAN_ASSET_CLASS",
         "dtype": "object",
         "stats": {
          "unique_count": 1,
          "nan_count": 0,
          "categories": [
           {
            "name": "Transportation System - Trail",
            "count": 13
           }
          ]
         }
        },
        {
         "name": "PLAN_MODE_TRNSPRT",
         "dtype": "object",
         "stats": {
          "unique_count": 2,
          "nan_count": 0,
          "categories": [
           {
            "name": "Motorized",
            "count": 9
           },
           {
            "name": "Non-Motorized",
            "count": 4
           }
          ]
         }
        },
        {
         "name": "PLAN_ACCESS_RSTRCT",
         "dtype": "object",
         "stats": {
          "unique_count": 1,
          "nan_count": 0,
          "categories": [
           {
            "name": "None",
            "count": 13
           }
          ]
         }
        },
        {
         "name": "PLAN_SEASON_RSTRCT_CODE",
         "dtype": "object",
         "stats": {
          "unique_count": 2,
          "nan_count": 0,
          "categories": [
           {
            "name": "NO",
            "count": 9
           },
           {
            "name": "YES",
            "count": 4
           }
          ]
         }
        },
        {
         "name": "PLAN_ADD_MODE_TRNSPRT_RSTRT_CD",
         "dtype": "object",
         "stats": {
          "unique_count": 1,
          "nan_count": 0,
          "categories": [
           {
            "name": "NO",
            "count": 13
           }
          ]
         }
        },
        {
         "name": "PLAN_OHV_ROUTE_DSGNTN",
         "dtype": "object",
         "stats": {
          "unique_count": 2,
          "nan_count": 0,
          "categories": [
           {
            "name": "Limited",
            "count": 9
           },
           {
            "name": "Closed",
            "count": 4
           }
          ]
         }
        },
        {
         "name": "PLAN_PRMRY_ROUTE_MNGT_OBJTV",
         "dtype": "object",
         "stats": {
          "unique_count": 1,
          "nan_count": 9,
          "categories": [
           {
            "name": "Experience",
            "count": 4
           },
           {
            "name": "Missing",
            "count": 9
           }
          ]
         }
        },
        {
         "name": "OBSRVE_MODE_TRNSPRT",
         "dtype": "object",
         "stats": {
          "unique_count": 2,
          "nan_count": 0,
          "categories": [
           {
            "name": "Motorized",
            "count": 9
           },
           {
            "name": "Non-Motorized",
            "count": 4
           }
          ]
         }
        },
        {
         "name": "OBSRVE_ROUTE_USE_CLASS",
         "dtype": "object",
         "stats": {
          "unique_count": 3,
          "nan_count": 0,
          "categories": [
           {
            "name": "Unknown",
            "count": 7
           },
           {
            "name": "Non-Motorized",
            "count": 4
           },
           {
            "name": "Motorized Single Track",
            "count": 2
           }
          ]
         }
        },
        {
         "name": "OBSRVE_SRFCE_TYPE",
         "dtype": "object",
         "stats": {
          "unique_count": 2,
          "nan_count": 0,
          "categories": [
           {
            "name": "Natural",
            "count": 9
           },
           {
            "name": "Natural Improved",
            "count": 4
           }
          ]
         }
        },
        {
         "name": "OBSRVE_FUNC_CLASS",
         "dtype": "object",
         "stats": {
          "unique_count": 1,
          "nan_count": 9,
          "categories": [
           {
            "name": "Local",
            "count": 4
           },
           {
            "name": "Missing",
            "count": 9
           }
          ]
         }
        },
        {
         "name": "ROUTE_PLAN_ID",
         "dtype": "object",
         "stats": {
          "unique_count": 8,
          "nan_count": 4,
          "categories": [
           {
            "name": "7464",
            "count": 2
           },
           {
            "name": "7 others",
            "count": 7
           },
           {
            "name": "Missing",
            "count": 4
           }
          ]
         }
        },
        {
         "name": "DSTRBTE_EXTRNL_CODE",
         "dtype": "object",
         "stats": {
          "unique_count": 1,
          "nan_count": 0,
          "categories": [
           {
            "name": "YES",
            "count": 13
           }
          ]
         }
        },
        {
         "name": "FAMS_ID",
         "dtype": "object",
         "stats": {
          "unique_count": 0,
          "nan_count": 13,
          "categories": [
           {
            "name": "Missing",
            "count": 13
           }
          ]
         }
        },
        {
         "name": "GTLF_OWN",
         "dtype": "object",
         "stats": {
          "unique_count": 1,
          "nan_count": 0,
          "categories": [
           {
            "name": "BLM",
            "count": 13
           }
          ]
         }
        },
        {
         "name": "EXSTNG_AUTH_CODE",
         "dtype": "object",
         "stats": {
          "unique_count": 2,
          "nan_count": 0,
          "categories": [
           {
            "name": "UNK",
            "count": 9
           },
           {
            "name": "YES",
            "count": 4
           }
          ]
         }
        },
        {
         "name": "NEPA_DOC_NUM",
         "dtype": "object",
         "stats": {
          "unique_count": 1,
          "nan_count": 4,
          "categories": [
           {
            "name": "BLM-CO-DEIS-03-13",
            "count": 9
           },
           {
            "name": "Missing",
            "count": 4
           }
          ]
         }
        },
        {
         "name": "ADM_UNIT_CD",
         "dtype": "object",
         "stats": {
          "unique_count": 2,
          "nan_count": 0,
          "categories": [
           {
            "name": "COS05000",
            "count": 9
           },
           {
            "name": "COS01000",
            "count": 4
           }
          ]
         }
        },
        {
         "name": "ADMIN_ST",
         "dtype": "object",
         "stats": {
          "unique_count": 1,
          "nan_count": 0,
          "categories": [
           {
            "name": "CO",
            "count": 13
           }
          ]
         }
        },
        {
         "name": "BLM_MILES",
         "dtype": "float64",
         "stats": {
          "unique_count": 10,
          "nan_count": 0,
          "min": "0.0",
          "max": "6.87598205",
          "histogram": [
           {
            "bin_start": 0,
            "bin_end": 0.687598205,
            "count": 7
           },
           {
            "bin_start": 0.687598205,
            "bin_end": 1.37519641,
            "count": 1
           },
           {
            "bin_start": 1.37519641,
            "bin_end": 2.062794615,
            "count": 1
           },
           {
            "bin_start": 2.062794615,
            "bin_end": 2.75039282,
            "count": 2
           },
           {
            "bin_start": 2.75039282,
            "bin_end": 3.437991025,
            "count": 1
           },
           {
            "bin_start": 3.437991025,
            "bin_end": 4.12558923,
            "count": 0
           },
           {
            "bin_start": 4.12558923,
            "bin_end": 4.813187435,
            "count": 0
           },
           {
            "bin_start": 4.813187435,
            "bin_end": 5.50078564,
            "count": 0
           },
           {
            "bin_start": 5.50078564,
            "bin_end": 6.188383845000001,
            "count": 0
           },
           {
            "bin_start": 6.188383845000001,
            "bin_end": 6.87598205,
            "count": 1
           }
          ]
         }
        },
        {
         "name": "GIS_MILES",
         "dtype": "float64",
         "stats": {
          "unique_count": 13,
          "nan_count": 0,
          "min": "0.00022982",
          "max": "6.87598205",
          "histogram": [
           {
            "bin_start": 0.00022982,
            "bin_end": 0.687805043,
            "count": 7
           },
           {
            "bin_start": 0.687805043,
            "bin_end": 1.3753802659999999,
            "count": 1
           },
           {
            "bin_start": 1.3753802659999999,
            "bin_end": 2.0629554889999997,
            "count": 1
           },
           {
            "bin_start": 2.0629554889999997,
            "bin_end": 2.7505307119999998,
            "count": 2
           },
           {
            "bin_start": 2.7505307119999998,
            "bin_end": 3.438105935,
            "count": 1
           },
           {
            "bin_start": 3.438105935,
            "bin_end": 4.125681158,
            "count": 0
           },
           {
            "bin_start": 4.125681158,
            "bin_end": 4.813256381,
            "count": 0
           },
           {
            "bin_start": 4.813256381,
            "bin_end": 5.500831604,
            "count": 0
           },
           {
            "bin_start": 5.500831604,
            "bin_end": 6.188406827,
            "count": 0
           },
           {
            "bin_start": 6.188406827,
            "bin_end": 6.87598205,
            "count": 1
           }
          ]
         }
        },
        {
         "name": "COORD_SRC_TYPE",
         "dtype": "object",
         "stats": {
          "unique_count": 2,
          "nan_count": 0,
          "categories": [
           {
            "name": "GPS",
            "count": 7
           },
           {
            "name": "UNK",
            "count": 6
           }
          ]
         }
        },
        {
         "name": "COORD_SRC2",
         "dtype": "object",
         "stats": {
          "unique_count": 1,
          "nan_count": 4,
          "categories": [
           {
            "name": "UNK",
            "count": 9
           },
           {
            "name": "Missing",
            "count": 4
           }
          ]
         }
        },
        {
         "name": "DEF_FET_TYPE",
         "dtype": "object",
         "stats": {
          "unique_count": 1,
          "nan_count": 0,
          "categories": [
           {
            "name": "UNK",
            "count": 13
           }
          ]
         }
        },
        {
         "name": "DEF_FET2",
         "dtype": "object",
         "stats": {
          "unique_count": 0,
          "nan_count": 13,
          "categories": [
           {
            "name": "Missing",
            "count": 13
           }
          ]
         }
        },
        {
         "name": "ACCURACY_FT",
         "dtype": "int64",
         "stats": {
          "unique_count": 1,
          "nan_count": 0,
          "min": "-1",
          "max": "-1",
          "histogram": [
           {
            "bin_start": -1.5,
            "bin_end": -1.4,
            "count": 0
           },
           {
            "bin_start": -1.4,
            "bin_end": -1.3,
            "count": 0
           },
           {
            "bin_start": -1.3,
            "bin_end": -1.2,
            "count": 0
           },
           {
            "bin_start": -1.2,
            "bin_end": -1.1,
            "count": 0
           },
           {
            "bin_start": -1.1,
            "bin_end": -1,
            "count": 0
           },
           {
            "bin_start": -1,
            "bin_end": -0.8999999999999999,
            "count": 13
           },
           {
            "bin_start": -0.8999999999999999,
            "bin_end": -0.7999999999999999,
            "count": 0
           },
           {
            "bin_start": -0.7999999999999999,
            "bin_end": -0.7,
            "count": 0
           },
           {
            "bin_start": -0.7,
            "bin_end": -0.6,
            "count": 0
           },
           {
            "bin_start": -0.6,
            "bin_end": -0.5,
            "count": 0
           }
          ]
         }
        },
        {
         "name": "MODIFY_DATE",
         "dtype": "object",
         "stats": {
          "unique_count": 8,
          "nan_count": 0,
          "categories": [
           {
            "name": "2021/01/25 21:42:45+00",
            "count": 3
           },
           {
            "name": "2021/12/16 20:33:20+00",
            "count": 3
           },
           {
            "name": "6 others",
            "count": 7
           }
          ]
         }
        },
        {
         "name": "CREATE_DATE",
         "dtype": "object",
         "stats": {
          "unique_count": 2,
          "nan_count": 0,
          "categories": [
           {
            "name": "2015/11/25 19:57:31+00",
            "count": 9
           },
           {
            "name": "2021/06/17 20:00:48+00",
            "count": 4
           }
          ]
         }
        },
        {
         "name": "GlobalID",
         "dtype": "object",
         "stats": {
          "unique_count": 13,
          "nan_count": 0,
          "categories": [
           {
            "name": "{3AF10556-DE0A-49FC-90E6-318ED3CFF329}",
            "count": 1
           },
           {
            "name": "{A02C44E2-496C-402E-8ECB-5B01148ED456}",
            "count": 1
           },
           {
            "name": "11 others",
            "count": 11
           }
          ]
         }
        },
        {
         "name": "SERIAL_NUM",
         "dtype": "object",
         "stats": {
          "unique_count": 0,
          "nan_count": 13,
          "categories": [
           {
            "name": "Missing",
            "count": 13
           }
          ]
         }
        },
        {
         "name": "Shape__Length",
         "dtype": "float64",
         "stats": {
          "unique_count": 13,
          "nan_count": 0,
          "min": "0.369853592655256",
          "max": "11065.8425835748",
          "histogram": [
           {
            "bin_start": 0.369853592655256,
            "bin_end": 1106.9171265908697,
            "count": 7
           },
           {
            "bin_start": 1106.9171265908697,
            "bin_end": 2213.4643995890838,
            "count": 1
           },
           {
            "bin_start": 2213.4643995890838,
            "bin_end": 3320.011672587298,
            "count": 1
           },
           {
            "bin_start": 3320.011672587298,
            "bin_end": 4426.558945585512,
            "count": 2
           },
           {
            "bin_start": 4426.558945585512,
            "bin_end": 5533.106218583726,
            "count": 1
           },
           {
            "bin_start": 5533.106218583726,
            "bin_end": 6639.653491581941,
            "count": 0
           },
           {
            "bin_start": 6639.653491581941,
            "bin_end": 7746.200764580156,
            "count": 0
           },
           {
            "bin_start": 7746.200764580156,
            "bin_end": 8852.74803757837,
            "count": 0
           },
           {
            "bin_start": 8852.74803757837,
            "bin_end": 9959.295310576585,
            "count": 0
           },
           {
            "bin_start": 9959.295310576585,
            "bin_end": 11065.8425835748,
            "count": 1
           }
          ]
         }
        },
        {
         "name": "name",
         "dtype": "object",
         "stats": {
          "unique_count": 1,
          "nan_count": 0,
          "categories": [
           {
            "name": "Sidewinder",
            "count": 13
           }
          ]
         }
        },
        {
         "name": "_deepnote_index_column",
         "dtype": "int64"
        }
       ],
       "rows": [
        {
         "OBJECTID": "142835",
         "PLAN_ALLOW_MODE_TRNSPRT": "MTC_SHARED",
         "OHV_ROUTE_DSGNTN_LIM": "nan",
         "OHV_DSGNTN_LIM_EXPLAIN": "nan",
         "ROUTE_PRMRY_NM": "Sidewinder",
         "ROUTE_PRMRY_NUM": "nan",
         "ROUTE_SPCL_DSGNTN_TYPE": "nan",
         "PLAN_ROUTE_DSGNTN_AUTH": "BLM",
         "PLAN_ASSET_CLASS": "Transportation System - Trail",
         "PLAN_MODE_TRNSPRT": "Motorized",
         "PLAN_ACCESS_RSTRCT": "None",
         "PLAN_SEASON_RSTRCT_CODE": "NO",
         "PLAN_ADD_MODE_TRNSPRT_RSTRT_CD": "NO",
         "PLAN_OHV_ROUTE_DSGNTN": "Limited",
         "PLAN_PRMRY_ROUTE_MNGT_OBJTV": "nan",
         "OBSRVE_MODE_TRNSPRT": "Motorized",
         "OBSRVE_ROUTE_USE_CLASS": "Unknown",
         "OBSRVE_SRFCE_TYPE": "Natural",
         "OBSRVE_FUNC_CLASS": "nan",
         "ROUTE_PLAN_ID": "7452",
         "DSTRBTE_EXTRNL_CODE": "YES",
         "FAMS_ID": "nan",
         "GTLF_OWN": "BLM",
         "EXSTNG_AUTH_CODE": "UNK",
         "NEPA_DOC_NUM": "BLM-CO-DEIS-03-13",
         "ADM_UNIT_CD": "COS05000",
         "ADMIN_ST": "CO",
         "BLM_MILES": "6.87598205",
         "GIS_MILES": "6.87598205",
         "COORD_SRC_TYPE": "UNK",
         "COORD_SRC2": "UNK",
         "DEF_FET_TYPE": "UNK",
         "DEF_FET2": "nan",
         "ACCURACY_FT": "-1",
         "MODIFY_DATE": "2021/01/25 21:42:41+00",
         "CREATE_DATE": "2015/11/25 19:57:31+00",
         "GlobalID": "{3AF10556-DE0A-49FC-90E6-318ED3CFF329}",
         "SERIAL_NUM": "nan",
         "Shape__Length": "11065.8425835748",
         "name": "Sidewinder",
         "_deepnote_index_column": "20591"
        },
        {
         "OBJECTID": "144515",
         "PLAN_ALLOW_MODE_TRNSPRT": "MTC_SHARED",
         "OHV_ROUTE_DSGNTN_LIM": "nan",
         "OHV_DSGNTN_LIM_EXPLAIN": "nan",
         "ROUTE_PRMRY_NM": "Sidewinder",
         "ROUTE_PRMRY_NUM": "nan",
         "ROUTE_SPCL_DSGNTN_TYPE": "nan",
         "PLAN_ROUTE_DSGNTN_AUTH": "BLM",
         "PLAN_ASSET_CLASS": "Transportation System - Trail",
         "PLAN_MODE_TRNSPRT": "Motorized",
         "PLAN_ACCESS_RSTRCT": "None",
         "PLAN_SEASON_RSTRCT_CODE": "NO",
         "PLAN_ADD_MODE_TRNSPRT_RSTRT_CD": "NO",
         "PLAN_OHV_ROUTE_DSGNTN": "Limited",
         "PLAN_PRMRY_ROUTE_MNGT_OBJTV": "nan",
         "OBSRVE_MODE_TRNSPRT": "Motorized",
         "OBSRVE_ROUTE_USE_CLASS": "Unknown",
         "OBSRVE_SRFCE_TYPE": "Natural",
         "OBSRVE_FUNC_CLASS": "nan",
         "ROUTE_PLAN_ID": "7465",
         "DSTRBTE_EXTRNL_CODE": "YES",
         "FAMS_ID": "nan",
         "GTLF_OWN": "BLM",
         "EXSTNG_AUTH_CODE": "UNK",
         "NEPA_DOC_NUM": "BLM-CO-DEIS-03-13",
         "ADM_UNIT_CD": "COS05000",
         "ADMIN_ST": "CO",
         "BLM_MILES": "1.36668112",
         "GIS_MILES": "1.36668112",
         "COORD_SRC_TYPE": "UNK",
         "COORD_SRC2": "UNK",
         "DEF_FET_TYPE": "UNK",
         "DEF_FET2": "nan",
         "ACCURACY_FT": "-1",
         "MODIFY_DATE": "2021/01/25 21:42:43+00",
         "CREATE_DATE": "2015/11/25 19:57:31+00",
         "GlobalID": "{A02C44E2-496C-402E-8ECB-5B01148ED456}",
         "SERIAL_NUM": "nan",
         "Shape__Length": "2199.46445179482",
         "name": "Sidewinder",
         "_deepnote_index_column": "21378"
        },
        {
         "OBJECTID": "146682",
         "PLAN_ALLOW_MODE_TRNSPRT": "MTC_SHARED",
         "OHV_ROUTE_DSGNTN_LIM": "nan",
         "OHV_DSGNTN_LIM_EXPLAIN": "nan",
         "ROUTE_PRMRY_NM": "Sidewinder",
         "ROUTE_PRMRY_NUM": "nan",
         "ROUTE_SPCL_DSGNTN_TYPE": "nan",
         "PLAN_ROUTE_DSGNTN_AUTH": "BLM",
         "PLAN_ASSET_CLASS": "Transportation System - Trail",
         "PLAN_MODE_TRNSPRT": "Motorized",
         "PLAN_ACCESS_RSTRCT": "None",
         "PLAN_SEASON_RSTRCT_CODE": "NO",
         "PLAN_ADD_MODE_TRNSPRT_RSTRT_CD": "NO",
         "PLAN_OHV_ROUTE_DSGNTN": "Limited",
         "PLAN_PRMRY_ROUTE_MNGT_OBJTV": "nan",
         "OBSRVE_MODE_TRNSPRT": "Motorized",
         "OBSRVE_ROUTE_USE_CLASS": "Motorized Single Track",
         "OBSRVE_SRFCE_TYPE": "Natural",
         "OBSRVE_FUNC_CLASS": "nan",
         "ROUTE_PLAN_ID": "7464",
         "DSTRBTE_EXTRNL_CODE": "YES",
         "FAMS_ID": "nan",
         "GTLF_OWN": "BLM",
         "EXSTNG_AUTH_CODE": "UNK",
         "NEPA_DOC_NUM": "BLM-CO-DEIS-03-13",
         "ADM_UNIT_CD": "COS05000",
         "ADMIN_ST": "CO",
         "BLM_MILES": "0.5877372",
         "GIS_MILES": "0.5877372",
         "COORD_SRC_TYPE": "GPS",
         "COORD_SRC2": "UNK",
         "DEF_FET_TYPE": "UNK",
         "DEF_FET2": "nan",
         "ACCURACY_FT": "-1",
         "MODIFY_DATE": "2021/01/25 21:42:45+00",
         "CREATE_DATE": "2015/11/25 19:57:31+00",
         "GlobalID": "{63FE67ED-680E-4B2A-A0D5-0BC23D69F81F}",
         "SERIAL_NUM": "nan",
         "Shape__Length": "945.873236187497",
         "name": "Sidewinder",
         "_deepnote_index_column": "22321"
        },
        {
         "OBJECTID": "146683",
         "PLAN_ALLOW_MODE_TRNSPRT": "MTC_SHARED",
         "OHV_ROUTE_DSGNTN_LIM": "nan",
         "OHV_DSGNTN_LIM_EXPLAIN": "nan",
         "ROUTE_PRMRY_NM": "Sidewinder",
         "ROUTE_PRMRY_NUM": "nan",
         "ROUTE_SPCL_DSGNTN_TYPE": "nan",
         "PLAN_ROUTE_DSGNTN_AUTH": "BLM",
         "PLAN_ASSET_CLASS": "Transportation System - Trail",
         "PLAN_MODE_TRNSPRT": "Motorized",
         "PLAN_ACCESS_RSTRCT": "None",
         "PLAN_SEASON_RSTRCT_CODE": "NO",
         "PLAN_ADD_MODE_TRNSPRT_RSTRT_CD": "NO",
         "PLAN_OHV_ROUTE_DSGNTN": "Limited",
         "PLAN_PRMRY_ROUTE_MNGT_OBJTV": "nan",
         "OBSRVE_MODE_TRNSPRT": "Motorized",
         "OBSRVE_ROUTE_USE_CLASS": "Motorized Single Track",
         "OBSRVE_SRFCE_TYPE": "Natural",
         "OBSRVE_FUNC_CLASS": "nan",
         "ROUTE_PLAN_ID": "7464",
         "DSTRBTE_EXTRNL_CODE": "YES",
         "FAMS_ID": "nan",
         "GTLF_OWN": "BLM",
         "EXSTNG_AUTH_CODE": "UNK",
         "NEPA_DOC_NUM": "BLM-CO-DEIS-03-13",
         "ADM_UNIT_CD": "COS05000",
         "ADMIN_ST": "CO",
         "BLM_MILES": "0.00022982",
         "GIS_MILES": "0.00022982",
         "COORD_SRC_TYPE": "GPS",
         "COORD_SRC2": "UNK",
         "DEF_FET_TYPE": "UNK",
         "DEF_FET2": "nan",
         "ACCURACY_FT": "-1",
         "MODIFY_DATE": "2021/01/25 21:42:45+00",
         "CREATE_DATE": "2015/11/25 19:57:31+00",
         "GlobalID": "{F64F6C59-4FBB-48F1-BC40-7C3116531512}",
         "SERIAL_NUM": "nan",
         "Shape__Length": "0.369853592655256",
         "name": "Sidewinder",
         "_deepnote_index_column": "22322"
        },
        {
         "OBJECTID": "147540",
         "PLAN_ALLOW_MODE_TRNSPRT": "MTC_SHARED",
         "OHV_ROUTE_DSGNTN_LIM": "nan",
         "OHV_DSGNTN_LIM_EXPLAIN": "nan",
         "ROUTE_PRMRY_NM": "Sidewinder",
         "ROUTE_PRMRY_NUM": "nan",
         "ROUTE_SPCL_DSGNTN_TYPE": "nan",
         "PLAN_ROUTE_DSGNTN_AUTH": "BLM",
         "PLAN_ASSET_CLASS": "Transportation System - Trail",
         "PLAN_MODE_TRNSPRT": "Motorized",
         "PLAN_ACCESS_RSTRCT": "None",
         "PLAN_SEASON_RSTRCT_CODE": "NO",
         "PLAN_ADD_MODE_TRNSPRT_RSTRT_CD": "NO",
         "PLAN_OHV_ROUTE_DSGNTN": "Limited",
         "PLAN_PRMRY_ROUTE_MNGT_OBJTV": "nan",
         "OBSRVE_MODE_TRNSPRT": "Motorized",
         "OBSRVE_ROUTE_USE_CLASS": "Unknown",
         "OBSRVE_SRFCE_TYPE": "Natural",
         "OBSRVE_FUNC_CLASS": "nan",
         "ROUTE_PLAN_ID": "7467",
         "DSTRBTE_EXTRNL_CODE": "YES",
         "FAMS_ID": "nan",
         "GTLF_OWN": "BLM",
         "EXSTNG_AUTH_CODE": "UNK",
         "NEPA_DOC_NUM": "BLM-CO-DEIS-03-13",
         "ADM_UNIT_CD": "COS05000",
         "ADMIN_ST": "CO",
         "BLM_MILES": "0.40352697",
         "GIS_MILES": "0.40352697",
         "COORD_SRC_TYPE": "UNK",
         "COORD_SRC2": "UNK",
         "DEF_FET_TYPE": "UNK",
         "DEF_FET2": "nan",
         "ACCURACY_FT": "-1",
         "MODIFY_DATE": "2021/01/25 21:42:45+00",
         "CREATE_DATE": "2015/11/25 19:57:31+00",
         "GlobalID": "{B25A6230-0E19-4B87-B985-17DC39A61391}",
         "SERIAL_NUM": "nan",
         "Shape__Length": "649.415010894974",
         "name": "Sidewinder",
         "_deepnote_index_column": "22705"
        },
        {
         "OBJECTID": "152856",
         "PLAN_ALLOW_MODE_TRNSPRT": "MTC_SHARED",
         "OHV_ROUTE_DSGNTN_LIM": "nan",
         "OHV_DSGNTN_LIM_EXPLAIN": "nan",
         "ROUTE_PRMRY_NM": "Sidewinder",
         "ROUTE_PRMRY_NUM": "nan",
         "ROUTE_SPCL_DSGNTN_TYPE": "nan",
         "PLAN_ROUTE_DSGNTN_AUTH": "BLM",
         "PLAN_ASSET_CLASS": "Transportation System - Trail",
         "PLAN_MODE_TRNSPRT": "Motorized",
         "PLAN_ACCESS_RSTRCT": "None",
         "PLAN_SEASON_RSTRCT_CODE": "NO",
         "PLAN_ADD_MODE_TRNSPRT_RSTRT_CD": "NO",
         "PLAN_OHV_ROUTE_DSGNTN": "Limited",
         "PLAN_PRMRY_ROUTE_MNGT_OBJTV": "nan",
         "OBSRVE_MODE_TRNSPRT": "Motorized",
         "OBSRVE_ROUTE_USE_CLASS": "Unknown",
         "OBSRVE_SRFCE_TYPE": "Natural",
         "OBSRVE_FUNC_CLASS": "nan",
         "ROUTE_PLAN_ID": "7462",
         "DSTRBTE_EXTRNL_CODE": "YES",
         "FAMS_ID": "nan",
         "GTLF_OWN": "BLM",
         "EXSTNG_AUTH_CODE": "UNK",
         "NEPA_DOC_NUM": "BLM-CO-DEIS-03-13",
         "ADM_UNIT_CD": "COS05000",
         "ADMIN_ST": "CO",
         "BLM_MILES": "3.300392",
         "GIS_MILES": "3.300392",
         "COORD_SRC_TYPE": "UNK",
         "COORD_SRC2": "UNK",
         "DEF_FET_TYPE": "UNK",
         "DEF_FET2": "nan",
         "ACCURACY_FT": "-1",
         "MODIFY_DATE": "2021/01/25 21:42:50+00",
         "CREATE_DATE": "2015/11/25 19:57:31+00",
         "GlobalID": "{BEA3D048-B5D6-499F-9289-59EBE09ACBDE}",
         "SERIAL_NUM": "nan",
         "Shape__Length": "5311.47668280733",
         "name": "Sidewinder",
         "_deepnote_index_column": "25070"
        },
        {
         "OBJECTID": "154677",
         "PLAN_ALLOW_MODE_TRNSPRT": "MTC_SHARED",
         "OHV_ROUTE_DSGNTN_LIM": "nan",
         "OHV_DSGNTN_LIM_EXPLAIN": "nan",
         "ROUTE_PRMRY_NM": "Sidewinder",
         "ROUTE_PRMRY_NUM": "nan",
         "ROUTE_SPCL_DSGNTN_TYPE": "nan",
         "PLAN_ROUTE_DSGNTN_AUTH": "BLM",
         "PLAN_ASSET_CLASS": "Transportation System - Trail",
         "PLAN_MODE_TRNSPRT": "Motorized",
         "PLAN_ACCESS_RSTRCT": "None",
         "PLAN_SEASON_RSTRCT_CODE": "NO",
         "PLAN_ADD_MODE_TRNSPRT_RSTRT_CD": "NO",
         "PLAN_OHV_ROUTE_DSGNTN": "Limited",
         "PLAN_PRMRY_ROUTE_MNGT_OBJTV": "nan",
         "OBSRVE_MODE_TRNSPRT": "Motorized",
         "OBSRVE_ROUTE_USE_CLASS": "Unknown",
         "OBSRVE_SRFCE_TYPE": "Natural",
         "OBSRVE_FUNC_CLASS": "nan",
         "ROUTE_PLAN_ID": "7450",
         "DSTRBTE_EXTRNL_CODE": "YES",
         "FAMS_ID": "nan",
         "GTLF_OWN": "BLM",
         "EXSTNG_AUTH_CODE": "UNK",
         "NEPA_DOC_NUM": "BLM-CO-DEIS-03-13",
         "ADM_UNIT_CD": "COS05000",
         "ADMIN_ST": "CO",
         "BLM_MILES": "2.57864127",
         "GIS_MILES": "2.57864127",
         "COORD_SRC_TYPE": "GPS",
         "COORD_SRC2": "UNK",
         "DEF_FET_TYPE": "UNK",
         "DEF_FET2": "nan",
         "ACCURACY_FT": "-1",
         "MODIFY_DATE": "2021/01/25 21:42:51+00",
         "CREATE_DATE": "2015/11/25 19:57:31+00",
         "GlobalID": "{309C1DC0-3D98-45A2-B68E-EDC148A0D74F}",
         "SERIAL_NUM": "nan",
         "Shape__Length": "4149.92914915886",
         "name": "Sidewinder",
         "_deepnote_index_column": "25929"
        },
        {
         "OBJECTID": "161384",
         "PLAN_ALLOW_MODE_TRNSPRT": "MTC_SHARED",
         "OHV_ROUTE_DSGNTN_LIM": "nan",
         "OHV_DSGNTN_LIM_EXPLAIN": "nan",
         "ROUTE_PRMRY_NM": "Sidewinder",
         "ROUTE_PRMRY_NUM": "nan",
         "ROUTE_SPCL_DSGNTN_TYPE": "nan",
         "PLAN_ROUTE_DSGNTN_AUTH": "BLM",
         "PLAN_ASSET_CLASS": "Transportation System - Trail",
         "PLAN_MODE_TRNSPRT": "Motorized",
         "PLAN_ACCESS_RSTRCT": "None",
         "PLAN_SEASON_RSTRCT_CODE": "NO",
         "PLAN_ADD_MODE_TRNSPRT_RSTRT_CD": "NO",
         "PLAN_OHV_ROUTE_DSGNTN": "Limited",
         "PLAN_PRMRY_ROUTE_MNGT_OBJTV": "nan",
         "OBSRVE_MODE_TRNSPRT": "Motorized",
         "OBSRVE_ROUTE_USE_CLASS": "Unknown",
         "OBSRVE_SRFCE_TYPE": "Natural",
         "OBSRVE_FUNC_CLASS": "nan",
         "ROUTE_PLAN_ID": "7463",
         "DSTRBTE_EXTRNL_CODE": "YES",
         "FAMS_ID": "nan",
         "GTLF_OWN": "BLM",
         "EXSTNG_AUTH_CODE": "UNK",
         "NEPA_DOC_NUM": "BLM-CO-DEIS-03-13",
         "ADM_UNIT_CD": "COS05000",
         "ADMIN_ST": "CO",
         "BLM_MILES": "2.19064988",
         "GIS_MILES": "2.19064988",
         "COORD_SRC_TYPE": "UNK",
         "COORD_SRC2": "UNK",
         "DEF_FET_TYPE": "UNK",
         "DEF_FET2": "nan",
         "ACCURACY_FT": "-1",
         "MODIFY_DATE": "2021/01/25 21:42:59+00",
         "CREATE_DATE": "2015/11/25 19:57:31+00",
         "GlobalID": "{F4F74CD6-1AE0-4FF3-8B10-B0190D1EB9BD}",
         "SERIAL_NUM": "nan",
         "Shape__Length": "3525.51628859747",
         "name": "Sidewinder",
         "_deepnote_index_column": "28877"
        },
        {
         "OBJECTID": "161906",
         "PLAN_ALLOW_MODE_TRNSPRT": "MTC_SHARED",
         "OHV_ROUTE_DSGNTN_LIM": "nan",
         "OHV_DSGNTN_LIM_EXPLAIN": "nan",
         "ROUTE_PRMRY_NM": "Sidewinder",
         "ROUTE_PRMRY_NUM": "nan",
         "ROUTE_SPCL_DSGNTN_TYPE": "nan",
         "PLAN_ROUTE_DSGNTN_AUTH": "BLM",
         "PLAN_ASSET_CLASS": "Transportation System - Trail",
         "PLAN_MODE_TRNSPRT": "Motorized",
         "PLAN_ACCESS_RSTRCT": "None",
         "PLAN_SEASON_RSTRCT_CODE": "NO",
         "PLAN_ADD_MODE_TRNSPRT_RSTRT_CD": "NO",
         "PLAN_OHV_ROUTE_DSGNTN": "Limited",
         "PLAN_PRMRY_ROUTE_MNGT_OBJTV": "nan",
         "OBSRVE_MODE_TRNSPRT": "Motorized",
         "OBSRVE_ROUTE_USE_CLASS": "Unknown",
         "OBSRVE_SRFCE_TYPE": "Natural",
         "OBSRVE_FUNC_CLASS": "nan",
         "ROUTE_PLAN_ID": "7449",
         "DSTRBTE_EXTRNL_CODE": "YES",
         "FAMS_ID": "nan",
         "GTLF_OWN": "BLM",
         "EXSTNG_AUTH_CODE": "UNK",
         "NEPA_DOC_NUM": "BLM-CO-DEIS-03-13",
         "ADM_UNIT_CD": "COS05000",
         "ADMIN_ST": "CO",
         "BLM_MILES": "1.4808441",
         "GIS_MILES": "1.4808441",
         "COORD_SRC_TYPE": "UNK",
         "COORD_SRC2": "UNK",
         "DEF_FET_TYPE": "UNK",
         "DEF_FET2": "nan",
         "ACCURACY_FT": "-1",
         "MODIFY_DATE": "2021/01/25 21:42:59+00",
         "CREATE_DATE": "2015/11/25 19:57:31+00",
         "GlobalID": "{8765F1ED-B582-433F-BCF8-E4CDBAA9F8CF}",
         "SERIAL_NUM": "nan",
         "Shape__Length": "2383.19232664921",
         "name": "Sidewinder",
         "_deepnote_index_column": "29124"
        },
        {
         "OBJECTID": "233275",
         "PLAN_ALLOW_MODE_TRNSPRT": "NON_MOTO_SHARED",
         "OHV_ROUTE_DSGNTN_LIM": "nan",
         "OHV_DSGNTN_LIM_EXPLAIN": "nan",
         "ROUTE_PRMRY_NM": "Sidewinder",
         "ROUTE_PRMRY_NUM": "42206T",
         "ROUTE_SPCL_DSGNTN_TYPE": "nan",
         "PLAN_ROUTE_DSGNTN_AUTH": "BLM",
         "PLAN_ASSET_CLASS": "Transportation System - Trail",
         "PLAN_MODE_TRNSPRT": "Non-Motorized",
         "PLAN_ACCESS_RSTRCT": "None",
         "PLAN_SEASON_RSTRCT_CODE": "YES",
         "PLAN_ADD_MODE_TRNSPRT_RSTRT_CD": "NO",
         "PLAN_OHV_ROUTE_DSGNTN": "Closed",
         "PLAN_PRMRY_ROUTE_MNGT_OBJTV": "Experience",
         "OBSRVE_MODE_TRNSPRT": "Non-Motorized",
         "OBSRVE_ROUTE_USE_CLASS": "Non-Motorized",
         "OBSRVE_SRFCE_TYPE": "Natural Improved",
         "OBSRVE_FUNC_CLASS": "Local",
         "ROUTE_PLAN_ID": "nan",
         "DSTRBTE_EXTRNL_CODE": "YES",
         "FAMS_ID": "nan",
         "GTLF_OWN": "BLM",
         "EXSTNG_AUTH_CODE": "YES",
         "NEPA_DOC_NUM": "nan",
         "ADM_UNIT_CD": "COS01000",
         "ADMIN_ST": "CO",
         "BLM_MILES": "0.0",
         "GIS_MILES": "0.25071313",
         "COORD_SRC_TYPE": "GPS",
         "COORD_SRC2": "nan",
         "DEF_FET_TYPE": "UNK",
         "DEF_FET2": "nan",
         "ACCURACY_FT": "-1",
         "MODIFY_DATE": "2021/12/16 20:33:20+00",
         "CREATE_DATE": "2021/06/17 20:00:48+00",
         "GlobalID": "{869AAB6D-01C8-46CF-B942-3113430DF09D}",
         "SERIAL_NUM": "nan",
         "Shape__Length": "403.484476631545",
         "name": "Sidewinder",
         "_deepnote_index_column": "41884"
        }
       ]
      },
      "text/plain": "       OBJECTID PLAN_ALLOW_MODE_TRNSPRT OHV_ROUTE_DSGNTN_LIM  \\\n20591    142835              MTC_SHARED                  NaN   \n21378    144515              MTC_SHARED                  NaN   \n22321    146682              MTC_SHARED                  NaN   \n22322    146683              MTC_SHARED                  NaN   \n22705    147540              MTC_SHARED                  NaN   \n25070    152856              MTC_SHARED                  NaN   \n25929    154677              MTC_SHARED                  NaN   \n28877    161384              MTC_SHARED                  NaN   \n29124    161906              MTC_SHARED                  NaN   \n41884    233275         NON_MOTO_SHARED                  NaN   \n41911    233302         NON_MOTO_SHARED                  NaN   \n41934    233325         NON_MOTO_SHARED                  NaN   \n41999    233390         NON_MOTO_SHARED                  NaN   \n\n      OHV_DSGNTN_LIM_EXPLAIN ROUTE_PRMRY_NM ROUTE_PRMRY_NUM  \\\n20591                    NaN     Sidewinder             NaN   \n21378                    NaN     Sidewinder             NaN   \n22321                    NaN     Sidewinder             NaN   \n22322                    NaN     Sidewinder             NaN   \n22705                    NaN     Sidewinder             NaN   \n25070                    NaN     Sidewinder             NaN   \n25929                    NaN     Sidewinder             NaN   \n28877                    NaN     Sidewinder             NaN   \n29124                    NaN     Sidewinder             NaN   \n41884                    NaN     Sidewinder          42206T   \n41911                    NaN     Sidewinder          42206T   \n41934                    NaN     Sidewinder          42206T   \n41999                    NaN     Sidewinder          42206T   \n\n      ROUTE_SPCL_DSGNTN_TYPE PLAN_ROUTE_DSGNTN_AUTH  \\\n20591                    NaN                    BLM   \n21378                    NaN                    BLM   \n22321                    NaN                    BLM   \n22322                    NaN                    BLM   \n22705                    NaN                    BLM   \n25070                    NaN                    BLM   \n25929                    NaN                    BLM   \n28877                    NaN                    BLM   \n29124                    NaN                    BLM   \n41884                    NaN                    BLM   \n41911                    NaN                    BLM   \n41934                    NaN                    BLM   \n41999                    NaN                    BLM   \n\n                    PLAN_ASSET_CLASS PLAN_MODE_TRNSPRT  ... COORD_SRC2  \\\n20591  Transportation System - Trail         Motorized  ...        UNK   \n21378  Transportation System - Trail         Motorized  ...        UNK   \n22321  Transportation System - Trail         Motorized  ...        UNK   \n22322  Transportation System - Trail         Motorized  ...        UNK   \n22705  Transportation System - Trail         Motorized  ...        UNK   \n25070  Transportation System - Trail         Motorized  ...        UNK   \n25929  Transportation System - Trail         Motorized  ...        UNK   \n28877  Transportation System - Trail         Motorized  ...        UNK   \n29124  Transportation System - Trail         Motorized  ...        UNK   \n41884  Transportation System - Trail     Non-Motorized  ...        NaN   \n41911  Transportation System - Trail     Non-Motorized  ...        NaN   \n41934  Transportation System - Trail     Non-Motorized  ...        NaN   \n41999  Transportation System - Trail     Non-Motorized  ...        NaN   \n\n      DEF_FET_TYPE DEF_FET2 ACCURACY_FT             MODIFY_DATE  \\\n20591          UNK      NaN          -1  2021/01/25 21:42:41+00   \n21378          UNK      NaN          -1  2021/01/25 21:42:43+00   \n22321          UNK      NaN          -1  2021/01/25 21:42:45+00   \n22322          UNK      NaN          -1  2021/01/25 21:42:45+00   \n22705          UNK      NaN          -1  2021/01/25 21:42:45+00   \n25070          UNK      NaN          -1  2021/01/25 21:42:50+00   \n25929          UNK      NaN          -1  2021/01/25 21:42:51+00   \n28877          UNK      NaN          -1  2021/01/25 21:42:59+00   \n29124          UNK      NaN          -1  2021/01/25 21:42:59+00   \n41884          UNK      NaN          -1  2021/12/16 20:33:20+00   \n41911          UNK      NaN          -1  2021/12/16 20:33:20+00   \n41934          UNK      NaN          -1  2021/12/16 20:33:21+00   \n41999          UNK      NaN          -1  2021/12/16 20:33:20+00   \n\n                  CREATE_DATE                                GlobalID  \\\n20591  2015/11/25 19:57:31+00  {3AF10556-DE0A-49FC-90E6-318ED3CFF329}   \n21378  2015/11/25 19:57:31+00  {A02C44E2-496C-402E-8ECB-5B01148ED456}   \n22321  2015/11/25 19:57:31+00  {63FE67ED-680E-4B2A-A0D5-0BC23D69F81F}   \n22322  2015/11/25 19:57:31+00  {F64F6C59-4FBB-48F1-BC40-7C3116531512}   \n22705  2015/11/25 19:57:31+00  {B25A6230-0E19-4B87-B985-17DC39A61391}   \n25070  2015/11/25 19:57:31+00  {BEA3D048-B5D6-499F-9289-59EBE09ACBDE}   \n25929  2015/11/25 19:57:31+00  {309C1DC0-3D98-45A2-B68E-EDC148A0D74F}   \n28877  2015/11/25 19:57:31+00  {F4F74CD6-1AE0-4FF3-8B10-B0190D1EB9BD}   \n29124  2015/11/25 19:57:31+00  {8765F1ED-B582-433F-BCF8-E4CDBAA9F8CF}   \n41884  2021/06/17 20:00:48+00  {869AAB6D-01C8-46CF-B942-3113430DF09D}   \n41911  2021/06/17 20:00:48+00  {9CD31468-CD4B-4885-935D-62D3A3FFD948}   \n41934  2021/06/17 20:00:48+00  {B74286BA-B886-4C83-B8C0-CEE7C8AE191A}   \n41999  2021/06/17 20:00:48+00  {F01CE92F-91B8-4994-988D-CB3B353FE75E}   \n\n      SERIAL_NUM Shape__Length        name  \n20591        NaN  11065.842584  Sidewinder  \n21378        NaN   2199.464452  Sidewinder  \n22321        NaN    945.873236  Sidewinder  \n22322        NaN      0.369854  Sidewinder  \n22705        NaN    649.415011  Sidewinder  \n25070        NaN   5311.476683  Sidewinder  \n25929        NaN   4149.929149  Sidewinder  \n28877        NaN   3525.516289  Sidewinder  \n29124        NaN   2383.192327  Sidewinder  \n41884        NaN    403.484477  Sidewinder  \n41911        NaN    846.420209  Sidewinder  \n41934        NaN    292.263919  Sidewinder  \n41999        NaN    618.800377  Sidewinder  \n\n[13 rows x 40 columns]",
      "text/html": "<div>\n<style scoped>\n    .dataframe tbody tr th:only-of-type {\n        vertical-align: middle;\n    }\n\n    .dataframe tbody tr th {\n        vertical-align: top;\n    }\n\n    .dataframe thead th {\n        text-align: right;\n    }\n</style>\n<table border=\"1\" class=\"dataframe\">\n  <thead>\n    <tr style=\"text-align: right;\">\n      <th></th>\n      <th>OBJECTID</th>\n      <th>PLAN_ALLOW_MODE_TRNSPRT</th>\n      <th>OHV_ROUTE_DSGNTN_LIM</th>\n      <th>OHV_DSGNTN_LIM_EXPLAIN</th>\n      <th>ROUTE_PRMRY_NM</th>\n      <th>ROUTE_PRMRY_NUM</th>\n      <th>ROUTE_SPCL_DSGNTN_TYPE</th>\n      <th>PLAN_ROUTE_DSGNTN_AUTH</th>\n      <th>PLAN_ASSET_CLASS</th>\n      <th>PLAN_MODE_TRNSPRT</th>\n      <th>...</th>\n      <th>COORD_SRC2</th>\n      <th>DEF_FET_TYPE</th>\n      <th>DEF_FET2</th>\n      <th>ACCURACY_FT</th>\n      <th>MODIFY_DATE</th>\n      <th>CREATE_DATE</th>\n      <th>GlobalID</th>\n      <th>SERIAL_NUM</th>\n      <th>Shape__Length</th>\n      <th>name</th>\n    </tr>\n  </thead>\n  <tbody>\n    <tr>\n      <th>20591</th>\n      <td>142835</td>\n      <td>MTC_SHARED</td>\n      <td>NaN</td>\n      <td>NaN</td>\n      <td>Sidewinder</td>\n      <td>NaN</td>\n      <td>NaN</td>\n      <td>BLM</td>\n      <td>Transportation System - Trail</td>\n      <td>Motorized</td>\n      <td>...</td>\n      <td>UNK</td>\n      <td>UNK</td>\n      <td>NaN</td>\n      <td>-1</td>\n      <td>2021/01/25 21:42:41+00</td>\n      <td>2015/11/25 19:57:31+00</td>\n      <td>{3AF10556-DE0A-49FC-90E6-318ED3CFF329}</td>\n      <td>NaN</td>\n      <td>11065.842584</td>\n      <td>Sidewinder</td>\n    </tr>\n    <tr>\n      <th>21378</th>\n      <td>144515</td>\n      <td>MTC_SHARED</td>\n      <td>NaN</td>\n      <td>NaN</td>\n      <td>Sidewinder</td>\n      <td>NaN</td>\n      <td>NaN</td>\n      <td>BLM</td>\n      <td>Transportation System - Trail</td>\n      <td>Motorized</td>\n      <td>...</td>\n      <td>UNK</td>\n      <td>UNK</td>\n      <td>NaN</td>\n      <td>-1</td>\n      <td>2021/01/25 21:42:43+00</td>\n      <td>2015/11/25 19:57:31+00</td>\n      <td>{A02C44E2-496C-402E-8ECB-5B01148ED456}</td>\n      <td>NaN</td>\n      <td>2199.464452</td>\n      <td>Sidewinder</td>\n    </tr>\n    <tr>\n      <th>22321</th>\n      <td>146682</td>\n      <td>MTC_SHARED</td>\n      <td>NaN</td>\n      <td>NaN</td>\n      <td>Sidewinder</td>\n      <td>NaN</td>\n      <td>NaN</td>\n      <td>BLM</td>\n      <td>Transportation System - Trail</td>\n      <td>Motorized</td>\n      <td>...</td>\n      <td>UNK</td>\n      <td>UNK</td>\n      <td>NaN</td>\n      <td>-1</td>\n      <td>2021/01/25 21:42:45+00</td>\n      <td>2015/11/25 19:57:31+00</td>\n      <td>{63FE67ED-680E-4B2A-A0D5-0BC23D69F81F}</td>\n      <td>NaN</td>\n      <td>945.873236</td>\n      <td>Sidewinder</td>\n    </tr>\n    <tr>\n      <th>22322</th>\n      <td>146683</td>\n      <td>MTC_SHARED</td>\n      <td>NaN</td>\n      <td>NaN</td>\n      <td>Sidewinder</td>\n      <td>NaN</td>\n      <td>NaN</td>\n      <td>BLM</td>\n      <td>Transportation System - Trail</td>\n      <td>Motorized</td>\n      <td>...</td>\n      <td>UNK</td>\n      <td>UNK</td>\n      <td>NaN</td>\n      <td>-1</td>\n      <td>2021/01/25 21:42:45+00</td>\n      <td>2015/11/25 19:57:31+00</td>\n      <td>{F64F6C59-4FBB-48F1-BC40-7C3116531512}</td>\n      <td>NaN</td>\n      <td>0.369854</td>\n      <td>Sidewinder</td>\n    </tr>\n    <tr>\n      <th>22705</th>\n      <td>147540</td>\n      <td>MTC_SHARED</td>\n      <td>NaN</td>\n      <td>NaN</td>\n      <td>Sidewinder</td>\n      <td>NaN</td>\n      <td>NaN</td>\n      <td>BLM</td>\n      <td>Transportation System - Trail</td>\n      <td>Motorized</td>\n      <td>...</td>\n      <td>UNK</td>\n      <td>UNK</td>\n      <td>NaN</td>\n      <td>-1</td>\n      <td>2021/01/25 21:42:45+00</td>\n      <td>2015/11/25 19:57:31+00</td>\n      <td>{B25A6230-0E19-4B87-B985-17DC39A61391}</td>\n      <td>NaN</td>\n      <td>649.415011</td>\n      <td>Sidewinder</td>\n    </tr>\n    <tr>\n      <th>25070</th>\n      <td>152856</td>\n      <td>MTC_SHARED</td>\n      <td>NaN</td>\n      <td>NaN</td>\n      <td>Sidewinder</td>\n      <td>NaN</td>\n      <td>NaN</td>\n      <td>BLM</td>\n      <td>Transportation System - Trail</td>\n      <td>Motorized</td>\n      <td>...</td>\n      <td>UNK</td>\n      <td>UNK</td>\n      <td>NaN</td>\n      <td>-1</td>\n      <td>2021/01/25 21:42:50+00</td>\n      <td>2015/11/25 19:57:31+00</td>\n      <td>{BEA3D048-B5D6-499F-9289-59EBE09ACBDE}</td>\n      <td>NaN</td>\n      <td>5311.476683</td>\n      <td>Sidewinder</td>\n    </tr>\n    <tr>\n      <th>25929</th>\n      <td>154677</td>\n      <td>MTC_SHARED</td>\n      <td>NaN</td>\n      <td>NaN</td>\n      <td>Sidewinder</td>\n      <td>NaN</td>\n      <td>NaN</td>\n      <td>BLM</td>\n      <td>Transportation System - Trail</td>\n      <td>Motorized</td>\n      <td>...</td>\n      <td>UNK</td>\n      <td>UNK</td>\n      <td>NaN</td>\n      <td>-1</td>\n      <td>2021/01/25 21:42:51+00</td>\n      <td>2015/11/25 19:57:31+00</td>\n      <td>{309C1DC0-3D98-45A2-B68E-EDC148A0D74F}</td>\n      <td>NaN</td>\n      <td>4149.929149</td>\n      <td>Sidewinder</td>\n    </tr>\n    <tr>\n      <th>28877</th>\n      <td>161384</td>\n      <td>MTC_SHARED</td>\n      <td>NaN</td>\n      <td>NaN</td>\n      <td>Sidewinder</td>\n      <td>NaN</td>\n      <td>NaN</td>\n      <td>BLM</td>\n      <td>Transportation System - Trail</td>\n      <td>Motorized</td>\n      <td>...</td>\n      <td>UNK</td>\n      <td>UNK</td>\n      <td>NaN</td>\n      <td>-1</td>\n      <td>2021/01/25 21:42:59+00</td>\n      <td>2015/11/25 19:57:31+00</td>\n      <td>{F4F74CD6-1AE0-4FF3-8B10-B0190D1EB9BD}</td>\n      <td>NaN</td>\n      <td>3525.516289</td>\n      <td>Sidewinder</td>\n    </tr>\n    <tr>\n      <th>29124</th>\n      <td>161906</td>\n      <td>MTC_SHARED</td>\n      <td>NaN</td>\n      <td>NaN</td>\n      <td>Sidewinder</td>\n      <td>NaN</td>\n      <td>NaN</td>\n      <td>BLM</td>\n      <td>Transportation System - Trail</td>\n      <td>Motorized</td>\n      <td>...</td>\n      <td>UNK</td>\n      <td>UNK</td>\n      <td>NaN</td>\n      <td>-1</td>\n      <td>2021/01/25 21:42:59+00</td>\n      <td>2015/11/25 19:57:31+00</td>\n      <td>{8765F1ED-B582-433F-BCF8-E4CDBAA9F8CF}</td>\n      <td>NaN</td>\n      <td>2383.192327</td>\n      <td>Sidewinder</td>\n    </tr>\n    <tr>\n      <th>41884</th>\n      <td>233275</td>\n      <td>NON_MOTO_SHARED</td>\n      <td>NaN</td>\n      <td>NaN</td>\n      <td>Sidewinder</td>\n      <td>42206T</td>\n      <td>NaN</td>\n      <td>BLM</td>\n      <td>Transportation System - Trail</td>\n      <td>Non-Motorized</td>\n      <td>...</td>\n      <td>NaN</td>\n      <td>UNK</td>\n      <td>NaN</td>\n      <td>-1</td>\n      <td>2021/12/16 20:33:20+00</td>\n      <td>2021/06/17 20:00:48+00</td>\n      <td>{869AAB6D-01C8-46CF-B942-3113430DF09D}</td>\n      <td>NaN</td>\n      <td>403.484477</td>\n      <td>Sidewinder</td>\n    </tr>\n    <tr>\n      <th>41911</th>\n      <td>233302</td>\n      <td>NON_MOTO_SHARED</td>\n      <td>NaN</td>\n      <td>NaN</td>\n      <td>Sidewinder</td>\n      <td>42206T</td>\n      <td>NaN</td>\n      <td>BLM</td>\n      <td>Transportation System - Trail</td>\n      <td>Non-Motorized</td>\n      <td>...</td>\n      <td>NaN</td>\n      <td>UNK</td>\n      <td>NaN</td>\n      <td>-1</td>\n      <td>2021/12/16 20:33:20+00</td>\n      <td>2021/06/17 20:00:48+00</td>\n      <td>{9CD31468-CD4B-4885-935D-62D3A3FFD948}</td>\n      <td>NaN</td>\n      <td>846.420209</td>\n      <td>Sidewinder</td>\n    </tr>\n    <tr>\n      <th>41934</th>\n      <td>233325</td>\n      <td>NON_MOTO_SHARED</td>\n      <td>NaN</td>\n      <td>NaN</td>\n      <td>Sidewinder</td>\n      <td>42206T</td>\n      <td>NaN</td>\n      <td>BLM</td>\n      <td>Transportation System - Trail</td>\n      <td>Non-Motorized</td>\n      <td>...</td>\n      <td>NaN</td>\n      <td>UNK</td>\n      <td>NaN</td>\n      <td>-1</td>\n      <td>2021/12/16 20:33:21+00</td>\n      <td>2021/06/17 20:00:48+00</td>\n      <td>{B74286BA-B886-4C83-B8C0-CEE7C8AE191A}</td>\n      <td>NaN</td>\n      <td>292.263919</td>\n      <td>Sidewinder</td>\n    </tr>\n    <tr>\n      <th>41999</th>\n      <td>233390</td>\n      <td>NON_MOTO_SHARED</td>\n      <td>NaN</td>\n      <td>NaN</td>\n      <td>Sidewinder</td>\n      <td>42206T</td>\n      <td>NaN</td>\n      <td>BLM</td>\n      <td>Transportation System - Trail</td>\n      <td>Non-Motorized</td>\n      <td>...</td>\n      <td>NaN</td>\n      <td>UNK</td>\n      <td>NaN</td>\n      <td>-1</td>\n      <td>2021/12/16 20:33:20+00</td>\n      <td>2021/06/17 20:00:48+00</td>\n      <td>{F01CE92F-91B8-4994-988D-CB3B353FE75E}</td>\n      <td>NaN</td>\n      <td>618.800377</td>\n      <td>Sidewinder</td>\n    </tr>\n  </tbody>\n</table>\n<p>13 rows × 40 columns</p>\n</div>"
     },
     "metadata": {}
    }
   ],
   "execution_count": 24
  },
  {
   "cell_type": "markdown",
   "source": "# Public Trails Info on the Web from BLM",
   "metadata": {
    "formattedRanges": [],
    "is_collapsed": false,
    "cell_id": "a71e90a745dd4f7eb049b448e6b6369b",
    "tags": [],
    "deepnote_cell_type": "text-cell-h1"
   }
  },
  {
   "cell_type": "markdown",
   "source": "Before I get into working with the full GIS dataset, in terms of both geospatial features and feature attributes, it is useful to take a look at a completely different information source - essentially how BLM presents information about the trails in their various managed land units for public consumption. I'm focused on the Gunnison Gorge National Conservation Area right now as part of some volunteer work, so that's the narrowed down use case I'm working through here.",
   "metadata": {
    "formattedRanges": [],
    "is_collapsed": false,
    "cell_id": "cd17c651-ff54-446a-999f-c1634f99e3d0",
    "tags": [],
    "deepnote_cell_type": "text-cell-p"
   }
  },
  {
   "cell_type": "markdown",
   "source": "The most condensed and yet robust and complete representation of trails and other features of interest on the Gunnison Gorge NCA is found in the PDF brochure that is online but printed out and found at trailheads and other locations. Some trails seem to have a landing page kind of thing going on like the Chukar Trail, one trail in the Gunnison Gorge NCA that I've explored physically (and digitally due to a name misspelling that I'll touch on again). But this does not seem to be consistent. The map that comes up on the Chukar Trail page allows for navigation and shows the GIS line work for the other trails on the GGNCA, but there is no information about them and they do not seem to have their own URL.",
   "metadata": {
    "formattedRanges": [
     {
      "type": "link",
      "url": "https://www.blm.gov/sites/blm.gov/files/uploads/GGNCAbro_webfriendly.pdf",
      "fromCodePoint": 145,
      "toCodePoint": 157,
      "ranges": []
     },
     {
      "type": "link",
      "url": "https://www.blm.gov/visit/chukar-trail",
      "fromCodePoint": 306,
      "toCodePoint": 318,
      "ranges": []
     }
    ],
    "is_collapsed": false,
    "cell_id": "9960d51a-7883-44fc-b1d5-d96cfff74cc3",
    "tags": [],
    "deepnote_cell_type": "text-cell-p"
   }
  },
  {
   "cell_type": "markdown",
   "source": "So, we're left with great information worked up and laid out in a PDF brochure that will be challenging to work with in software and a GIS dataset that may contain different information on the trails in a more machine-readable but perhaps less comprehensive or useful state. The following code blocks make an attempt at reading the PDF brochure for the GGNCA. This requires the tabula-py wrapper on a Java process, and so a JVM needed to be installed in the Deepnote environment. After looking at both this option and another Python approach with Camelot, I'm concluding that this particular PDF is probably not going to be conducive to me parsing it out for trails information from code. Bummer!",
   "metadata": {
    "formattedRanges": [],
    "is_collapsed": false,
    "cell_id": "61779360-c05c-4812-9ff6-a04b8cffd34f",
    "tags": [],
    "deepnote_cell_type": "text-cell-p"
   }
  },
  {
   "cell_type": "code",
   "metadata": {
    "cell_id": "22d39a16859a4725ade9e711d2cc9916",
    "tags": [],
    "deepnote_to_be_reexecuted": false,
    "source_hash": "2c1a4ed0",
    "execution_start": 1662989635002,
    "execution_millis": 12680,
    "deepnote_cell_type": "code",
    "deepnote_cell_height": 696
   },
   "source": "ggnca_brochure_tables = read_pdf(\"/datasets/ggncabrochure/GGNCAbro_webfriendly.pdf\", pages=\"2\")",
   "execution_count": 4,
   "outputs": [
    {
     "name": "stderr",
     "text": "Got stderr: Sep 12, 2022 1:34:00 PM org.apache.pdfbox.pdmodel.font.FileSystemFontProvider loadDiskCache\nWARNING: New fonts found, font cache will be re-built\nSep 12, 2022 1:34:00 PM org.apache.pdfbox.pdmodel.font.FileSystemFontProvider <init>\nWARNING: Building on-disk font cache, this may take a while\nSep 12, 2022 1:34:00 PM org.apache.pdfbox.pdmodel.font.FileSystemFontProvider <init>\nWARNING: Finished building on-disk font cache, found 22 fonts\nSep 12, 2022 1:34:00 PM org.apache.pdfbox.pdmodel.font.PDType1Font <init>\nWARNING: Using fallback font LiberationSans for base font Times-Roman\nSep 12, 2022 1:34:00 PM org.apache.pdfbox.pdmodel.font.PDType1Font <init>\nWARNING: Using fallback font LiberationSans for base font Times-Bold\nSep 12, 2022 1:34:00 PM org.apache.pdfbox.pdmodel.font.PDType1Font <init>\nWARNING: Using fallback font LiberationSans for base font Times-Italic\nSep 12, 2022 1:34:00 PM org.apache.pdfbox.pdmodel.font.PDType1Font <init>\nWARNING: Using fallback font LiberationSans for base font Times-BoldItalic\nSep 12, 2022 1:34:00 PM org.apache.pdfbox.pdmodel.font.PDType1Font <init>\nWARNING: Using fallback font LiberationSans for base font Helvetica\nSep 12, 2022 1:34:00 PM org.apache.pdfbox.pdmodel.font.PDType1Font <init>\nWARNING: Using fallback font LiberationSans for base font Helvetica-Bold\nSep 12, 2022 1:34:00 PM org.apache.pdfbox.pdmodel.font.PDType1Font <init>\nWARNING: Using fallback font LiberationSans for base font Helvetica-Oblique\nSep 12, 2022 1:34:00 PM org.apache.pdfbox.pdmodel.font.PDType1Font <init>\nWARNING: Using fallback font LiberationSans for base font Helvetica-BoldOblique\nSep 12, 2022 1:34:00 PM org.apache.pdfbox.pdmodel.font.PDType1Font <init>\nWARNING: Using fallback font LiberationSans for base font Courier\nSep 12, 2022 1:34:00 PM org.apache.pdfbox.pdmodel.font.PDType1Font <init>\nWARNING: Using fallback font LiberationSans for base font Courier-Bold\nSep 12, 2022 1:34:00 PM org.apache.pdfbox.pdmodel.font.PDType1Font <init>\nWARNING: Using fallback font LiberationSans for base font Courier-Oblique\nSep 12, 2022 1:34:00 PM org.apache.pdfbox.pdmodel.font.PDType1Font <init>\nWARNING: Using fallback font LiberationSans for base font Courier-BoldOblique\nSep 12, 2022 1:34:00 PM org.apache.pdfbox.pdmodel.font.PDType1Font <init>\nWARNING: Using fallback font LiberationSans for base font Symbol\nSep 12, 2022 1:34:00 PM org.apache.pdfbox.pdmodel.font.PDType1Font <init>\nWARNING: Using fallback font LiberationSans for base font ZapfDingbats\nSep 12, 2022 1:34:00 PM org.apache.pdfbox.pdmodel.font.PDType1Font <init>\nWARNING: Using fallback font LiberationSans for Times-Roman\nSep 12, 2022 1:34:06 PM org.apache.pdfbox.pdmodel.font.PDType1Font <init>\nWARNING: Using fallback font LiberationSans for Times-Roman\n\n",
     "output_type": "stream"
    }
   ]
  },
  {
   "cell_type": "code",
   "metadata": {
    "cell_id": "0b6dc2a688ae4ba7a56da1976581b002",
    "tags": [],
    "deepnote_to_be_reexecuted": false,
    "source_hash": "b2b15fdf",
    "execution_start": 1662989654242,
    "execution_millis": 28,
    "deepnote_table_state": {
     "pageSize": 100,
     "pageIndex": 0,
     "filters": [],
     "sortBy": []
    },
    "deepnote_table_loading": false,
    "deepnote_cell_type": "code",
    "deepnote_cell_height": 2522,
    "deepnote_output_heights": [
     20.1875
    ]
   },
   "source": "ggnca_brochure_tables[0]",
   "execution_count": 5,
   "outputs": [
    {
     "output_type": "execute_result",
     "execution_count": 5,
     "data": {
      "application/vnd.deepnote.dataframe.v3+json": {
       "column_count": 3,
       "row_count": 57,
       "columns": [
        {
         "name": "Boating – Launch Sites",
         "dtype": "object",
         "stats": {
          "unique_count": 45,
          "nan_count": 12,
          "categories": [
           {
            "name": "Chukar Trail and Boat Launch are accessible via Forks. It can be accessed from the river or by",
            "count": 1
           },
           {
            "name": "44 others",
            "count": 44
           },
           {
            "name": "Missing",
            "count": 12
           }
          ]
         }
        },
        {
         "name": "Other Trails",
         "dtype": "object",
         "stats": {
          "unique_count": 43,
          "nan_count": 13,
          "categories": [
           {
            "name": "I",
            "count": 2
           },
           {
            "name": "42 others",
            "count": 42
           },
           {
            "name": "Missing",
            "count": 13
           }
          ]
         }
        },
        {
         "name": "Unnamed: 0",
         "dtype": "object",
         "stats": {
          "unique_count": 23,
          "nan_count": 34,
          "categories": [
           {
            "name": "MILES",
            "count": 1
           },
           {
            "name": "22 others",
            "count": 22
           },
           {
            "name": "Missing",
            "count": 34
           }
          ]
         }
        },
        {
         "name": "_deepnote_index_column",
         "dtype": "int64"
        }
       ],
       "rows": [
        {
         "Boating – Launch Sites": "Chukar Trail and Boat Launch are accessible via Forks. It can be accessed from the river or by",
         "Other Trails": "nan",
         "Unnamed: 0": "nan",
         "_deepnote_index_column": "0"
        },
        {
         "Boating – Launch Sites": "nan",
         "Other Trails": "TRAILS AND ALLOWED DESCRIPTION",
         "Unnamed: 0": "MILES",
         "_deepnote_index_column": "1"
        },
        {
         "Boating – Launch Sites": "the Chukar Trailhead. The trail can be accessed vehicle via the South River Road. The campground",
         "Other Trails": "STAGING USES",
         "Unnamed: 0": "nan",
         "_deepnote_index_column": "2"
        },
        {
         "Boating – Launch Sites": "via a primitive, rough road, often requiring four- has six sites with picnic tables, a toilet and boat",
         "Other Trails": "AREAS",
         "Unnamed: 0": "nan",
         "_deepnote_index_column": "3"
        },
        {
         "Boating – Launch Sites": "wheel drive that ends at the wilderness boundary. ramp. The campground features a universally",
         "Other Trails": "Flat Top-Peach Staging Area Off-route cross-country riding permitted in two",
         "Unnamed: 0": "100+ miles of trails",
         "_deepnote_index_column": "4"
        },
        {
         "Boating – Launch Sites": "From there it’s a mile-long hike down Chukar accessible campsite with an adjacent accessible",
         "Other Trails": "Valley OHV designated “open play” areas. Peach Valley stag-",
         "Unnamed: 0": "covering 9,800 acres.",
         "_deepnote_index_column": "5"
        },
        {
         "Boating – Launch Sites": "Trail to the river. All gear, including boats, must fishing pier.",
         "Other Trails": "Recreation Area OQI ing area offers a beginner loop and training area.",
         "Unnamed: 0": "nan",
         "_deepnote_index_column": "6"
        },
        {
         "Boating – Launch Sites": "be carried down the trail to the river. No carts",
         "Other Trails": "nan",
         "Unnamed: 0": "nan",
         "_deepnote_index_column": "7"
        },
        {
         "Boating – Launch Sites": "or wheeled devices are allowed in the wilderness. Orchard Boat Launch is the last public boater",
         "Other Trails": "Red Rocks- Nighthorse Trail JKO jeep road sections extend along the western Steep climbs and rocky terrain. Single track and",
         "Unnamed: 0": "13 miles, one-way.",
         "_deepnote_index_column": "8"
        },
        {
         "Boating – Launch Sites": "A commercial horse packing service is available take-out on the Gunnison River before Confluence",
         "Other Trails": "wilderness rim from the national park boundary",
         "Unnamed: 0": "nan",
         "_deepnote_index_column": "9"
        },
        {
         "Boating – Launch Sites": "seasonally. Park in Delta. Boaters need to be aware of  private",
         "Other Trails": "I north to Ute Trailhead.",
         "Unnamed: 0": "nan",
         "_deepnote_index_column": "10"
        },
        {
         "Boating – Launch Sites": "lands and potential river hazards before floating",
         "Other Trails": "nan",
         "Unnamed: 0": "nan",
         "_deepnote_index_column": "11"
        },
        {
         "Boating – Launch Sites": "nan",
         "Other Trails": "Wave-Eagle Primitive four-wheel drive jeep road. Loop",
         "Unnamed: 0": "6.5-mile loop.",
         "_deepnote_index_column": "12"
        },
        {
         "Boating – Launch Sites": "Gunnison Forks Day-Use Recreation Site offers the river downstream of  the NCA.",
         "Other Trails": "4X4/OHV Route NQJ includes moderate hills with very rocky terrain.",
         "Unnamed: 0": "nan",
         "_deepnote_index_column": "13"
        },
        {
         "Boating – Launch Sites": "public launching and take-out on BLM land. There",
         "Other Trails": "KOI Access off Peach Valley Road. Easier if traveled",
         "Unnamed: 0": "nan",
         "_deepnote_index_column": "14"
        },
        {
         "Boating – Launch Sites": "is an adjacent private river access site available Gorge rapids vary from Class I (moving water",
         "Other Trails": "counterclockwise from Wave Road.",
         "Unnamed: 0": "nan",
         "_deepnote_index_column": "15"
        },
        {
         "Boating – Launch Sites": "for a fee at the Gunnison River Pleasure Park. with no obstructions) to Class IV (long, difficult",
         "Other Trails": "nan",
         "Unnamed: 0": "nan",
         "_deepnote_index_column": "16"
        },
        {
         "Boating – Launch Sites": "Entire trail is 20 miles in rapids with constricted passages). Rapid difficulty",
         "Other Trails": "Sidewinder Trail JKO north and south along NCA’s west side. Numer- Technical, multiple-use, single track trail runs",
         "Unnamed: 0": "length. Shorter or longer",
         "_deepnote_index_column": "17"
        },
        {
         "Boating – Launch Sites": "Cottonwood Grove Campground is located on changes dramatically with varying river flow.  If  in",
         "Other Trails": "nan",
         "Unnamed: 0": "nan",
         "_deepnote_index_column": "18"
        },
        {
         "Boating – Launch Sites": "river-left 1.5 miles downstream from the Gunnison doubt, SCOUT!",
         "Other Trails": "I ous access points including Smith Mountain Rec- reation Area, Eagle Valley Trailhead, Wave-Eagle",
         "Unnamed: 0": "rides/hikes are available by combining with other",
         "_deepnote_index_column": "19"
        },
        {
         "Boating – Launch Sites": "nan",
         "Other Trails": "Loop, Bobcat, Duncan and Ute Roads.",
         "Unnamed: 0": "roads or trails.",
         "_deepnote_index_column": "20"
        },
        {
         "Boating – Launch Sites": "Running the Gorge",
         "Other Trails": "Eagle Valley Trail JKO connects to Sidewinder, Wave and Sunset Rocks Single track trail begins off Chukar Road and",
         "Unnamed: 0": "1.25 mile, one-way.",
         "_deepnote_index_column": "21"
        },
        {
         "Boating – Launch Sites": "nan",
         "Other Trails": "Trails.",
         "Unnamed: 0": "nan",
         "_deepnote_index_column": "22"
        },
        {
         "Boating – Launch Sites": "RIVER MILES RAPID CLASS DESCRIPTION",
         "Other Trails": "I",
         "Unnamed: 0": "nan",
         "_deepnote_index_column": "23"
        },
        {
         "Boating – Launch Sites": "nan",
         "Other Trails": "Sunset Rocks Single track trail connects to other single track",
         "Unnamed: 0": "3 miles, one-way. Com-",
         "_deepnote_index_column": "24"
        },
        {
         "Boating – Launch Sites": "1-6 Chukar Rapid III Single drop at the put-in. Most run center at higher water and",
         "Other Trails": "Trail JKO routes. Access off Chukar Road.",
         "Unnamed: 0": "bine with Eagle Valley",
         "_deepnote_index_column": "25"
        },
        {
         "Boating – Launch Sites": "Chukar to Red right slot at lower flows.",
         "Other Trails": "nan",
         "Unnamed: 0": "Trail and Chukar Road",
         "_deepnote_index_column": "26"
        },
        {
         "Boating – Launch Sites": "Canyon Run One Miler III Run left of the large center hole or rock depending on flows.",
         "Other Trails": "I",
         "Unnamed: 0": "for 6 mile loop.",
         "_deepnote_index_column": "27"
        },
        {
         "Boating – Launch Sites": "Improvise Rapid III Recognized by a small vertical cliff on right and a prominent rock",
         "Other Trails": "West River Trail Provides great opportunities for walk-wade fish-",
         "Unnamed: 0": "2.5 miles, one-way.",
         "_deepnote_index_column": "28"
        },
        {
         "Boating – Launch Sites": "(mile 1.5) slide on left. Scout left.",
         "Other Trails": "(Day Use Area) JK ing. Access from South River Road. No camping",
         "Unnamed: 0": "nan",
         "_deepnote_index_column": "29"
        },
        {
         "Boating – Launch Sites": "nan",
         "Other Trails": "or sleeping in vehicles at trailhead.",
         "Unnamed: 0": "nan",
         "_deepnote_index_column": "30"
        },
        {
         "Boating – Launch Sites": "Upper and Lower II+ Narrow slots at low flows. Large holes at high flows (>2000 cfs).",
         "Other Trails": "nan",
         "Unnamed: 0": "nan",
         "_deepnote_index_column": "31"
        },
        {
         "Boating – Launch Sites": "Pucker",
         "Other Trails": "Cool Rock Winds through colorful sandstone canyon with",
         "Unnamed: 0": "Up to 3 miles, one-way.",
         "_deepnote_index_column": "32"
        },
        {
         "Boating – Launch Sites": "nan",
         "Other Trails": "Canyon Trail J interesting rock formations and fun places to",
         "Unnamed: 0": "nan",
         "_deepnote_index_column": "33"
        },
        {
         "Boating – Launch Sites": "Buttermilk Rapid III Run at mile 4 straight down the tongue and watch out for the cliff",
         "Other Trails": "nan",
         "Unnamed: 0": "nan",
         "_deepnote_index_column": "34"
        },
        {
         "Boating – Launch Sites": "nan",
         "Other Trails": "explore. Great family hike. Located off South",
         "Unnamed: 0": "nan",
         "_deepnote_index_column": "35"
        },
        {
         "Boating – Launch Sites": "on left.",
         "Other Trails": "nan",
         "Unnamed: 0": "nan",
         "_deepnote_index_column": "36"
        },
        {
         "Boating – Launch Sites": "nan",
         "Other Trails": "River Road.",
         "Unnamed: 0": "nan",
         "_deepnote_index_column": "37"
        },
        {
         "Boating – Launch Sites": "Ute Park (mile 4) I/II The canyon opens up and the river gets shallower. Watch for",
         "Other Trails": "nan",
         "Unnamed: 0": "nan",
         "_deepnote_index_column": "38"
        },
        {
         "Boating – Launch Sites": "rocks in low-flow periods. Ute Park provides the most campsites J in the Gorge and good fishing access.",
         "Other Trails": "Suncliff Trail Fun hike up and back through scenic sandstone canyon. Good family hike.",
         "Unnamed: 0": "Up to 2 miles, one-way.",
         "_deepnote_index_column": "39"
        },
        {
         "Boating – Launch Sites": "Red Canyon III The canyon narrows again at a rocky rapid requiring technical",
         "Other Trails": "Smith Mountain Panoramic views of Gunnison Gorge Wilderness",
         "Unnamed: 0": "14-mile loop (Smith Mtn",
         "_deepnote_index_column": "40"
        },
        {
         "Boating – Launch Sites": "Rapid boating skills. Scout right.",
         "Other Trails": "4X4 Loop NJK and North Fork. Connects to Ute Trailhead and",
         "Unnamed: 0": "Rd/wilderness rim/South",
         "_deepnote_index_column": "41"
        },
        {
         "Boating – Launch Sites": "nan",
         "Other Trails": "OIQ makes a loop with South River Road.",
         "Unnamed: 0": "River Rd).",
         "_deepnote_index_column": "42"
        },
        {
         "Boating – Launch Sites": "7-8 Boulder Garden III This used to be a Class IV rapid. Flooding in August 2010",
         "Other Trails": "nan",
         "Unnamed: 0": "nan",
         "_deepnote_index_column": "43"
        },
        {
         "Boating – Launch Sites": "Boulder Garden altered the hydraulics, making it less difficult. Recommend",
         "Other Trails": "Smith Mountain Staging/trailhead Provides access to Smith Mountain jeep roads,",
         "Unnamed: 0": "Located on H-75 Road at",
         "_deepnote_index_column": "44"
        },
        {
         "Boating – Launch Sites": "to T-Dyke scouting (left), as it is unknown what effects high flows may have",
         "Other Trails": "Recreation Area area for all uses South River Road, Sidewinder and other trails.",
         "Unnamed: 0": "NCA north entrance.",
         "_deepnote_index_column": "45"
        },
        {
         "Boating – Launch Sites": "on the rapid.",
         "Other Trails": "nan",
         "Unnamed: 0": "nan",
         "_deepnote_index_column": "46"
        },
        {
         "Boating – Launch Sites": "nan",
         "Other Trails": "Trailer parking for equestrians and motorized",
         "Unnamed: 0": "nan",
         "_deepnote_index_column": "47"
        },
        {
         "Boating – Launch Sites": "Paddle Keeper III Best run on left with ferry back to the right. Scout left.",
         "Other Trails": "users.",
         "Unnamed: 0": "nan",
         "_deepnote_index_column": "48"
        },
        {
         "Boating – Launch Sites": "T-Dyke Rapid III A straight run through with nice waves. The last designated",
         "Other Trails": "Gunnison Rock Trail to interpretive rock art site and Gunnison",
         "Unnamed: 0": ".25 mile.",
         "_deepnote_index_column": "49"
        },
        {
         "Boating – Launch Sites": "(mile 7.5) boater camp is located on the right above the rapid.",
         "Other Trails": "Art Trail (Law- JK River. Access via jeep road off Highway 92. No",
         "Unnamed: 0": "nan",
         "_deepnote_index_column": "50"
        },
        {
         "Boating – Launch Sites": "9 S-Turn Rapid III Pushes boats toward the cliff wall on left.",
         "Other Trails": "head Gulch) camping at the rock art site.",
         "Unnamed: 0": "nan",
         "_deepnote_index_column": "51"
        },
        {
         "Boating – Launch Sites": "S-Turn to Grand Up to 2 miles. Finale (Most geology. Requires route finding and navigating difficult section) The Squeeze III/IV Immediately below S-Turn. A deceptive, rocky rapid that has wrapped rafts and pinned kayaks. Most common run is through the narrow slots river right.",
         "Other Trails": "Crocodile Rock Trail J Undefined trails in canyon bottom with interesting over large rocks.",
         "Unnamed: 0": "nan",
         "_deepnote_index_column": "52"
        },
        {
         "Boating – Launch Sites": "The Three Drops III Contains many large holes and narrow slots. Scout all from right.",
         "Other Trails": "nan",
         "Unnamed: 0": "nan",
         "_deepnote_index_column": "53"
        },
        {
         "Boating – Launch Sites": "nan",
         "Other Trails": "Birthday Undefined trails in canyon bottom with interesting",
         "Unnamed: 0": "Up to 2 miles.",
         "_deepnote_index_column": "54"
        },
        {
         "Boating – Launch Sites": "Cable Rapid III/IV Very technical with large holes and two narrow slots. Most run",
         "Other Trails": "Canyon Trail J geology. Requires route finding and navigating",
         "Unnamed: 0": "nan",
         "_deepnote_index_column": "55"
        },
        {
         "Boating – Launch Sites": "(mile 9.5) right slot avoiding cliff on left. Scout right.",
         "Other Trails": "over large rocks.",
         "Unnamed: 0": "nan",
         "_deepnote_index_column": "56"
        }
       ]
      },
      "text/plain": "                               Boating – Launch Sites  \\\n0   Chukar Trail and Boat Launch are accessible vi...   \n1                                                 NaN   \n2   the Chukar Trailhead. The trail can be accesse...   \n3   via a primitive, rough road, often requiring f...   \n4   wheel drive that ends at the wilderness bounda...   \n5   From there it’s a mile-long hike down Chukar a...   \n6   Trail to the river. All gear, including boats,...   \n7    be carried down the trail to the river. No carts   \n8   or wheeled devices are allowed in the wilderne...   \n9   A commercial horse packing service is availabl...   \n10  seasonally. Park in Delta. Boaters need to be ...   \n11  lands and potential river hazards before floating   \n12                                                NaN   \n13  Gunnison Forks Day-Use Recreation Site offers ...   \n14   public launching and take-out on BLM land. There   \n15  is an adjacent private river access site avail...   \n16  for a fee at the Gunnison River Pleasure Park....   \n17  Entire trail is 20 miles in rapids with constr...   \n18  Cottonwood Grove Campground is located on chan...   \n19  river-left 1.5 miles downstream from the Gunni...   \n20                                                NaN   \n21                                  Running the Gorge   \n22                                                NaN   \n23                RIVER MILES RAPID CLASS DESCRIPTION   \n24                                                NaN   \n25  1-6 Chukar Rapid III Single drop at the put-in...   \n26           Chukar to Red right slot at lower flows.   \n27  Canyon Run One Miler III Run left of the large...   \n28  Improvise Rapid III Recognized by a small vert...   \n29              (mile 1.5) slide on left. Scout left.   \n30                                                NaN   \n31  Upper and Lower II+ Narrow slots at low flows....   \n32                                             Pucker   \n33                                                NaN   \n34  Buttermilk Rapid III Run at mile 4 straight do...   \n35                                                NaN   \n36                                           on left.   \n37                                                NaN   \n38  Ute Park (mile 4) I/II The canyon opens up and...   \n39  rocks in low-flow periods. Ute Park provides t...   \n40  Red Canyon III The canyon narrows again at a r...   \n41                 Rapid boating skills. Scout right.   \n42                                                NaN   \n43  7-8 Boulder Garden III This used to be a Class...   \n44  Boulder Garden altered the hydraulics, making ...   \n45  to T-Dyke scouting (left), as it is unknown wh...   \n46                                      on the rapid.   \n47                                                NaN   \n48  Paddle Keeper III Best run on left with ferry ...   \n49  T-Dyke Rapid III A straight run through with n...   \n50  (mile 7.5) boater camp is located on the right...   \n51  9 S-Turn Rapid III Pushes boats toward the cli...   \n52  S-Turn to Grand Up to 2 miles. Finale (Most ge...   \n53  The Three Drops III Contains many large holes ...   \n54                                                NaN   \n55  Cable Rapid III/IV Very technical with large h...   \n56  (mile 9.5) right slot avoiding cliff on left. ...   \n\n                                         Other Trails  \\\n0                                                 NaN   \n1                      TRAILS AND ALLOWED DESCRIPTION   \n2                                        STAGING USES   \n3                                               AREAS   \n4   Flat Top-Peach Staging Area Off-route cross-co...   \n5   Valley OHV designated “open play” areas. Peach...   \n6   Recreation Area OQI ing area offers a beginner...   \n7                                                 NaN   \n8   Red Rocks- Nighthorse Trail JKO jeep road sect...   \n9      wilderness rim from the national park boundary   \n10                          I north to Ute Trailhead.   \n11                                                NaN   \n12  Wave-Eagle Primitive four-wheel drive jeep roa...   \n13  4X4/OHV Route NQJ includes moderate hills with...   \n14  KOI Access off Peach Valley Road. Easier if tr...   \n15                   counterclockwise from Wave Road.   \n16                                                NaN   \n17  Sidewinder Trail JKO north and south along NCA...   \n18                                                NaN   \n19  I ous access points including Smith Mountain R...   \n20                Loop, Bobcat, Duncan and Ute Roads.   \n21  Eagle Valley Trail JKO connects to Sidewinder,...   \n22                                            Trails.   \n23                                                  I   \n24  Sunset Rocks Single track trail connects to ot...   \n25          Trail JKO routes. Access off Chukar Road.   \n26                                                NaN   \n27                                                  I   \n28  West River Trail Provides great opportunities ...   \n29  (Day Use Area) JK ing. Access from South River...   \n30              or sleeping in vehicles at trailhead.   \n31                                                NaN   \n32  Cool Rock Winds through colorful sandstone can...   \n33  Canyon Trail J interesting rock formations and...   \n34                                                NaN   \n35      explore. Great family hike. Located off South   \n36                                                NaN   \n37                                        River Road.   \n38                                                NaN   \n39  Suncliff Trail Fun hike up and back through sc...   \n40  Smith Mountain Panoramic views of Gunnison Gor...   \n41  4X4 Loop NJK and North Fork. Connects to Ute T...   \n42            OIQ makes a loop with South River Road.   \n43                                                NaN   \n44  Smith Mountain Staging/trailhead Provides acce...   \n45  Recreation Area area for all uses South River ...   \n46                                                NaN   \n47      Trailer parking for equestrians and motorized   \n48                                             users.   \n49  Gunnison Rock Trail to interpretive rock art s...   \n50  Art Trail (Law- JK River. Access via jeep road...   \n51          head Gulch) camping at the rock art site.   \n52  Crocodile Rock Trail J Undefined trails in can...   \n53                                                NaN   \n54  Birthday Undefined trails in canyon bottom wit...   \n55  Canyon Trail J geology. Requires route finding...   \n56                                  over large rocks.   \n\n                                           Unnamed: 0  \n0                                                 NaN  \n1                                               MILES  \n2                                                 NaN  \n3                                                 NaN  \n4                                100+ miles of trails  \n5                               covering 9,800 acres.  \n6                                                 NaN  \n7                                                 NaN  \n8                                  13 miles, one-way.  \n9                                                 NaN  \n10                                                NaN  \n11                                                NaN  \n12                                     6.5-mile loop.  \n13                                                NaN  \n14                                                NaN  \n15                                                NaN  \n16                                                NaN  \n17                          length. Shorter or longer  \n18                                                NaN  \n19  rides/hikes are available by combining with other  \n20                                   roads or trails.  \n21                                1.25 mile, one-way.  \n22                                                NaN  \n23                                                NaN  \n24                             3 miles, one-way. Com-  \n25                             bine with Eagle Valley  \n26                              Trail and Chukar Road  \n27                                   for 6 mile loop.  \n28                                2.5 miles, one-way.  \n29                                                NaN  \n30                                                NaN  \n31                                                NaN  \n32                            Up to 3 miles, one-way.  \n33                                                NaN  \n34                                                NaN  \n35                                                NaN  \n36                                                NaN  \n37                                                NaN  \n38                                                NaN  \n39                            Up to 2 miles, one-way.  \n40                            14-mile loop (Smith Mtn  \n41                            Rd/wilderness rim/South  \n42                                         River Rd).  \n43                                                NaN  \n44                            Located on H-75 Road at  \n45                                NCA north entrance.  \n46                                                NaN  \n47                                                NaN  \n48                                                NaN  \n49                                          .25 mile.  \n50                                                NaN  \n51                                                NaN  \n52                                                NaN  \n53                                                NaN  \n54                                     Up to 2 miles.  \n55                                                NaN  \n56                                                NaN  ",
      "text/html": "<div>\n<style scoped>\n    .dataframe tbody tr th:only-of-type {\n        vertical-align: middle;\n    }\n\n    .dataframe tbody tr th {\n        vertical-align: top;\n    }\n\n    .dataframe thead th {\n        text-align: right;\n    }\n</style>\n<table border=\"1\" class=\"dataframe\">\n  <thead>\n    <tr style=\"text-align: right;\">\n      <th></th>\n      <th>Boating – Launch Sites</th>\n      <th>Other Trails</th>\n      <th>Unnamed: 0</th>\n    </tr>\n  </thead>\n  <tbody>\n    <tr>\n      <th>0</th>\n      <td>Chukar Trail and Boat Launch are accessible vi...</td>\n      <td>NaN</td>\n      <td>NaN</td>\n    </tr>\n    <tr>\n      <th>1</th>\n      <td>NaN</td>\n      <td>TRAILS AND ALLOWED DESCRIPTION</td>\n      <td>MILES</td>\n    </tr>\n    <tr>\n      <th>2</th>\n      <td>the Chukar Trailhead. The trail can be accesse...</td>\n      <td>STAGING USES</td>\n      <td>NaN</td>\n    </tr>\n    <tr>\n      <th>3</th>\n      <td>via a primitive, rough road, often requiring f...</td>\n      <td>AREAS</td>\n      <td>NaN</td>\n    </tr>\n    <tr>\n      <th>4</th>\n      <td>wheel drive that ends at the wilderness bounda...</td>\n      <td>Flat Top-Peach Staging Area Off-route cross-co...</td>\n      <td>100+ miles of trails</td>\n    </tr>\n    <tr>\n      <th>5</th>\n      <td>From there it’s a mile-long hike down Chukar a...</td>\n      <td>Valley OHV designated “open play” areas. Peach...</td>\n      <td>covering 9,800 acres.</td>\n    </tr>\n    <tr>\n      <th>6</th>\n      <td>Trail to the river. All gear, including boats,...</td>\n      <td>Recreation Area OQI ing area offers a beginner...</td>\n      <td>NaN</td>\n    </tr>\n    <tr>\n      <th>7</th>\n      <td>be carried down the trail to the river. No carts</td>\n      <td>NaN</td>\n      <td>NaN</td>\n    </tr>\n    <tr>\n      <th>8</th>\n      <td>or wheeled devices are allowed in the wilderne...</td>\n      <td>Red Rocks- Nighthorse Trail JKO jeep road sect...</td>\n      <td>13 miles, one-way.</td>\n    </tr>\n    <tr>\n      <th>9</th>\n      <td>A commercial horse packing service is availabl...</td>\n      <td>wilderness rim from the national park boundary</td>\n      <td>NaN</td>\n    </tr>\n    <tr>\n      <th>10</th>\n      <td>seasonally. Park in Delta. Boaters need to be ...</td>\n      <td>I north to Ute Trailhead.</td>\n      <td>NaN</td>\n    </tr>\n    <tr>\n      <th>11</th>\n      <td>lands and potential river hazards before floating</td>\n      <td>NaN</td>\n      <td>NaN</td>\n    </tr>\n    <tr>\n      <th>12</th>\n      <td>NaN</td>\n      <td>Wave-Eagle Primitive four-wheel drive jeep roa...</td>\n      <td>6.5-mile loop.</td>\n    </tr>\n    <tr>\n      <th>13</th>\n      <td>Gunnison Forks Day-Use Recreation Site offers ...</td>\n      <td>4X4/OHV Route NQJ includes moderate hills with...</td>\n      <td>NaN</td>\n    </tr>\n    <tr>\n      <th>14</th>\n      <td>public launching and take-out on BLM land. There</td>\n      <td>KOI Access off Peach Valley Road. Easier if tr...</td>\n      <td>NaN</td>\n    </tr>\n    <tr>\n      <th>15</th>\n      <td>is an adjacent private river access site avail...</td>\n      <td>counterclockwise from Wave Road.</td>\n      <td>NaN</td>\n    </tr>\n    <tr>\n      <th>16</th>\n      <td>for a fee at the Gunnison River Pleasure Park....</td>\n      <td>NaN</td>\n      <td>NaN</td>\n    </tr>\n    <tr>\n      <th>17</th>\n      <td>Entire trail is 20 miles in rapids with constr...</td>\n      <td>Sidewinder Trail JKO north and south along NCA...</td>\n      <td>length. Shorter or longer</td>\n    </tr>\n    <tr>\n      <th>18</th>\n      <td>Cottonwood Grove Campground is located on chan...</td>\n      <td>NaN</td>\n      <td>NaN</td>\n    </tr>\n    <tr>\n      <th>19</th>\n      <td>river-left 1.5 miles downstream from the Gunni...</td>\n      <td>I ous access points including Smith Mountain R...</td>\n      <td>rides/hikes are available by combining with other</td>\n    </tr>\n    <tr>\n      <th>20</th>\n      <td>NaN</td>\n      <td>Loop, Bobcat, Duncan and Ute Roads.</td>\n      <td>roads or trails.</td>\n    </tr>\n    <tr>\n      <th>21</th>\n      <td>Running the Gorge</td>\n      <td>Eagle Valley Trail JKO connects to Sidewinder,...</td>\n      <td>1.25 mile, one-way.</td>\n    </tr>\n    <tr>\n      <th>22</th>\n      <td>NaN</td>\n      <td>Trails.</td>\n      <td>NaN</td>\n    </tr>\n    <tr>\n      <th>23</th>\n      <td>RIVER MILES RAPID CLASS DESCRIPTION</td>\n      <td>I</td>\n      <td>NaN</td>\n    </tr>\n    <tr>\n      <th>24</th>\n      <td>NaN</td>\n      <td>Sunset Rocks Single track trail connects to ot...</td>\n      <td>3 miles, one-way. Com-</td>\n    </tr>\n    <tr>\n      <th>25</th>\n      <td>1-6 Chukar Rapid III Single drop at the put-in...</td>\n      <td>Trail JKO routes. Access off Chukar Road.</td>\n      <td>bine with Eagle Valley</td>\n    </tr>\n    <tr>\n      <th>26</th>\n      <td>Chukar to Red right slot at lower flows.</td>\n      <td>NaN</td>\n      <td>Trail and Chukar Road</td>\n    </tr>\n    <tr>\n      <th>27</th>\n      <td>Canyon Run One Miler III Run left of the large...</td>\n      <td>I</td>\n      <td>for 6 mile loop.</td>\n    </tr>\n    <tr>\n      <th>28</th>\n      <td>Improvise Rapid III Recognized by a small vert...</td>\n      <td>West River Trail Provides great opportunities ...</td>\n      <td>2.5 miles, one-way.</td>\n    </tr>\n    <tr>\n      <th>29</th>\n      <td>(mile 1.5) slide on left. Scout left.</td>\n      <td>(Day Use Area) JK ing. Access from South River...</td>\n      <td>NaN</td>\n    </tr>\n    <tr>\n      <th>30</th>\n      <td>NaN</td>\n      <td>or sleeping in vehicles at trailhead.</td>\n      <td>NaN</td>\n    </tr>\n    <tr>\n      <th>31</th>\n      <td>Upper and Lower II+ Narrow slots at low flows....</td>\n      <td>NaN</td>\n      <td>NaN</td>\n    </tr>\n    <tr>\n      <th>32</th>\n      <td>Pucker</td>\n      <td>Cool Rock Winds through colorful sandstone can...</td>\n      <td>Up to 3 miles, one-way.</td>\n    </tr>\n    <tr>\n      <th>33</th>\n      <td>NaN</td>\n      <td>Canyon Trail J interesting rock formations and...</td>\n      <td>NaN</td>\n    </tr>\n    <tr>\n      <th>34</th>\n      <td>Buttermilk Rapid III Run at mile 4 straight do...</td>\n      <td>NaN</td>\n      <td>NaN</td>\n    </tr>\n    <tr>\n      <th>35</th>\n      <td>NaN</td>\n      <td>explore. Great family hike. Located off South</td>\n      <td>NaN</td>\n    </tr>\n    <tr>\n      <th>36</th>\n      <td>on left.</td>\n      <td>NaN</td>\n      <td>NaN</td>\n    </tr>\n    <tr>\n      <th>37</th>\n      <td>NaN</td>\n      <td>River Road.</td>\n      <td>NaN</td>\n    </tr>\n    <tr>\n      <th>38</th>\n      <td>Ute Park (mile 4) I/II The canyon opens up and...</td>\n      <td>NaN</td>\n      <td>NaN</td>\n    </tr>\n    <tr>\n      <th>39</th>\n      <td>rocks in low-flow periods. Ute Park provides t...</td>\n      <td>Suncliff Trail Fun hike up and back through sc...</td>\n      <td>Up to 2 miles, one-way.</td>\n    </tr>\n    <tr>\n      <th>40</th>\n      <td>Red Canyon III The canyon narrows again at a r...</td>\n      <td>Smith Mountain Panoramic views of Gunnison Gor...</td>\n      <td>14-mile loop (Smith Mtn</td>\n    </tr>\n    <tr>\n      <th>41</th>\n      <td>Rapid boating skills. Scout right.</td>\n      <td>4X4 Loop NJK and North Fork. Connects to Ute T...</td>\n      <td>Rd/wilderness rim/South</td>\n    </tr>\n    <tr>\n      <th>42</th>\n      <td>NaN</td>\n      <td>OIQ makes a loop with South River Road.</td>\n      <td>River Rd).</td>\n    </tr>\n    <tr>\n      <th>43</th>\n      <td>7-8 Boulder Garden III This used to be a Class...</td>\n      <td>NaN</td>\n      <td>NaN</td>\n    </tr>\n    <tr>\n      <th>44</th>\n      <td>Boulder Garden altered the hydraulics, making ...</td>\n      <td>Smith Mountain Staging/trailhead Provides acce...</td>\n      <td>Located on H-75 Road at</td>\n    </tr>\n    <tr>\n      <th>45</th>\n      <td>to T-Dyke scouting (left), as it is unknown wh...</td>\n      <td>Recreation Area area for all uses South River ...</td>\n      <td>NCA north entrance.</td>\n    </tr>\n    <tr>\n      <th>46</th>\n      <td>on the rapid.</td>\n      <td>NaN</td>\n      <td>NaN</td>\n    </tr>\n    <tr>\n      <th>47</th>\n      <td>NaN</td>\n      <td>Trailer parking for equestrians and motorized</td>\n      <td>NaN</td>\n    </tr>\n    <tr>\n      <th>48</th>\n      <td>Paddle Keeper III Best run on left with ferry ...</td>\n      <td>users.</td>\n      <td>NaN</td>\n    </tr>\n    <tr>\n      <th>49</th>\n      <td>T-Dyke Rapid III A straight run through with n...</td>\n      <td>Gunnison Rock Trail to interpretive rock art s...</td>\n      <td>.25 mile.</td>\n    </tr>\n    <tr>\n      <th>50</th>\n      <td>(mile 7.5) boater camp is located on the right...</td>\n      <td>Art Trail (Law- JK River. Access via jeep road...</td>\n      <td>NaN</td>\n    </tr>\n    <tr>\n      <th>51</th>\n      <td>9 S-Turn Rapid III Pushes boats toward the cli...</td>\n      <td>head Gulch) camping at the rock art site.</td>\n      <td>NaN</td>\n    </tr>\n    <tr>\n      <th>52</th>\n      <td>S-Turn to Grand Up to 2 miles. Finale (Most ge...</td>\n      <td>Crocodile Rock Trail J Undefined trails in can...</td>\n      <td>NaN</td>\n    </tr>\n    <tr>\n      <th>53</th>\n      <td>The Three Drops III Contains many large holes ...</td>\n      <td>NaN</td>\n      <td>NaN</td>\n    </tr>\n    <tr>\n      <th>54</th>\n      <td>NaN</td>\n      <td>Birthday Undefined trails in canyon bottom wit...</td>\n      <td>Up to 2 miles.</td>\n    </tr>\n    <tr>\n      <th>55</th>\n      <td>Cable Rapid III/IV Very technical with large h...</td>\n      <td>Canyon Trail J geology. Requires route finding...</td>\n      <td>NaN</td>\n    </tr>\n    <tr>\n      <th>56</th>\n      <td>(mile 9.5) right slot avoiding cliff on left. ...</td>\n      <td>over large rocks.</td>\n      <td>NaN</td>\n    </tr>\n  </tbody>\n</table>\n</div>"
     },
     "metadata": {}
    }
   ]
  },
  {
   "cell_type": "markdown",
   "source": "# Problems with BLM as Primary Source",
   "metadata": {
    "formattedRanges": [],
    "is_collapsed": false,
    "cell_id": "8af3299d7f0441f7be53bdab5aeb857e",
    "tags": [],
    "deepnote_cell_type": "text-cell-h1"
   }
  },
  {
   "cell_type": "markdown",
   "source": "From BLM directly, we have GIS data that is tuned for use in GIS applications like building maps and likely internal planning activities, a handful of web links for major trails with some type of significant public interest (e.g., access to historical sites), and highly variable curated information sources like brochures that would need to be read and turned into data by humans. We have no really good way to use BLM data/information sources as the primary references for injecting new trail entities into Wikidata, at least not programmatically and at scale. If I end up taking an approach where I essentially go through and carefully curate the knowledge about trails one trail at a time, even if I do that in the form of a database that gets synced into Wikidata, this might be fine. If I wanted to do something completely with code, I don't see a way to get there from these sources alone or even as the initial starting point. At the very least I would need to come in with an a priori set of trail names, find those in the BLM GIS data, and then work with what I find.",
   "metadata": {
    "is_collapsed": false,
    "cell_id": "38924843-8918-4ae9-bcc5-a5a95899d745",
    "tags": [],
    "formattedRanges": [],
    "deepnote_cell_type": "text-cell-p"
   }
  },
  {
   "cell_type": "markdown",
   "source": "# OpenStreetMap",
   "metadata": {
    "formattedRanges": [],
    "is_collapsed": false,
    "cell_id": "17440c5e-6e81-4eb7-8d4f-4f82fd19f4de",
    "tags": [],
    "deepnote_cell_type": "text-cell-h1"
   }
  },
  {
   "cell_type": "markdown",
   "source": "Another option on this, or perhaps an additional data starting point, is to work with what's in OpenStreetMap currently. This is what commercial groups like Natural Atlas and All Trails have done to produce their own proprietary datasets. Let's look at a couple examples of trails we know about based simply on looking them up by unique ID via the OSM Overpass API.",
   "metadata": {
    "formattedRanges": [],
    "is_collapsed": false,
    "cell_id": "6fdd0841-5211-46d1-a208-fbd1f31162cf",
    "tags": [],
    "deepnote_cell_type": "text-cell-p"
   }
  },
  {
   "cell_type": "code",
   "metadata": {
    "cell_id": "4578de84b8684fcbb001fe6357ddad8e",
    "tags": [],
    "deepnote_to_be_reexecuted": false,
    "source_hash": "6384c2a9",
    "execution_start": 1662990505195,
    "execution_millis": 251,
    "deepnote_cell_type": "code",
    "deepnote_cell_height": 184
   },
   "source": "from OSMPythonTools.api import Api\nfrom OSMPythonTools.overpass import overpassQueryBuilder, Overpass\nfrom OSMPythonTools.nominatim import Nominatim\n\nosm_api = Api()\noverpass = Overpass()\nnominatim = Nominatim()",
   "execution_count": 25,
   "outputs": []
  },
  {
   "cell_type": "code",
   "metadata": {
    "cell_id": "07f14eeb61d243868fc01def3d8760e0",
    "tags": [],
    "deepnote_to_be_reexecuted": false,
    "source_hash": "66da9585",
    "execution_start": 1662990508521,
    "execution_millis": 1500,
    "deepnote_cell_type": "code",
    "deepnote_cell_height": 182.078125
   },
   "source": "cool_rock_canyon = osm_api.query('way/46023512')\ncool_rock_canyon_trailhead = osm_api.query('node/3726754308')\nsidewinder_trail = osm_api.query('way/239024531')",
   "execution_count": 26,
   "outputs": [
    {
     "name": "stderr",
     "text": "[api] downloading data: way/46023512\n[api] downloading data: node/3726754308\n[api] downloading data: way/239024531\n",
     "output_type": "stream"
    }
   ]
  },
  {
   "cell_type": "code",
   "metadata": {
    "cell_id": "c132d684eab445498ca56cca81b6c2f4",
    "tags": [],
    "deepnote_to_be_reexecuted": false,
    "source_hash": "e6f3159a",
    "execution_start": 1662990512141,
    "execution_millis": 8,
    "deepnote_cell_type": "code",
    "deepnote_cell_height": 423.328125,
    "deepnote_output_heights": [
     116.171875,
     96.96875,
     20.1875
    ]
   },
   "source": "display(sidewinder_trail.tags())\ndisplay(cool_rock_canyon.tags())\ndisplay(cool_rock_canyon_trailhead.tags())",
   "execution_count": 27,
   "outputs": [
    {
     "data": {
      "text/plain": "{'bicycle': 'yes',\n 'highway': 'path',\n 'motorcycle': 'yes',\n 'mtb:scale:imba': '3',\n 'name': 'Sidewinder Trail',\n 'surface': 'ground'}"
     },
     "metadata": {},
     "output_type": "display_data"
    },
    {
     "data": {
      "text/plain": "{'intermittent': 'yes',\n 'name': 'Cool Rock Canyon',\n 'nhd:com_id': '75547519;75563569',\n 'source': 'NHD, Bing',\n 'waterway': 'stream'}"
     },
     "metadata": {},
     "output_type": "display_data"
    },
    {
     "data": {
      "text/plain": "{'amenity': 'parking', 'name': 'Cool Rock Canyon Trailhead', 'operator': 'BLM'}"
     },
     "metadata": {},
     "output_type": "display_data"
    }
   ]
  },
  {
   "cell_type": "markdown",
   "source": "There's something of a significant issue here that is also pointing toward the need for public data curation. The Sidewinder Trail is a specifically constructed trail geared toward off-road motorcycles and mountain bikes with secondary uses for hiking and horseback riding (that's from my own local knowledge of that trail plus a bit of what BLM says in their brochure). Cool Rock Canyon is another designated trail that even has its own parking area that OSM knows about as a node (also shown above).",
   "metadata": {
    "formattedRanges": [],
    "is_collapsed": false,
    "cell_id": "5c5d5ab8ae8a4f24bfae9d6cd7308cf2",
    "tags": [],
    "deepnote_cell_type": "text-cell-p"
   }
  },
  {
   "cell_type": "markdown",
   "source": "However, Cool Rock Canyon is not actually known to OSM as a \"trail\" with any tags that would let us discover it as such. Looking at some history behind the way, it came from someone spending some time with the National Hydrography Dataset, turning that into OSM data. So, OSM knows Cool Rock Canyon as an intermittent stream, which is true but that's not all it is.",
   "metadata": {
    "formattedRanges": [],
    "is_collapsed": false,
    "cell_id": "13edac3a-5f92-4fde-8e2e-5e3984273ded",
    "tags": [],
    "deepnote_cell_type": "text-cell-p"
   }
  },
  {
   "cell_type": "markdown",
   "source": "So, we could nominally hit the OSM API with a query for all \"ways\" within the GGNCA boundary and certain attributes that describe trails and still not come up with all of the trail records we want to work with. And what do we do with things that are classified as waterways but are also \"highways\"? The OSM data model and the Wikidata model share some commonalities, and a fair bit of work has been done to establish cross-referencing between the systems. However, this seems like an area where the Wikidata model has an advantage in being able to classify (instance of) an entity like \"Cool Rock Canyon\" as both an intermittent stream and a \"footpath.\"",
   "metadata": {
    "formattedRanges": [],
    "is_collapsed": false,
    "cell_id": "0fc88cd5-229b-4787-bc08-8310f837463b",
    "tags": [],
    "deepnote_cell_type": "text-cell-p"
   }
  },
  {
   "cell_type": "markdown",
   "source": "In the following code blocks, I run through a couple of different queries toward an operational notion of querying OSM for data that would have a relationship to the trail concept",
   "metadata": {
    "formattedRanges": [],
    "is_collapsed": false,
    "cell_id": "02d40c20-747e-4ae1-9691-307bece7a039",
    "tags": [],
    "deepnote_cell_type": "text-cell-p"
   }
  },
  {
   "cell_type": "code",
   "metadata": {
    "cell_id": "ee89023b4a4e4334a83adfb23a8a1f5d",
    "tags": [],
    "deepnote_to_be_reexecuted": false,
    "source_hash": "e6607bbf",
    "execution_start": 1662928056365,
    "execution_millis": 13,
    "deepnote_cell_type": "code",
    "deepnote_cell_height": 147.6875
   },
   "source": "# Find the GGNCA as an \"area\" using OSM's Nominatim name search so that we can pass this as our bounding area\nggnca = nominatim.query('Gunnison Gorge National Conservation Area')\nprint(ggnca.areaId())",
   "execution_count": null,
   "outputs": [
    {
     "name": "stdout",
     "text": "3605900825\n",
     "output_type": "stream"
    }
   ]
  },
  {
   "cell_type": "code",
   "metadata": {
    "cell_id": "0ceb9797fa2d4c2889e66a6659c81a7d",
    "tags": [],
    "deepnote_to_be_reexecuted": false,
    "source_hash": "26c3d265",
    "execution_start": 1662929070920,
    "execution_millis": 9,
    "deepnote_cell_type": "code",
    "deepnote_cell_height": 491.390625,
    "deepnote_output_heights": [
     null,
     20.1875
    ]
   },
   "source": "# Build and run queries for \"paths\" and \"streams\", which will give us what might be some of our useful trail records\npath_query = overpassQueryBuilder(\n    area=ggnca.areaId(), \n    elementType='way', \n    selector='\"highway\"=\"path\"', \n    out='body'\n)\n\nstream_query = overpassQueryBuilder(\n    area=ggnca.areaId(), \n    elementType='way', \n    selector='\"waterway\"=\"stream\"', \n    out='body'\n)\n\nggnca_paths = overpass.query(path_query)\nprint(ggnca_paths.countElements())\n\nggnca_streams = overpass.query(stream_query)\nprint(ggnca_streams.countElements())\n",
   "execution_count": null,
   "outputs": [
    {
     "name": "stdout",
     "text": "10\n163\n",
     "output_type": "stream"
    }
   ]
  },
  {
   "cell_type": "code",
   "metadata": {
    "cell_id": "0ea20538513e44908f8b853842e4c579",
    "tags": [],
    "deepnote_to_be_reexecuted": false,
    "source_hash": "4137fce1",
    "execution_start": 1662929087382,
    "execution_millis": 352,
    "deepnote_cell_type": "code",
    "deepnote_cell_height": 2573.640625,
    "deepnote_output_heights": [
     116.171875,
     116.171875,
     135.359375,
     135.359375,
     96.96875,
     96.96875,
     96.96875,
     96.96875,
     96.96875,
     96.96875,
     96.96875,
     116.171875,
     96.96875,
     135.359375,
     96.96875,
     96.96875,
     135.359375
    ]
   },
   "source": "# Display out the paths and trails we found\nfor i in ggnca_paths.elements():\n    if 'name' in i.tags():\n        display(i.tags())\n\nfor i in ggnca_streams.elements():\n    if 'name' in i.tags():\n        display(i.tags())",
   "execution_count": null,
   "outputs": [
    {
     "data": {
      "text/plain": "{'bicycle': 'yes',\n 'highway': 'path',\n 'motorcycle': 'yes',\n 'mtb:scale:imba': '3',\n 'name': 'Sidewinder Trail',\n 'surface': 'ground'}"
     },
     "metadata": {},
     "output_type": "display_data"
    },
    {
     "data": {
      "text/plain": "{'bicycle': 'no',\n 'foot': 'yes',\n 'highway': 'path',\n 'horse': 'yes',\n 'name': 'West River Trail',\n 'source': 'BLM, Bing'}"
     },
     "metadata": {},
     "output_type": "display_data"
    },
    {
     "data": {
      "text/plain": "{'foot': 'yes',\n 'highway': 'path',\n 'horse': 'yes',\n 'name': 'Chukar Trail',\n 'source': 'Bing',\n 'surface': 'dirt',\n 'wikidata': 'Q112667890'}"
     },
     "metadata": {},
     "output_type": "display_data"
    },
    {
     "data": {
      "text/plain": "{'bicycle': 'yes',\n 'foot': 'yes',\n 'highway': 'path',\n 'horse': 'yes',\n 'motor_vehicle': 'yes',\n 'name': 'Eagle Valley',\n 'surface': 'dirt'}"
     },
     "metadata": {},
     "output_type": "display_data"
    },
    {
     "data": {
      "text/plain": "{'intermittent': 'yes',\n 'name': 'Red Canyon',\n 'nhd:com_id': '64442888;64458607;64458729;64458714;64458628;64442783;64458591;64458691;64482052;64442835;64442823;64442818;64458765;64458754;64458611;64458744;64458623;64458640;64442907;64458664',\n 'source': 'NHD, Bing',\n 'waterway': 'stream'}"
     },
     "metadata": {},
     "output_type": "display_data"
    },
    {
     "data": {
      "text/plain": "{'intermittent': 'yes',\n 'name': 'Long Gulch',\n 'nhd:com_id': '64442775;64442884;64443012',\n 'source': 'NHD, Bing',\n 'waterway': 'stream'}"
     },
     "metadata": {},
     "output_type": "display_data"
    },
    {
     "data": {
      "text/plain": "{'intermittent': 'yes',\n 'name': 'Lime Kiln Gulch',\n 'nhd:com_id': '64442791',\n 'source': 'NHD, Bing',\n 'waterway': 'stream'}"
     },
     "metadata": {},
     "output_type": "display_data"
    },
    {
     "data": {
      "text/plain": "{'intermittent': 'yes',\n 'name': 'Birthday Canyon',\n 'nhd:com_id': '75563571;75547411',\n 'source': 'NHD, Bing',\n 'waterway': 'stream'}"
     },
     "metadata": {},
     "output_type": "display_data"
    },
    {
     "data": {
      "text/plain": "{'intermittent': 'yes',\n 'name': 'Cool Rock Canyon',\n 'nhd:com_id': '75547519;75563569',\n 'source': 'NHD, Bing',\n 'waterway': 'stream'}"
     },
     "metadata": {},
     "output_type": "display_data"
    },
    {
     "data": {
      "text/plain": "{'intermittent': 'yes',\n 'name': 'Sun Cliff Canyon',\n 'nhd:com_id': '75568885;75568803;75567627',\n 'source': 'NHD, Bing',\n 'waterway': 'stream'}"
     },
     "metadata": {},
     "output_type": "display_data"
    },
    {
     "data": {
      "text/plain": "{'intermittent': 'yes',\n 'name': 'Rabbit Gulch',\n 'nhd:com_id': '64464048',\n 'source': 'NHD, Bing',\n 'waterway': 'stream'}"
     },
     "metadata": {},
     "output_type": "display_data"
    },
    {
     "data": {
      "text/plain": "{'intermittent': 'yes',\n 'name': 'Loutsenhizer Arroyo',\n 'nhd:com_id': '<many>',\n 'nhd:gnis_id': '00186688',\n 'source': 'NHD, Bing',\n 'waterway': 'stream'}"
     },
     "metadata": {},
     "output_type": "display_data"
    },
    {
     "data": {
      "text/plain": "{'name': 'Smith Fork',\n 'nhd:com_id': '<many>',\n 'nhd:gnis_id': '00186702',\n 'source': 'NHD, Bing',\n 'waterway': 'stream'}"
     },
     "metadata": {},
     "output_type": "display_data"
    },
    {
     "data": {
      "text/plain": "{'intermittent': 'yes',\n 'layer': '-1',\n 'name': 'Cool Rock Canyon',\n 'nhd:com_id': '75547519;75563569',\n 'source': 'NHD, Bing',\n 'tunnel': 'culvert',\n 'waterway': 'stream'}"
     },
     "metadata": {},
     "output_type": "display_data"
    },
    {
     "data": {
      "text/plain": "{'intermittent': 'yes',\n 'name': 'Cool Rock Canyon',\n 'nhd:com_id': '75547519;75563569',\n 'source': 'NHD, Bing',\n 'waterway': 'stream'}"
     },
     "metadata": {},
     "output_type": "display_data"
    },
    {
     "data": {
      "text/plain": "{'intermittent': 'yes',\n 'name': 'Sun Cliff Canyon',\n 'nhd:com_id': '75568885;75568803;75567627',\n 'source': 'NHD, Bing',\n 'waterway': 'stream'}"
     },
     "metadata": {},
     "output_type": "display_data"
    },
    {
     "data": {
      "text/plain": "{'intermittent': 'yes',\n 'layer': '-1',\n 'name': 'Sun Cliff Canyon',\n 'nhd:com_id': '75568885;75568803;75567627',\n 'source': 'NHD, Bing',\n 'tunnel': 'culvert',\n 'waterway': 'stream'}"
     },
     "metadata": {},
     "output_type": "display_data"
    }
   ]
  },
  {
   "cell_type": "markdown",
   "source": "Well, bottom line here is that OSM isn't really all the way there yet either in terms of useful content that might help us get at fully fledged public data records on trails in the GGNCA (and presumably any other public land we might try to work through). But there is some useful data here, particularly from the standpoint of an alternate and potentially better source of geospatial data from what the BLM has. At least with the name and geospatial data for a given trail from OSM and the BLM source on their ArcGIS Hub, we could potentially connect the dots. Improving OSM with additional useful tags at the same time we improve or add new records to Wikidata could be part of a code-driven process operated from an intermediary curation point we set up.",
   "metadata": {
    "formattedRanges": [],
    "is_collapsed": false,
    "cell_id": "835c4de968b944d6846e00021fc6373f",
    "tags": [],
    "deepnote_cell_type": "text-cell-p"
   }
  },
  {
   "cell_type": "markdown",
   "source": "The following code blocks are probably a clunky way to do this, but I run a query for all ways and nodes and then put all the tags for those that have a name into a dataframe. This might be one way to start a data assembly exercise - pulling in all the possible records from OSM that we might be able to connect to other public sources of information. We can then start connecting dots and improving data we want to encode into the knowledge commons, combining both claims for Wikidata and tags for OSM.",
   "metadata": {
    "formattedRanges": [],
    "is_collapsed": false,
    "cell_id": "8b2937ca-6f11-4ac5-8315-d56c0f1421be",
    "tags": [],
    "deepnote_cell_type": "text-cell-p"
   }
  },
  {
   "cell_type": "code",
   "metadata": {
    "cell_id": "e19d4b420e0b4fabbd052d838db186db",
    "tags": [],
    "deepnote_to_be_reexecuted": false,
    "source_hash": "4cf0b72e",
    "execution_start": 1662929772679,
    "execution_millis": 0,
    "deepnote_cell_type": "code",
    "deepnote_cell_height": 382,
    "deepnote_output_heights": [
     null,
     135.359375,
     154.5625,
     154.5625,
     77.78125,
     77.78125,
     96.96875,
     116.171875,
     96.96875,
     173.75,
     96.96875,
     96.96875,
     116.171875,
     96.96875,
     116.171875,
     96.96875,
     96.96875,
     96.96875,
     116.171875,
     116.171875,
     116.171875,
     116.171875,
     96.96875,
     116.171875,
     96.96875,
     116.171875,
     77.78125,
     135.359375,
     135.359375,
     135.359375,
     77.78125,
     77.78125,
     77.78125,
     135.359375,
     135.359375,
     135.359375,
     135.359375,
     116.171875,
     135.359375,
     135.359375,
     135.359375,
     135.359375,
     116.171875,
     20.1875,
     135.359375,
     96.96875,
     96.96875,
     135.359375,
     96.96875,
     96.96875,
     135.359375,
     96.96875,
     135.359375,
     20.1875
    ]
   },
   "source": "all_ways_and_nodes_query = overpassQueryBuilder(\n    area=ggnca.areaId(), \n    elementType=['way','node'], \n    out='body'\n)\n\nall_ways_and_nodes_result = overpass.query(all_ways_query)\n\nall_ways_and_nodes = []\nfor i in all_ways_and_nodes_result.elements():\n    if i.tags() is not None and 'name' in i.tags():\n        item_data = dict(i.tags())\n        item_data[\"osm_item_type\"] = i.type()\n        item_data[\"osm_id\"] = i.id()\n        item_data[\"osm_path\"] = \"/\".join([i.type(), str(i.id())])\n        all_ways_and_nodes.append(item_data)\n\ndf_all_ways_and_nodes = pd.DataFrame(all_ways_and_nodes)",
   "execution_count": null,
   "outputs": []
  },
  {
   "cell_type": "code",
   "metadata": {
    "cell_id": "16c5e4d6611d4eebaf4c1073566175ed",
    "tags": [],
    "deepnote_to_be_reexecuted": false,
    "source_hash": "3cccebd0",
    "execution_start": 1662929818030,
    "execution_millis": 66,
    "deepnote_cell_type": "code",
    "deepnote_cell_height": 595,
    "deepnote_output_heights": [
     135.359375,
     154.5625,
     154.5625,
     77.78125,
     77.78125,
     96.96875,
     116.171875,
     96.96875,
     173.75,
     96.96875,
     96.96875,
     116.171875,
     96.96875,
     116.171875,
     96.96875,
     96.96875,
     96.96875,
     116.171875,
     116.171875,
     116.171875,
     116.171875,
     96.96875,
     116.171875,
     96.96875,
     116.171875,
     77.78125,
     135.359375,
     135.359375,
     135.359375,
     77.78125,
     77.78125,
     77.78125,
     135.359375,
     135.359375,
     135.359375,
     135.359375,
     116.171875,
     135.359375,
     135.359375,
     135.359375,
     135.359375,
     116.171875,
     20.1875,
     135.359375,
     96.96875,
     96.96875,
     135.359375,
     96.96875,
     96.96875,
     135.359375,
     96.96875,
     135.359375,
     20.1875
    ]
   },
   "source": "df_all_ways_and_nodes",
   "execution_count": null,
   "outputs": [
    {
     "output_type": "execute_result",
     "execution_count": 85,
     "data": {
      "application/vnd.deepnote.dataframe.v3+json": {
       "column_count": 42,
       "row_count": 89,
       "columns": [
        {
         "name": "ele",
         "dtype": "object",
         "stats": {
          "unique_count": 10,
          "nan_count": 78,
          "categories": [
           {
            "name": "1586",
            "count": 2
           },
           {
            "name": "9 others",
            "count": 9
           },
           {
            "name": "Missing",
            "count": 78
           }
          ]
         }
        },
        {
         "name": "gnis:county_id",
         "dtype": "object",
         "stats": {
          "unique_count": 2,
          "nan_count": 83,
          "categories": [
           {
            "name": "029",
            "count": 3
           },
           {
            "name": "085",
            "count": 3
           },
           {
            "name": "Missing",
            "count": 83
           }
          ]
         }
        },
        {
         "name": "gnis:created",
         "dtype": "object",
         "stats": {
          "unique_count": 3,
          "nan_count": 78,
          "categories": [
           {
            "name": "10/13/1978",
            "count": 8
           },
           {
            "name": "2 others",
            "count": 3
           },
           {
            "name": "Missing",
            "count": 78
           }
          ]
         }
        },
        {
         "name": "gnis:feature_id",
         "dtype": "object",
         "stats": {
          "unique_count": 11,
          "nan_count": 78,
          "categories": [
           {
            "name": "186487",
            "count": 1
           },
           {
            "name": "10 others",
            "count": 10
           },
           {
            "name": "Missing",
            "count": 78
           }
          ]
         }
        },
        {
         "name": "gnis:state_id",
         "dtype": "object",
         "stats": {
          "unique_count": 1,
          "nan_count": 83,
          "categories": [
           {
            "name": "08",
            "count": 6
           },
           {
            "name": "Missing",
            "count": 83
           }
          ]
         }
        },
        {
         "name": "name",
         "dtype": "object",
         "stats": {
          "unique_count": 77,
          "nan_count": 0,
          "categories": [
           {
            "name": "Cool Rock Canyon",
            "count": 3
           },
           {
            "name": "Sun Cliff Canyon",
            "count": 3
           },
           {
            "name": "75 others",
            "count": 83
           }
          ]
         }
        },
        {
         "name": "place",
         "dtype": "object",
         "stats": {
          "unique_count": 1,
          "nan_count": 86,
          "categories": [
           {
            "name": "locality",
            "count": 3
           },
           {
            "name": "Missing",
            "count": 86
           }
          ]
         }
        },
        {
         "name": "osm_item_type",
         "dtype": "object",
         "stats": {
          "unique_count": 2,
          "nan_count": 0,
          "categories": [
           {
            "name": "way",
            "count": 53
           },
           {
            "name": "node",
            "count": 36
           }
          ]
         }
        },
        {
         "name": "osm_id",
         "dtype": "int64",
         "stats": {
          "unique_count": 89,
          "nan_count": 0,
          "min": "17040435",
          "max": "3729425335",
          "histogram": [
           {
            "bin_start": 17040435,
            "bin_end": 388278925,
            "count": 59
           },
           {
            "bin_start": 388278925,
            "bin_end": 759517415,
            "count": 2
           },
           {
            "bin_start": 759517415,
            "bin_end": 1130755905,
            "count": 2
           },
           {
            "bin_start": 1130755905,
            "bin_end": 1501994395,
            "count": 0
           },
           {
            "bin_start": 1501994395,
            "bin_end": 1873232885,
            "count": 0
           },
           {
            "bin_start": 1873232885,
            "bin_end": 2244471375,
            "count": 0
           },
           {
            "bin_start": 2244471375,
            "bin_end": 2615709865,
            "count": 1
           },
           {
            "bin_start": 2615709865,
            "bin_end": 2986948355,
            "count": 0
           },
           {
            "bin_start": 2986948355,
            "bin_end": 3358186845,
            "count": 0
           },
           {
            "bin_start": 3358186845,
            "bin_end": 3729425335,
            "count": 25
           }
          ]
         }
        },
        {
         "name": "osm_path",
         "dtype": "object",
         "stats": {
          "unique_count": 89,
          "nan_count": 0,
          "categories": [
           {
            "name": "node/358922443",
            "count": 1
           },
           {
            "name": "node/358922563",
            "count": 1
           },
           {
            "name": "87 others",
            "count": 87
           }
          ]
         }
        },
        {
         "name": "waterway",
         "dtype": "object",
         "stats": {
          "unique_count": 5,
          "nan_count": 60,
          "categories": [
           {
            "name": "stream",
            "count": 13
           },
           {
            "name": "4 others",
            "count": 16
           },
           {
            "name": "Missing",
            "count": 60
           }
          ]
         }
        },
        {
         "name": "addr:state",
         "dtype": "object",
         "stats": {
          "unique_count": 1,
          "nan_count": 84,
          "categories": [
           {
            "name": "CO",
            "count": 5
           },
           {
            "name": "Missing",
            "count": 84
           }
          ]
         }
        },
        {
         "name": "gnis:county_name",
         "dtype": "object",
         "stats": {
          "unique_count": 2,
          "nan_count": 84,
          "categories": [
           {
            "name": "Delta",
            "count": 3
           },
           {
            "name": "Montrose",
            "count": 2
           },
           {
            "name": "Missing",
            "count": 84
           }
          ]
         }
        },
        {
         "name": "gnis:feature_type",
         "dtype": "object",
         "stats": {
          "unique_count": 1,
          "nan_count": 84,
          "categories": [
           {
            "name": "Mine",
            "count": 5
           },
           {
            "name": "Missing",
            "count": 84
           }
          ]
         }
        },
        {
         "name": "landuse",
         "dtype": "object",
         "stats": {
          "unique_count": 1,
          "nan_count": 85,
          "categories": [
           {
            "name": "quarry",
            "count": 4
           },
           {
            "name": "Missing",
            "count": 85
           }
          ]
         }
        },
        {
         "name": "man_made",
         "dtype": "object",
         "stats": {
          "unique_count": 1,
          "nan_count": 88,
          "categories": [
           {
            "name": "adit",
            "count": 1
           },
           {
            "name": "Missing",
            "count": 88
           }
          ]
         }
        },
        {
         "name": "amenity",
         "dtype": "object",
         "stats": {
          "unique_count": 1,
          "nan_count": 69,
          "categories": [
           {
            "name": "parking",
            "count": 20
           },
           {
            "name": "Missing",
            "count": 69
           }
          ]
         }
        },
        {
         "name": "operator",
         "dtype": "object",
         "stats": {
          "unique_count": 1,
          "nan_count": 68,
          "categories": [
           {
            "name": "BLM",
            "count": 21
           },
           {
            "name": "Missing",
            "count": 68
           }
          ]
         }
        },
        {
         "name": "tourism",
         "dtype": "object",
         "stats": {
          "unique_count": 3,
          "nan_count": 85,
          "categories": [
           {
            "name": "viewpoint",
            "count": 2
           },
           {
            "name": "2 others",
            "count": 2
           },
           {
            "name": "Missing",
            "count": 85
           }
          ]
         }
        },
        {
         "name": "leisure",
         "dtype": "object",
         "stats": {
          "unique_count": 1,
          "nan_count": 88,
          "categories": [
           {
            "name": "slipway",
            "count": 1
           },
           {
            "name": "Missing",
            "count": 88
           }
          ]
         }
        },
        {
         "name": "highway",
         "dtype": "object",
         "stats": {
          "unique_count": 3,
          "nan_count": 64,
          "categories": [
           {
            "name": "track",
            "count": 15
           },
           {
            "name": "2 others",
            "count": 10
           },
           {
            "name": "Missing",
            "count": 64
           }
          ]
         }
        },
        {
         "name": "motor_vehicle",
         "dtype": "object",
         "stats": {
          "unique_count": 1,
          "nan_count": 75,
          "categories": [
           {
            "name": "yes",
            "count": 14
           },
           {
            "name": "Missing",
            "count": 75
           }
          ]
         }
        },
        {
         "name": "smoothness",
         "dtype": "object",
         "stats": {
          "unique_count": 1,
          "nan_count": 74,
          "categories": [
           {
            "name": "very_bad",
            "count": 15
           },
           {
            "name": "Missing",
            "count": 74
           }
          ]
         }
        },
        {
         "name": "source",
         "dtype": "object",
         "stats": {
          "unique_count": 7,
          "nan_count": 42,
          "categories": [
           {
            "name": "NHD, Bing",
            "count": 25
           },
           {
            "name": "6 others",
            "count": 22
           },
           {
            "name": "Missing",
            "count": 42
           }
          ]
         }
        },
        {
         "name": "surface",
         "dtype": "object",
         "stats": {
          "unique_count": 4,
          "nan_count": 65,
          "categories": [
           {
            "name": "dirt",
            "count": 21
           },
           {
            "name": "3 others",
            "count": 3
           },
           {
            "name": "Missing",
            "count": 65
           }
          ]
         }
        },
        {
         "name": "tracktype",
         "dtype": "object",
         "stats": {
          "unique_count": 3,
          "nan_count": 74,
          "categories": [
           {
            "name": "grade3",
            "count": 10
           },
           {
            "name": "2 others",
            "count": 5
           },
           {
            "name": "Missing",
            "count": 74
           }
          ]
         }
        },
        {
         "name": "tiger:name_base",
         "dtype": "object",
         "stats": {
          "unique_count": 1,
          "nan_count": 87,
          "categories": [
           {
            "name": "G 50",
            "count": 2
           },
           {
            "name": "Missing",
            "count": 87
           }
          ]
         }
        },
        {
         "name": "intermittent",
         "dtype": "object",
         "stats": {
          "unique_count": 1,
          "nan_count": 76,
          "categories": [
           {
            "name": "yes",
            "count": 13
           },
           {
            "name": "Missing",
            "count": 76
           }
          ]
         }
        },
        {
         "name": "nhd:com_id",
         "dtype": "object",
         "stats": {
          "unique_count": 17,
          "nan_count": 64,
          "categories": [
           {
            "name": "<many>",
            "count": 5
           },
           {
            "name": "16 others",
            "count": 20
           },
           {
            "name": "Missing",
            "count": 64
           }
          ]
         }
        },
        {
         "name": "layer",
         "dtype": "object",
         "stats": {
          "unique_count": 1,
          "nan_count": 79,
          "categories": [
           {
            "name": "-1",
            "count": 10
           },
           {
            "name": "Missing",
            "count": 79
           }
          ]
         }
        },
        {
         "name": "nhd:gnis_id",
         "dtype": "object",
         "stats": {
          "unique_count": 9,
          "nan_count": 76,
          "categories": [
           {
            "name": "00203252",
            "count": 3
           },
           {
            "name": "8 others",
            "count": 10
           },
           {
            "name": "Missing",
            "count": 76
           }
          ]
         }
        },
        {
         "name": "natural",
         "dtype": "object",
         "stats": {
          "unique_count": 2,
          "nan_count": 87,
          "categories": [
           {
            "name": "water",
            "count": 1
           },
           {
            "name": "ridge",
            "count": 1
           },
           {
            "name": "Missing",
            "count": 87
           }
          ]
         }
        },
        {
         "name": "water",
         "dtype": "object",
         "stats": {
          "unique_count": 1,
          "nan_count": 88,
          "categories": [
           {
            "name": "pond",
            "count": 1
           },
           {
            "name": "Missing",
            "count": 88
           }
          ]
         }
        },
        {
         "name": "bicycle",
         "dtype": "object",
         "stats": {
          "unique_count": 2,
          "nan_count": 86,
          "categories": [
           {
            "name": "yes",
            "count": 2
           },
           {
            "name": "no",
            "count": 1
           },
           {
            "name": "Missing",
            "count": 86
           }
          ]
         }
        },
        {
         "name": "motorcycle",
         "dtype": "object",
         "stats": {
          "unique_count": 1,
          "nan_count": 88,
          "categories": [
           {
            "name": "yes",
            "count": 1
           },
           {
            "name": "Missing",
            "count": 88
           }
          ]
         }
        },
        {
         "name": "mtb:scale:imba",
         "dtype": "object",
         "stats": {
          "unique_count": 1,
          "nan_count": 88,
          "categories": [
           {
            "name": "3",
            "count": 1
           },
           {
            "name": "Missing",
            "count": 88
           }
          ]
         }
        },
        {
         "name": "parking",
         "dtype": "object",
         "stats": {
          "unique_count": 1,
          "nan_count": 88,
          "categories": [
           {
            "name": "surface",
            "count": 1
           },
           {
            "name": "Missing",
            "count": 88
           }
          ]
         }
        },
        {
         "name": "name_1",
         "dtype": "object",
         "stats": {
          "unique_count": 1,
          "nan_count": 88,
          "categories": [
           {
            "name": "Coal Bank Road",
            "count": 1
           },
           {
            "name": "Missing",
            "count": 88
           }
          ]
         }
        },
        {
         "name": "foot",
         "dtype": "object",
         "stats": {
          "unique_count": 1,
          "nan_count": 86,
          "categories": [
           {
            "name": "yes",
            "count": 3
           },
           {
            "name": "Missing",
            "count": 86
           }
          ]
         }
        },
        {
         "name": "horse",
         "dtype": "object",
         "stats": {
          "unique_count": 1,
          "nan_count": 86,
          "categories": [
           {
            "name": "yes",
            "count": 3
           },
           {
            "name": "Missing",
            "count": 86
           }
          ]
         }
        },
        {
         "name": "wikidata",
         "dtype": "object",
         "stats": {
          "unique_count": 1,
          "nan_count": 88,
          "categories": [
           {
            "name": "Q112667890",
            "count": 1
           },
           {
            "name": "Missing",
            "count": 88
           }
          ]
         }
        },
        {
         "name": "tunnel",
         "dtype": "object",
         "stats": {
          "unique_count": 1,
          "nan_count": 87,
          "categories": [
           {
            "name": "culvert",
            "count": 2
           },
           {
            "name": "Missing",
            "count": 87
           }
          ]
         }
        },
        {
         "name": "_deepnote_index_column",
         "dtype": "int64"
        }
       ],
       "rows": [
        {
         "ele": "1718",
         "gnis:county_id": "029",
         "gnis:created": "10/13/1978",
         "gnis:feature_id": "186487",
         "gnis:state_id": "08",
         "name": "Smiths Mountain",
         "place": "locality",
         "osm_item_type": "node",
         "osm_id": "358922443",
         "osm_path": "node/358922443",
         "waterway": "nan",
         "addr:state": "nan",
         "gnis:county_name": "nan",
         "gnis:feature_type": "nan",
         "landuse": "nan",
         "man_made": "nan",
         "amenity": "nan",
         "operator": "nan",
         "tourism": "nan",
         "leisure": "nan",
         "highway": "nan",
         "motor_vehicle": "nan",
         "smoothness": "nan",
         "source": "nan",
         "surface": "nan",
         "tracktype": "nan",
         "tiger:name_base": "nan",
         "intermittent": "nan",
         "nhd:com_id": "nan",
         "layer": "nan",
         "nhd:gnis_id": "nan",
         "natural": "nan",
         "water": "nan",
         "bicycle": "nan",
         "motorcycle": "nan",
         "mtb:scale:imba": "nan",
         "parking": "nan",
         "name_1": "nan",
         "foot": "nan",
         "horse": "nan",
         "wikidata": "nan",
         "tunnel": "nan",
         "_deepnote_index_column": "0"
        },
        {
         "ele": "1660",
         "gnis:county_id": "029",
         "gnis:created": "10/13/1978",
         "gnis:feature_id": "186690",
         "gnis:state_id": "08",
         "name": "Middle Peach Valley Dam",
         "place": "nan",
         "osm_item_type": "node",
         "osm_id": "358922563",
         "osm_path": "node/358922563",
         "waterway": "dam",
         "addr:state": "nan",
         "gnis:county_name": "nan",
         "gnis:feature_type": "nan",
         "landuse": "nan",
         "man_made": "nan",
         "amenity": "nan",
         "operator": "nan",
         "tourism": "nan",
         "leisure": "nan",
         "highway": "nan",
         "motor_vehicle": "nan",
         "smoothness": "nan",
         "source": "nan",
         "surface": "nan",
         "tracktype": "nan",
         "tiger:name_base": "nan",
         "intermittent": "nan",
         "nhd:com_id": "nan",
         "layer": "nan",
         "nhd:gnis_id": "nan",
         "natural": "nan",
         "water": "nan",
         "bicycle": "nan",
         "motorcycle": "nan",
         "mtb:scale:imba": "nan",
         "parking": "nan",
         "name_1": "nan",
         "foot": "nan",
         "horse": "nan",
         "wikidata": "nan",
         "tunnel": "nan",
         "_deepnote_index_column": "1"
        },
        {
         "ele": "1888",
         "gnis:county_id": "085",
         "gnis:created": "10/13/1978",
         "gnis:feature_id": "186833",
         "gnis:state_id": "08",
         "name": "State Tunnel Dam",
         "place": "nan",
         "osm_item_type": "node",
         "osm_id": "358922668",
         "osm_path": "node/358922668",
         "waterway": "dam",
         "addr:state": "nan",
         "gnis:county_name": "nan",
         "gnis:feature_type": "nan",
         "landuse": "nan",
         "man_made": "nan",
         "amenity": "nan",
         "operator": "nan",
         "tourism": "nan",
         "leisure": "nan",
         "highway": "nan",
         "motor_vehicle": "nan",
         "smoothness": "nan",
         "source": "nan",
         "surface": "nan",
         "tracktype": "nan",
         "tiger:name_base": "nan",
         "intermittent": "nan",
         "nhd:com_id": "nan",
         "layer": "nan",
         "nhd:gnis_id": "nan",
         "natural": "nan",
         "water": "nan",
         "bicycle": "nan",
         "motorcycle": "nan",
         "mtb:scale:imba": "nan",
         "parking": "nan",
         "name_1": "nan",
         "foot": "nan",
         "horse": "nan",
         "wikidata": "nan",
         "tunnel": "nan",
         "_deepnote_index_column": "2"
        },
        {
         "ele": "1586",
         "gnis:county_id": "nan",
         "gnis:created": "10/13/1978",
         "gnis:feature_id": "186507",
         "gnis:state_id": "nan",
         "name": "Sulphur Mine",
         "place": "nan",
         "osm_item_type": "node",
         "osm_id": "369164059",
         "osm_path": "node/369164059",
         "waterway": "nan",
         "addr:state": "CO",
         "gnis:county_name": "Delta",
         "gnis:feature_type": "Mine",
         "landuse": "quarry",
         "man_made": "nan",
         "amenity": "nan",
         "operator": "nan",
         "tourism": "nan",
         "leisure": "nan",
         "highway": "nan",
         "motor_vehicle": "nan",
         "smoothness": "nan",
         "source": "nan",
         "surface": "nan",
         "tracktype": "nan",
         "tiger:name_base": "nan",
         "intermittent": "nan",
         "nhd:com_id": "nan",
         "layer": "nan",
         "nhd:gnis_id": "nan",
         "natural": "nan",
         "water": "nan",
         "bicycle": "nan",
         "motorcycle": "nan",
         "mtb:scale:imba": "nan",
         "parking": "nan",
         "name_1": "nan",
         "foot": "nan",
         "horse": "nan",
         "wikidata": "nan",
         "tunnel": "nan",
         "_deepnote_index_column": "3"
        },
        {
         "ele": "1889",
         "gnis:county_id": "nan",
         "gnis:created": "10/13/1978",
         "gnis:feature_id": "186834",
         "gnis:state_id": "nan",
         "name": "State Tunnel",
         "place": "nan",
         "osm_item_type": "node",
         "osm_id": "369164066",
         "osm_path": "node/369164066",
         "waterway": "nan",
         "addr:state": "CO",
         "gnis:county_name": "Montrose",
         "gnis:feature_type": "Mine",
         "landuse": "nan",
         "man_made": "adit",
         "amenity": "nan",
         "operator": "nan",
         "tourism": "nan",
         "leisure": "nan",
         "highway": "nan",
         "motor_vehicle": "nan",
         "smoothness": "nan",
         "source": "nan",
         "surface": "nan",
         "tracktype": "nan",
         "tiger:name_base": "nan",
         "intermittent": "nan",
         "nhd:com_id": "nan",
         "layer": "nan",
         "nhd:gnis_id": "nan",
         "natural": "nan",
         "water": "nan",
         "bicycle": "nan",
         "motorcycle": "nan",
         "mtb:scale:imba": "nan",
         "parking": "nan",
         "name_1": "nan",
         "foot": "nan",
         "horse": "nan",
         "wikidata": "nan",
         "tunnel": "nan",
         "_deepnote_index_column": "4"
        },
        {
         "ele": "1747",
         "gnis:county_id": "nan",
         "gnis:created": "05/14/1997",
         "gnis:feature_id": "1735646",
         "gnis:state_id": "nan",
         "name": "Iron Cap Mine",
         "place": "nan",
         "osm_item_type": "node",
         "osm_id": "369179476",
         "osm_path": "node/369179476",
         "waterway": "nan",
         "addr:state": "CO",
         "gnis:county_name": "Delta",
         "gnis:feature_type": "Mine",
         "landuse": "quarry",
         "man_made": "nan",
         "amenity": "nan",
         "operator": "nan",
         "tourism": "nan",
         "leisure": "nan",
         "highway": "nan",
         "motor_vehicle": "nan",
         "smoothness": "nan",
         "source": "nan",
         "surface": "nan",
         "tracktype": "nan",
         "tiger:name_base": "nan",
         "intermittent": "nan",
         "nhd:com_id": "nan",
         "layer": "nan",
         "nhd:gnis_id": "nan",
         "natural": "nan",
         "water": "nan",
         "bicycle": "nan",
         "motorcycle": "nan",
         "mtb:scale:imba": "nan",
         "parking": "nan",
         "name_1": "nan",
         "foot": "nan",
         "horse": "nan",
         "wikidata": "nan",
         "tunnel": "nan",
         "_deepnote_index_column": "5"
        },
        {
         "ele": "1586",
         "gnis:county_id": "nan",
         "gnis:created": "06/24/1997",
         "gnis:feature_id": "1745549",
         "gnis:state_id": "nan",
         "name": "Gunnison Forks Mine",
         "place": "nan",
         "osm_item_type": "node",
         "osm_id": "369180010",
         "osm_path": "node/369180010",
         "waterway": "nan",
         "addr:state": "CO",
         "gnis:county_name": "Delta",
         "gnis:feature_type": "Mine",
         "landuse": "quarry",
         "man_made": "nan",
         "amenity": "nan",
         "operator": "nan",
         "tourism": "nan",
         "leisure": "nan",
         "highway": "nan",
         "motor_vehicle": "nan",
         "smoothness": "nan",
         "source": "nan",
         "surface": "nan",
         "tracktype": "nan",
         "tiger:name_base": "nan",
         "intermittent": "nan",
         "nhd:com_id": "nan",
         "layer": "nan",
         "nhd:gnis_id": "nan",
         "natural": "nan",
         "water": "nan",
         "bicycle": "nan",
         "motorcycle": "nan",
         "mtb:scale:imba": "nan",
         "parking": "nan",
         "name_1": "nan",
         "foot": "nan",
         "horse": "nan",
         "wikidata": "nan",
         "tunnel": "nan",
         "_deepnote_index_column": "6"
        },
        {
         "ele": "1830",
         "gnis:county_id": "nan",
         "gnis:created": "06/24/1997",
         "gnis:feature_id": "1745578",
         "gnis:state_id": "nan",
         "name": "Messano Claims Mine",
         "place": "nan",
         "osm_item_type": "node",
         "osm_id": "369180273",
         "osm_path": "node/369180273",
         "waterway": "nan",
         "addr:state": "CO",
         "gnis:county_name": "Montrose",
         "gnis:feature_type": "Mine",
         "landuse": "quarry",
         "man_made": "nan",
         "amenity": "nan",
         "operator": "nan",
         "tourism": "nan",
         "leisure": "nan",
         "highway": "nan",
         "motor_vehicle": "nan",
         "smoothness": "nan",
         "source": "nan",
         "surface": "nan",
         "tracktype": "nan",
         "tiger:name_base": "nan",
         "intermittent": "nan",
         "nhd:com_id": "nan",
         "layer": "nan",
         "nhd:gnis_id": "nan",
         "natural": "nan",
         "water": "nan",
         "bicycle": "nan",
         "motorcycle": "nan",
         "mtb:scale:imba": "nan",
         "parking": "nan",
         "name_1": "nan",
         "foot": "nan",
         "horse": "nan",
         "wikidata": "nan",
         "tunnel": "nan",
         "_deepnote_index_column": "7"
        },
        {
         "ele": "1758",
         "gnis:county_id": "085",
         "gnis:created": "10/13/1978",
         "gnis:feature_id": "186689",
         "gnis:state_id": "08",
         "name": "Peach Valley Dam Number 1",
         "place": "nan",
         "osm_item_type": "node",
         "osm_id": "583695898",
         "osm_path": "node/583695898",
         "waterway": "dam",
         "addr:state": "nan",
         "gnis:county_name": "nan",
         "gnis:feature_type": "nan",
         "landuse": "nan",
         "man_made": "nan",
         "amenity": "nan",
         "operator": "nan",
         "tourism": "nan",
         "leisure": "nan",
         "highway": "nan",
         "motor_vehicle": "nan",
         "smoothness": "nan",
         "source": "nan",
         "surface": "nan",
         "tracktype": "nan",
         "tiger:name_base": "nan",
         "intermittent": "nan",
         "nhd:com_id": "nan",
         "layer": "nan",
         "nhd:gnis_id": "nan",
         "natural": "nan",
         "water": "nan",
         "bicycle": "nan",
         "motorcycle": "nan",
         "mtb:scale:imba": "nan",
         "parking": "nan",
         "name_1": "nan",
         "foot": "nan",
         "horse": "nan",
         "wikidata": "nan",
         "tunnel": "nan",
         "_deepnote_index_column": "8"
        },
        {
         "ele": "1622",
         "gnis:county_id": "029",
         "gnis:created": "10/13/1978",
         "gnis:feature_id": "186691",
         "gnis:state_id": "08",
         "name": "Lower Peach Valley Dam",
         "place": "nan",
         "osm_item_type": "node",
         "osm_id": "586585946",
         "osm_path": "node/586585946",
         "waterway": "dam",
         "addr:state": "nan",
         "gnis:county_name": "nan",
         "gnis:feature_type": "nan",
         "landuse": "nan",
         "man_made": "nan",
         "amenity": "nan",
         "operator": "nan",
         "tourism": "nan",
         "leisure": "nan",
         "highway": "nan",
         "motor_vehicle": "nan",
         "smoothness": "nan",
         "source": "nan",
         "surface": "nan",
         "tracktype": "nan",
         "tiger:name_base": "nan",
         "intermittent": "nan",
         "nhd:com_id": "nan",
         "layer": "nan",
         "nhd:gnis_id": "nan",
         "natural": "nan",
         "water": "nan",
         "bicycle": "nan",
         "motorcycle": "nan",
         "mtb:scale:imba": "nan",
         "parking": "nan",
         "name_1": "nan",
         "foot": "nan",
         "horse": "nan",
         "wikidata": "nan",
         "tunnel": "nan",
         "_deepnote_index_column": "9"
        }
       ]
      },
      "text/plain": "     ele gnis:county_id gnis:created gnis:feature_id gnis:state_id  \\\n0   1718            029   10/13/1978          186487            08   \n1   1660            029   10/13/1978          186690            08   \n2   1888            085   10/13/1978          186833            08   \n3   1586            NaN   10/13/1978          186507           NaN   \n4   1889            NaN   10/13/1978          186834           NaN   \n..   ...            ...          ...             ...           ...   \n84   NaN            NaN          NaN             NaN           NaN   \n85   NaN            NaN          NaN             NaN           NaN   \n86   NaN            NaN          NaN             NaN           NaN   \n87   NaN            NaN          NaN             NaN           NaN   \n88   NaN            NaN          NaN             NaN           NaN   \n\n                         name     place osm_item_type      osm_id  \\\n0             Smiths Mountain  locality          node   358922443   \n1     Middle Peach Valley Dam       NaN          node   358922563   \n2            State Tunnel Dam       NaN          node   358922668   \n3                Sulphur Mine       NaN          node   369164059   \n4                State Tunnel       NaN          node   369164066   \n..                        ...       ...           ...         ...   \n84           Sun Cliff Canyon       NaN           way   369125651   \n85           Sun Cliff Canyon       NaN           way   369125652   \n86  North Fork Gunnison River       NaN           way   373537216   \n87               Eagle Valley       NaN           way   845490443   \n88                Black Ridge       NaN           way  1083320545   \n\n          osm_path  ... water bicycle motorcycle mtb:scale:imba parking  \\\n0   node/358922443  ...   NaN     NaN        NaN            NaN     NaN   \n1   node/358922563  ...   NaN     NaN        NaN            NaN     NaN   \n2   node/358922668  ...   NaN     NaN        NaN            NaN     NaN   \n3   node/369164059  ...   NaN     NaN        NaN            NaN     NaN   \n4   node/369164066  ...   NaN     NaN        NaN            NaN     NaN   \n..             ...  ...   ...     ...        ...            ...     ...   \n84   way/369125651  ...   NaN     NaN        NaN            NaN     NaN   \n85   way/369125652  ...   NaN     NaN        NaN            NaN     NaN   \n86   way/373537216  ...   NaN     NaN        NaN            NaN     NaN   \n87   way/845490443  ...   NaN     yes        NaN            NaN     NaN   \n88  way/1083320545  ...   NaN     NaN        NaN            NaN     NaN   \n\n   name_1 foot horse wikidata   tunnel  \n0     NaN  NaN   NaN      NaN      NaN  \n1     NaN  NaN   NaN      NaN      NaN  \n2     NaN  NaN   NaN      NaN      NaN  \n3     NaN  NaN   NaN      NaN      NaN  \n4     NaN  NaN   NaN      NaN      NaN  \n..    ...  ...   ...      ...      ...  \n84    NaN  NaN   NaN      NaN      NaN  \n85    NaN  NaN   NaN      NaN  culvert  \n86    NaN  NaN   NaN      NaN      NaN  \n87    NaN  yes   yes      NaN      NaN  \n88    NaN  NaN   NaN      NaN      NaN  \n\n[89 rows x 42 columns]",
      "text/html": "<div>\n<style scoped>\n    .dataframe tbody tr th:only-of-type {\n        vertical-align: middle;\n    }\n\n    .dataframe tbody tr th {\n        vertical-align: top;\n    }\n\n    .dataframe thead th {\n        text-align: right;\n    }\n</style>\n<table border=\"1\" class=\"dataframe\">\n  <thead>\n    <tr style=\"text-align: right;\">\n      <th></th>\n      <th>ele</th>\n      <th>gnis:county_id</th>\n      <th>gnis:created</th>\n      <th>gnis:feature_id</th>\n      <th>gnis:state_id</th>\n      <th>name</th>\n      <th>place</th>\n      <th>osm_item_type</th>\n      <th>osm_id</th>\n      <th>osm_path</th>\n      <th>...</th>\n      <th>water</th>\n      <th>bicycle</th>\n      <th>motorcycle</th>\n      <th>mtb:scale:imba</th>\n      <th>parking</th>\n      <th>name_1</th>\n      <th>foot</th>\n      <th>horse</th>\n      <th>wikidata</th>\n      <th>tunnel</th>\n    </tr>\n  </thead>\n  <tbody>\n    <tr>\n      <th>0</th>\n      <td>1718</td>\n      <td>029</td>\n      <td>10/13/1978</td>\n      <td>186487</td>\n      <td>08</td>\n      <td>Smiths Mountain</td>\n      <td>locality</td>\n      <td>node</td>\n      <td>358922443</td>\n      <td>node/358922443</td>\n      <td>...</td>\n      <td>NaN</td>\n      <td>NaN</td>\n      <td>NaN</td>\n      <td>NaN</td>\n      <td>NaN</td>\n      <td>NaN</td>\n      <td>NaN</td>\n      <td>NaN</td>\n      <td>NaN</td>\n      <td>NaN</td>\n    </tr>\n    <tr>\n      <th>1</th>\n      <td>1660</td>\n      <td>029</td>\n      <td>10/13/1978</td>\n      <td>186690</td>\n      <td>08</td>\n      <td>Middle Peach Valley Dam</td>\n      <td>NaN</td>\n      <td>node</td>\n      <td>358922563</td>\n      <td>node/358922563</td>\n      <td>...</td>\n      <td>NaN</td>\n      <td>NaN</td>\n      <td>NaN</td>\n      <td>NaN</td>\n      <td>NaN</td>\n      <td>NaN</td>\n      <td>NaN</td>\n      <td>NaN</td>\n      <td>NaN</td>\n      <td>NaN</td>\n    </tr>\n    <tr>\n      <th>2</th>\n      <td>1888</td>\n      <td>085</td>\n      <td>10/13/1978</td>\n      <td>186833</td>\n      <td>08</td>\n      <td>State Tunnel Dam</td>\n      <td>NaN</td>\n      <td>node</td>\n      <td>358922668</td>\n      <td>node/358922668</td>\n      <td>...</td>\n      <td>NaN</td>\n      <td>NaN</td>\n      <td>NaN</td>\n      <td>NaN</td>\n      <td>NaN</td>\n      <td>NaN</td>\n      <td>NaN</td>\n      <td>NaN</td>\n      <td>NaN</td>\n      <td>NaN</td>\n    </tr>\n    <tr>\n      <th>3</th>\n      <td>1586</td>\n      <td>NaN</td>\n      <td>10/13/1978</td>\n      <td>186507</td>\n      <td>NaN</td>\n      <td>Sulphur Mine</td>\n      <td>NaN</td>\n      <td>node</td>\n      <td>369164059</td>\n      <td>node/369164059</td>\n      <td>...</td>\n      <td>NaN</td>\n      <td>NaN</td>\n      <td>NaN</td>\n      <td>NaN</td>\n      <td>NaN</td>\n      <td>NaN</td>\n      <td>NaN</td>\n      <td>NaN</td>\n      <td>NaN</td>\n      <td>NaN</td>\n    </tr>\n    <tr>\n      <th>4</th>\n      <td>1889</td>\n      <td>NaN</td>\n      <td>10/13/1978</td>\n      <td>186834</td>\n      <td>NaN</td>\n      <td>State Tunnel</td>\n      <td>NaN</td>\n      <td>node</td>\n      <td>369164066</td>\n      <td>node/369164066</td>\n      <td>...</td>\n      <td>NaN</td>\n      <td>NaN</td>\n      <td>NaN</td>\n      <td>NaN</td>\n      <td>NaN</td>\n      <td>NaN</td>\n      <td>NaN</td>\n      <td>NaN</td>\n      <td>NaN</td>\n      <td>NaN</td>\n    </tr>\n    <tr>\n      <th>...</th>\n      <td>...</td>\n      <td>...</td>\n      <td>...</td>\n      <td>...</td>\n      <td>...</td>\n      <td>...</td>\n      <td>...</td>\n      <td>...</td>\n      <td>...</td>\n      <td>...</td>\n      <td>...</td>\n      <td>...</td>\n      <td>...</td>\n      <td>...</td>\n      <td>...</td>\n      <td>...</td>\n      <td>...</td>\n      <td>...</td>\n      <td>...</td>\n      <td>...</td>\n      <td>...</td>\n    </tr>\n    <tr>\n      <th>84</th>\n      <td>NaN</td>\n      <td>NaN</td>\n      <td>NaN</td>\n      <td>NaN</td>\n      <td>NaN</td>\n      <td>Sun Cliff Canyon</td>\n      <td>NaN</td>\n      <td>way</td>\n      <td>369125651</td>\n      <td>way/369125651</td>\n      <td>...</td>\n      <td>NaN</td>\n      <td>NaN</td>\n      <td>NaN</td>\n      <td>NaN</td>\n      <td>NaN</td>\n      <td>NaN</td>\n      <td>NaN</td>\n      <td>NaN</td>\n      <td>NaN</td>\n      <td>NaN</td>\n    </tr>\n    <tr>\n      <th>85</th>\n      <td>NaN</td>\n      <td>NaN</td>\n      <td>NaN</td>\n      <td>NaN</td>\n      <td>NaN</td>\n      <td>Sun Cliff Canyon</td>\n      <td>NaN</td>\n      <td>way</td>\n      <td>369125652</td>\n      <td>way/369125652</td>\n      <td>...</td>\n      <td>NaN</td>\n      <td>NaN</td>\n      <td>NaN</td>\n      <td>NaN</td>\n      <td>NaN</td>\n      <td>NaN</td>\n      <td>NaN</td>\n      <td>NaN</td>\n      <td>NaN</td>\n      <td>culvert</td>\n    </tr>\n    <tr>\n      <th>86</th>\n      <td>NaN</td>\n      <td>NaN</td>\n      <td>NaN</td>\n      <td>NaN</td>\n      <td>NaN</td>\n      <td>North Fork Gunnison River</td>\n      <td>NaN</td>\n      <td>way</td>\n      <td>373537216</td>\n      <td>way/373537216</td>\n      <td>...</td>\n      <td>NaN</td>\n      <td>NaN</td>\n      <td>NaN</td>\n      <td>NaN</td>\n      <td>NaN</td>\n      <td>NaN</td>\n      <td>NaN</td>\n      <td>NaN</td>\n      <td>NaN</td>\n      <td>NaN</td>\n    </tr>\n    <tr>\n      <th>87</th>\n      <td>NaN</td>\n      <td>NaN</td>\n      <td>NaN</td>\n      <td>NaN</td>\n      <td>NaN</td>\n      <td>Eagle Valley</td>\n      <td>NaN</td>\n      <td>way</td>\n      <td>845490443</td>\n      <td>way/845490443</td>\n      <td>...</td>\n      <td>NaN</td>\n      <td>yes</td>\n      <td>NaN</td>\n      <td>NaN</td>\n      <td>NaN</td>\n      <td>NaN</td>\n      <td>yes</td>\n      <td>yes</td>\n      <td>NaN</td>\n      <td>NaN</td>\n    </tr>\n    <tr>\n      <th>88</th>\n      <td>NaN</td>\n      <td>NaN</td>\n      <td>NaN</td>\n      <td>NaN</td>\n      <td>NaN</td>\n      <td>Black Ridge</td>\n      <td>NaN</td>\n      <td>way</td>\n      <td>1083320545</td>\n      <td>way/1083320545</td>\n      <td>...</td>\n      <td>NaN</td>\n      <td>NaN</td>\n      <td>NaN</td>\n      <td>NaN</td>\n      <td>NaN</td>\n      <td>NaN</td>\n      <td>NaN</td>\n      <td>NaN</td>\n      <td>NaN</td>\n      <td>NaN</td>\n    </tr>\n  </tbody>\n</table>\n<p>89 rows × 42 columns</p>\n</div>"
     },
     "metadata": {}
    }
   ]
  },
  {
   "cell_type": "code",
   "source": "_deepnote_run_altair(df_all_ways_and_nodes, \"\"\"{\"$schema\":\"https://vega.github.io/schema/vega-lite/v4.json\",\"mark\":{\"type\":\"bar\",\"tooltip\":true},\"height\":220,\"autosize\":{\"type\":\"fit\"},\"data\":{\"name\":\"placeholder\"},\"encoding\":{\"x\":{\"field\":\"tunnel\",\"type\":\"nominal\",\"sort\":null,\"scale\":{\"type\":\"linear\",\"zero\":false}},\"y\":{\"field\":\"COUNT(*)\",\"type\":\"quantitative\",\"sort\":null,\"aggregate\":\"count\",\"scale\":{\"type\":\"linear\",\"zero\":true}},\"color\":{\"field\":\"\",\"type\":\"nominal\",\"sort\":null,\"scale\":{\"type\":\"linear\",\"zero\":false}}}}\"\"\")",
   "metadata": {
    "cell_id": "d2fe6d7173df47d2b58d5b13bed80534",
    "deepnote_variable_name": "df_all_ways_and_nodes",
    "deepnote_visualization_spec": {
     "$schema": "https://vega.github.io/schema/vega-lite/v4.json",
     "mark": {
      "type": "bar",
      "tooltip": true
     },
     "height": 220,
     "autosize": {
      "type": "fit"
     },
     "data": {
      "name": "placeholder"
     },
     "encoding": {
      "x": {
       "field": "tunnel",
       "type": "nominal",
       "sort": null,
       "scale": {
        "type": "linear",
        "zero": false
       }
      },
      "y": {
       "field": "COUNT(*)",
       "type": "quantitative",
       "sort": null,
       "aggregate": "count",
       "scale": {
        "type": "linear",
        "zero": true
       }
      },
      "color": {
       "field": "",
       "type": "nominal",
       "sort": null,
       "scale": {
        "type": "linear",
        "zero": false
       }
      }
     }
    },
    "deepnote_to_be_reexecuted": false,
    "source_hash": "3b84cfbc",
    "execution_start": 1662930135853,
    "execution_millis": 456,
    "deepnote_cell_type": "visualization"
   },
   "execution_count": null,
   "outputs": [
    {
     "output_type": "execute_result",
     "execution_count": 95,
     "data": {
      "text/html": "\n<div id=\"altair-viz-774c7fd55857447b903604c94fcf6441\"></div>\n<script type=\"text/javascript\">\n  (function(spec, embedOpt){\n    let outputDiv = document.currentScript.previousElementSibling;\n    if (outputDiv.id !== \"altair-viz-774c7fd55857447b903604c94fcf6441\") {\n      outputDiv = document.getElementById(\"altair-viz-774c7fd55857447b903604c94fcf6441\");\n    }\n    const paths = {\n      \"vega\": \"https://cdn.jsdelivr.net/npm//vega@5?noext\",\n      \"vega-lib\": \"https://cdn.jsdelivr.net/npm//vega-lib?noext\",\n      \"vega-lite\": \"https://cdn.jsdelivr.net/npm//vega-lite@4.8.1?noext\",\n      \"vega-embed\": \"https://cdn.jsdelivr.net/npm//vega-embed@6?noext\",\n    };\n\n    function loadScript(lib) {\n      return new Promise(function(resolve, reject) {\n        var s = document.createElement('script');\n        s.src = paths[lib];\n        s.async = true;\n        s.onload = () => resolve(paths[lib]);\n        s.onerror = () => reject(`Error loading script: ${paths[lib]}`);\n        document.getElementsByTagName(\"head\")[0].appendChild(s);\n      });\n    }\n\n    function showError(err) {\n      outputDiv.innerHTML = `<div class=\"error\" style=\"color:red;\">${err}</div>`;\n      throw err;\n    }\n\n    function displayChart(vegaEmbed) {\n      vegaEmbed(outputDiv, spec, embedOpt)\n        .catch(err => showError(`Javascript Error: ${err.message}<br>This usually means there's a typo in your chart specification. See the javascript console for the full traceback.`));\n    }\n\n    if(typeof define === \"function\" && define.amd) {\n      requirejs.config({paths});\n      require([\"vega-embed\"], displayChart, err => showError(`Error loading script: ${err.message}`));\n    } else if (typeof vegaEmbed === \"function\") {\n      displayChart(vegaEmbed);\n    } else {\n      loadScript(\"vega\")\n        .then(() => loadScript(\"vega-lite\"))\n        .then(() => loadScript(\"vega-embed\"))\n        .catch(showError)\n        .then(() => displayChart(vegaEmbed));\n    }\n  })({\"config\": {\"view\": {\"continuousWidth\": 400, \"continuousHeight\": 300}, \"area\": {\"fill\": \"#51C0E9\"}, \"axis\": {\"labelFont\": \"Inter, sans-serif\", \"labelFontSize\": 12, \"labelFontWeight\": \"normal\", \"labelLimit\": 60, \"labelOverlap\": \"greedy\", \"titleFont\": \"Inter, sans-serif\", \"titleFontSize\": 12, \"titleFontWeight\": \"bold\"}, \"background\": \"#ffffff\", \"legend\": {\"labelFont\": \"Inter, sans-serif\", \"labelFontSize\": 12, \"titleFont\": \"Inter, sans-serif\", \"titleFontSize\": 12, \"titleFontWeight\": \"bold\"}, \"line\": {\"stroke\": \"#51C0E9\", \"strokeWidth\": 2}, \"rect\": {\"fill\": \"#51C0E9\"}, \"title\": {\"anchor\": \"start\", \"color\": \"#000000\", \"font\": \"Inter, sans-serif\", \"fontSize\": 22, \"fontWeight\": \"normal\"}}, \"data\": {\"name\": \"data-b52f09b23c1a5a59bfc66966f6542207\"}, \"mark\": {\"type\": \"bar\", \"tooltip\": true}, \"autosize\": {\"type\": \"fit\"}, \"encoding\": {\"color\": {\"type\": \"nominal\", \"field\": \"\", \"scale\": {\"type\": \"linear\", \"zero\": false}, \"sort\": null}, \"x\": {\"type\": \"nominal\", \"field\": \"tunnel\", \"scale\": {\"type\": \"linear\", \"zero\": false}, \"sort\": null}, \"y\": {\"type\": \"quantitative\", \"aggregate\": \"count\", \"field\": \"COUNT(*)\", \"scale\": {\"type\": \"linear\", \"zero\": true}, \"sort\": null}}, \"height\": 300, \"width\": \"container\", \"$schema\": \"https://vega.github.io/schema/vega-lite/v4.json\", \"datasets\": {\"data-b52f09b23c1a5a59bfc66966f6542207\": [{\"ele\": \"1718\", \"gnis:county_id\": \"029\", \"gnis:created\": \"1978-10-13T00:00:00\", \"gnis:feature_id\": \"186487\", \"gnis:state_id\": \"08\", \"name\": \"Smiths Mountain\", \"place\": \"locality\", \"osm_item_type\": \"node\", \"osm_id\": 358922443, \"osm_path\": \"node/358922443\", \"waterway\": null, \"addr:state\": null, \"gnis:county_name\": null, \"gnis:feature_type\": null, \"landuse\": null, \"man_made\": null, \"amenity\": null, \"operator\": null, \"tourism\": null, \"leisure\": null, \"highway\": null, \"motor_vehicle\": null, \"smoothness\": null, \"source\": null, \"surface\": null, \"tracktype\": null, \"tiger:name_base\": null, \"intermittent\": null, \"nhd:com_id\": null, \"layer\": null, \"nhd:gnis_id\": null, \"natural\": null, \"water\": null, \"bicycle\": null, \"motorcycle\": null, \"mtb:scale:imba\": null, \"parking\": null, \"name_1\": null, \"foot\": null, \"horse\": null, \"wikidata\": null, \"tunnel\": null}, {\"ele\": \"1660\", \"gnis:county_id\": \"029\", \"gnis:created\": \"1978-10-13T00:00:00\", \"gnis:feature_id\": \"186690\", \"gnis:state_id\": \"08\", \"name\": \"Middle Peach Valley Dam\", \"place\": null, \"osm_item_type\": \"node\", \"osm_id\": 358922563, \"osm_path\": \"node/358922563\", \"waterway\": \"dam\", \"addr:state\": null, \"gnis:county_name\": null, \"gnis:feature_type\": null, \"landuse\": null, \"man_made\": null, \"amenity\": null, \"operator\": null, \"tourism\": null, \"leisure\": null, \"highway\": null, \"motor_vehicle\": null, \"smoothness\": null, \"source\": null, \"surface\": null, \"tracktype\": null, \"tiger:name_base\": null, \"intermittent\": null, \"nhd:com_id\": null, \"layer\": null, \"nhd:gnis_id\": null, \"natural\": null, \"water\": null, \"bicycle\": null, \"motorcycle\": null, \"mtb:scale:imba\": null, \"parking\": null, \"name_1\": null, \"foot\": null, \"horse\": null, \"wikidata\": null, \"tunnel\": null}, {\"ele\": \"1888\", \"gnis:county_id\": \"085\", \"gnis:created\": \"1978-10-13T00:00:00\", \"gnis:feature_id\": \"186833\", \"gnis:state_id\": \"08\", \"name\": \"State Tunnel Dam\", \"place\": null, \"osm_item_type\": \"node\", \"osm_id\": 358922668, \"osm_path\": \"node/358922668\", \"waterway\": \"dam\", \"addr:state\": null, \"gnis:county_name\": null, \"gnis:feature_type\": null, \"landuse\": null, \"man_made\": null, \"amenity\": null, \"operator\": null, \"tourism\": null, \"leisure\": null, \"highway\": null, \"motor_vehicle\": null, \"smoothness\": null, \"source\": null, \"surface\": null, \"tracktype\": null, \"tiger:name_base\": null, \"intermittent\": null, \"nhd:com_id\": null, \"layer\": null, \"nhd:gnis_id\": null, \"natural\": null, \"water\": null, \"bicycle\": null, \"motorcycle\": null, \"mtb:scale:imba\": null, \"parking\": null, \"name_1\": null, \"foot\": null, \"horse\": null, \"wikidata\": null, \"tunnel\": null}, {\"ele\": \"1586\", \"gnis:county_id\": null, \"gnis:created\": \"1978-10-13T00:00:00\", \"gnis:feature_id\": \"186507\", \"gnis:state_id\": null, \"name\": \"Sulphur Mine\", \"place\": null, \"osm_item_type\": \"node\", \"osm_id\": 369164059, \"osm_path\": \"node/369164059\", \"waterway\": null, \"addr:state\": \"CO\", \"gnis:county_name\": \"Delta\", \"gnis:feature_type\": \"Mine\", \"landuse\": \"quarry\", \"man_made\": null, \"amenity\": null, \"operator\": null, \"tourism\": null, \"leisure\": null, \"highway\": null, \"motor_vehicle\": null, \"smoothness\": null, \"source\": null, \"surface\": null, \"tracktype\": null, \"tiger:name_base\": null, \"intermittent\": null, \"nhd:com_id\": null, \"layer\": null, \"nhd:gnis_id\": null, \"natural\": null, \"water\": null, \"bicycle\": null, \"motorcycle\": null, \"mtb:scale:imba\": null, \"parking\": null, \"name_1\": null, \"foot\": null, \"horse\": null, \"wikidata\": null, \"tunnel\": null}, {\"ele\": \"1889\", \"gnis:county_id\": null, \"gnis:created\": \"1978-10-13T00:00:00\", \"gnis:feature_id\": \"186834\", \"gnis:state_id\": null, \"name\": \"State Tunnel\", \"place\": null, \"osm_item_type\": \"node\", \"osm_id\": 369164066, \"osm_path\": \"node/369164066\", \"waterway\": null, \"addr:state\": \"CO\", \"gnis:county_name\": \"Montrose\", \"gnis:feature_type\": \"Mine\", \"landuse\": null, \"man_made\": \"adit\", \"amenity\": null, \"operator\": null, \"tourism\": null, \"leisure\": null, \"highway\": null, \"motor_vehicle\": null, \"smoothness\": null, \"source\": null, \"surface\": null, \"tracktype\": null, \"tiger:name_base\": null, \"intermittent\": null, \"nhd:com_id\": null, \"layer\": null, \"nhd:gnis_id\": null, \"natural\": null, \"water\": null, \"bicycle\": null, \"motorcycle\": null, \"mtb:scale:imba\": null, \"parking\": null, \"name_1\": null, \"foot\": null, \"horse\": null, \"wikidata\": null, \"tunnel\": null}, {\"ele\": \"1747\", \"gnis:county_id\": null, \"gnis:created\": \"1997-05-14T00:00:00\", \"gnis:feature_id\": \"1735646\", \"gnis:state_id\": null, \"name\": \"Iron Cap Mine\", \"place\": null, \"osm_item_type\": \"node\", \"osm_id\": 369179476, \"osm_path\": \"node/369179476\", \"waterway\": null, \"addr:state\": \"CO\", \"gnis:county_name\": \"Delta\", \"gnis:feature_type\": \"Mine\", \"landuse\": \"quarry\", \"man_made\": null, \"amenity\": null, \"operator\": null, \"tourism\": null, \"leisure\": null, \"highway\": null, \"motor_vehicle\": null, \"smoothness\": null, \"source\": null, \"surface\": null, \"tracktype\": null, \"tiger:name_base\": null, \"intermittent\": null, \"nhd:com_id\": null, \"layer\": null, \"nhd:gnis_id\": null, \"natural\": null, \"water\": null, \"bicycle\": null, \"motorcycle\": null, \"mtb:scale:imba\": null, \"parking\": null, \"name_1\": null, \"foot\": null, \"horse\": null, \"wikidata\": null, \"tunnel\": null}, {\"ele\": \"1586\", \"gnis:county_id\": null, \"gnis:created\": \"1997-06-24T00:00:00\", \"gnis:feature_id\": \"1745549\", \"gnis:state_id\": null, \"name\": \"Gunnison Forks Mine\", \"place\": null, \"osm_item_type\": \"node\", \"osm_id\": 369180010, \"osm_path\": \"node/369180010\", \"waterway\": null, \"addr:state\": \"CO\", \"gnis:county_name\": \"Delta\", \"gnis:feature_type\": \"Mine\", \"landuse\": \"quarry\", \"man_made\": null, \"amenity\": null, \"operator\": null, \"tourism\": null, \"leisure\": null, \"highway\": null, \"motor_vehicle\": null, \"smoothness\": null, \"source\": null, \"surface\": null, \"tracktype\": null, \"tiger:name_base\": null, \"intermittent\": null, \"nhd:com_id\": null, \"layer\": null, \"nhd:gnis_id\": null, \"natural\": null, \"water\": null, \"bicycle\": null, \"motorcycle\": null, \"mtb:scale:imba\": null, \"parking\": null, \"name_1\": null, \"foot\": null, \"horse\": null, \"wikidata\": null, \"tunnel\": null}, {\"ele\": \"1830\", \"gnis:county_id\": null, \"gnis:created\": \"1997-06-24T00:00:00\", \"gnis:feature_id\": \"1745578\", \"gnis:state_id\": null, \"name\": \"Messano Claims Mine\", \"place\": null, \"osm_item_type\": \"node\", \"osm_id\": 369180273, \"osm_path\": \"node/369180273\", \"waterway\": null, \"addr:state\": \"CO\", \"gnis:county_name\": \"Montrose\", \"gnis:feature_type\": \"Mine\", \"landuse\": \"quarry\", \"man_made\": null, \"amenity\": null, \"operator\": null, \"tourism\": null, \"leisure\": null, \"highway\": null, \"motor_vehicle\": null, \"smoothness\": null, \"source\": null, \"surface\": null, \"tracktype\": null, \"tiger:name_base\": null, \"intermittent\": null, \"nhd:com_id\": null, \"layer\": null, \"nhd:gnis_id\": null, \"natural\": null, \"water\": null, \"bicycle\": null, \"motorcycle\": null, \"mtb:scale:imba\": null, \"parking\": null, \"name_1\": null, \"foot\": null, \"horse\": null, \"wikidata\": null, \"tunnel\": null}, {\"ele\": \"1758\", \"gnis:county_id\": \"085\", \"gnis:created\": \"1978-10-13T00:00:00\", \"gnis:feature_id\": \"186689\", \"gnis:state_id\": \"08\", \"name\": \"Peach Valley Dam Number 1\", \"place\": null, \"osm_item_type\": \"node\", \"osm_id\": 583695898, \"osm_path\": \"node/583695898\", \"waterway\": \"dam\", \"addr:state\": null, \"gnis:county_name\": null, \"gnis:feature_type\": null, \"landuse\": null, \"man_made\": null, \"amenity\": null, \"operator\": null, \"tourism\": null, \"leisure\": null, \"highway\": null, \"motor_vehicle\": null, \"smoothness\": null, \"source\": null, \"surface\": null, \"tracktype\": null, \"tiger:name_base\": null, \"intermittent\": null, \"nhd:com_id\": null, \"layer\": null, \"nhd:gnis_id\": null, \"natural\": null, \"water\": null, \"bicycle\": null, \"motorcycle\": null, \"mtb:scale:imba\": null, \"parking\": null, \"name_1\": null, \"foot\": null, \"horse\": null, \"wikidata\": null, \"tunnel\": null}, {\"ele\": \"1622\", \"gnis:county_id\": \"029\", \"gnis:created\": \"1978-10-13T00:00:00\", \"gnis:feature_id\": \"186691\", \"gnis:state_id\": \"08\", \"name\": \"Lower Peach Valley Dam\", \"place\": null, \"osm_item_type\": \"node\", \"osm_id\": 586585946, \"osm_path\": \"node/586585946\", \"waterway\": \"dam\", \"addr:state\": null, \"gnis:county_name\": null, \"gnis:feature_type\": null, \"landuse\": null, \"man_made\": null, \"amenity\": null, \"operator\": null, \"tourism\": null, \"leisure\": null, \"highway\": null, \"motor_vehicle\": null, \"smoothness\": null, \"source\": null, \"surface\": null, \"tracktype\": null, \"tiger:name_base\": null, \"intermittent\": null, \"nhd:com_id\": null, \"layer\": null, \"nhd:gnis_id\": null, \"natural\": null, \"water\": null, \"bicycle\": null, \"motorcycle\": null, \"mtb:scale:imba\": null, \"parking\": null, \"name_1\": null, \"foot\": null, \"horse\": null, \"wikidata\": null, \"tunnel\": null}, {\"ele\": null, \"gnis:county_id\": null, \"gnis:created\": \"\", \"gnis:feature_id\": null, \"gnis:state_id\": null, \"name\": \"Ute Trailhead\", \"place\": null, \"osm_item_type\": \"node\", \"osm_id\": 2572325309, \"osm_path\": \"node/2572325309\", \"waterway\": null, \"addr:state\": null, \"gnis:county_name\": null, \"gnis:feature_type\": null, \"landuse\": null, \"man_made\": null, \"amenity\": \"parking\", \"operator\": \"BLM\", \"tourism\": null, \"leisure\": null, \"highway\": null, \"motor_vehicle\": null, \"smoothness\": null, \"source\": null, \"surface\": null, \"tracktype\": null, \"tiger:name_base\": null, \"intermittent\": null, \"nhd:com_id\": null, \"layer\": null, \"nhd:gnis_id\": null, \"natural\": null, \"water\": null, \"bicycle\": null, \"motorcycle\": null, \"mtb:scale:imba\": null, \"parking\": null, \"name_1\": null, \"foot\": null, \"horse\": null, \"wikidata\": null, \"tunnel\": null}, {\"ele\": null, \"gnis:county_id\": null, \"gnis:created\": \"\", \"gnis:feature_id\": null, \"gnis:state_id\": null, \"name\": \"Chukar Geologic Trailhead\", \"place\": null, \"osm_item_type\": \"node\", \"osm_id\": 3726286096, \"osm_path\": \"node/3726286096\", \"waterway\": null, \"addr:state\": null, \"gnis:county_name\": null, \"gnis:feature_type\": null, \"landuse\": null, \"man_made\": null, \"amenity\": \"parking\", \"operator\": \"BLM\", \"tourism\": null, \"leisure\": null, \"highway\": null, \"motor_vehicle\": null, \"smoothness\": null, \"source\": null, \"surface\": null, \"tracktype\": null, \"tiger:name_base\": null, \"intermittent\": null, \"nhd:com_id\": null, \"layer\": null, \"nhd:gnis_id\": null, \"natural\": null, \"water\": null, \"bicycle\": null, \"motorcycle\": null, \"mtb:scale:imba\": null, \"parking\": null, \"name_1\": null, \"foot\": null, \"horse\": null, \"wikidata\": null, \"tunnel\": null}, {\"ele\": null, \"gnis:county_id\": null, \"gnis:created\": \"\", \"gnis:feature_id\": null, \"gnis:state_id\": null, \"name\": \"Eagle Road Parking\", \"place\": null, \"osm_item_type\": \"node\", \"osm_id\": 3726286097, \"osm_path\": \"node/3726286097\", \"waterway\": null, \"addr:state\": null, \"gnis:county_name\": null, \"gnis:feature_type\": null, \"landuse\": null, \"man_made\": null, \"amenity\": \"parking\", \"operator\": \"BLM\", \"tourism\": null, \"leisure\": null, \"highway\": null, \"motor_vehicle\": null, \"smoothness\": null, \"source\": null, \"surface\": null, \"tracktype\": null, \"tiger:name_base\": null, \"intermittent\": null, \"nhd:com_id\": null, \"layer\": null, \"nhd:gnis_id\": null, \"natural\": null, \"water\": null, \"bicycle\": null, \"motorcycle\": null, \"mtb:scale:imba\": null, \"parking\": null, \"name_1\": null, \"foot\": null, \"horse\": null, \"wikidata\": null, \"tunnel\": null}, {\"ele\": null, \"gnis:county_id\": null, \"gnis:created\": \"\", \"gnis:feature_id\": null, \"gnis:state_id\": null, \"name\": \"Eagle Valley Trailhead\", \"place\": null, \"osm_item_type\": \"node\", \"osm_id\": 3726286098, \"osm_path\": \"node/3726286098\", \"waterway\": null, \"addr:state\": null, \"gnis:county_name\": null, \"gnis:feature_type\": null, \"landuse\": null, \"man_made\": null, \"amenity\": \"parking\", \"operator\": \"BLM\", \"tourism\": null, \"leisure\": null, \"highway\": null, \"motor_vehicle\": null, \"smoothness\": null, \"source\": null, \"surface\": null, \"tracktype\": null, \"tiger:name_base\": null, \"intermittent\": null, \"nhd:com_id\": null, \"layer\": null, \"nhd:gnis_id\": null, \"natural\": null, \"water\": null, \"bicycle\": null, \"motorcycle\": null, \"mtb:scale:imba\": null, \"parking\": null, \"name_1\": null, \"foot\": null, \"horse\": null, \"wikidata\": null, \"tunnel\": null}, {\"ele\": null, \"gnis:county_id\": null, \"gnis:created\": \"\", \"gnis:feature_id\": null, \"gnis:state_id\": null, \"name\": \"Elephant Skin OHV Staging Area\", \"place\": null, \"osm_item_type\": \"node\", \"osm_id\": 3726286099, \"osm_path\": \"node/3726286099\", \"waterway\": null, \"addr:state\": null, \"gnis:county_name\": null, \"gnis:feature_type\": null, \"landuse\": null, \"man_made\": null, \"amenity\": \"parking\", \"operator\": \"BLM\", \"tourism\": null, \"leisure\": null, \"highway\": null, \"motor_vehicle\": null, \"smoothness\": null, \"source\": null, \"surface\": null, \"tracktype\": null, \"tiger:name_base\": null, \"intermittent\": null, \"nhd:com_id\": null, \"layer\": null, \"nhd:gnis_id\": null, \"natural\": null, \"water\": null, \"bicycle\": null, \"motorcycle\": null, \"mtb:scale:imba\": null, \"parking\": null, \"name_1\": null, \"foot\": null, \"horse\": null, \"wikidata\": null, \"tunnel\": null}, {\"ele\": null, \"gnis:county_id\": null, \"gnis:created\": \"\", \"gnis:feature_id\": null, \"gnis:state_id\": null, \"name\": \"Sunset Rocks Trailhead\", \"place\": null, \"osm_item_type\": \"node\", \"osm_id\": 3726286102, \"osm_path\": \"node/3726286102\", \"waterway\": null, \"addr:state\": null, \"gnis:county_name\": null, \"gnis:feature_type\": null, \"landuse\": null, \"man_made\": null, \"amenity\": \"parking\", \"operator\": \"BLM\", \"tourism\": null, \"leisure\": null, \"highway\": null, \"motor_vehicle\": null, \"smoothness\": null, \"source\": null, \"surface\": null, \"tracktype\": null, \"tiger:name_base\": null, \"intermittent\": null, \"nhd:com_id\": null, \"layer\": null, \"nhd:gnis_id\": null, \"natural\": null, \"water\": null, \"bicycle\": null, \"motorcycle\": null, \"mtb:scale:imba\": null, \"parking\": null, \"name_1\": null, \"foot\": null, \"horse\": null, \"wikidata\": null, \"tunnel\": null}, {\"ele\": null, \"gnis:county_id\": null, \"gnis:created\": \"\", \"gnis:feature_id\": null, \"gnis:state_id\": null, \"name\": \"Bobcat Trailhead\", \"place\": null, \"osm_item_type\": \"node\", \"osm_id\": 3726640331, \"osm_path\": \"node/3726640331\", \"waterway\": null, \"addr:state\": null, \"gnis:county_name\": null, \"gnis:feature_type\": null, \"landuse\": null, \"man_made\": null, \"amenity\": \"parking\", \"operator\": \"BLM\", \"tourism\": null, \"leisure\": null, \"highway\": null, \"motor_vehicle\": null, \"smoothness\": null, \"source\": null, \"surface\": null, \"tracktype\": null, \"tiger:name_base\": null, \"intermittent\": null, \"nhd:com_id\": null, \"layer\": null, \"nhd:gnis_id\": null, \"natural\": null, \"water\": null, \"bicycle\": null, \"motorcycle\": null, \"mtb:scale:imba\": null, \"parking\": null, \"name_1\": null, \"foot\": null, \"horse\": null, \"wikidata\": null, \"tunnel\": null}, {\"ele\": null, \"gnis:county_id\": null, \"gnis:created\": \"\", \"gnis:feature_id\": null, \"gnis:state_id\": null, \"name\": \"Peach Valley OHV Staging Area\", \"place\": null, \"osm_item_type\": \"node\", \"osm_id\": 3726640332, \"osm_path\": \"node/3726640332\", \"waterway\": null, \"addr:state\": null, \"gnis:county_name\": null, \"gnis:feature_type\": null, \"landuse\": null, \"man_made\": null, \"amenity\": \"parking\", \"operator\": \"BLM\", \"tourism\": null, \"leisure\": null, \"highway\": null, \"motor_vehicle\": null, \"smoothness\": null, \"source\": null, \"surface\": null, \"tracktype\": null, \"tiger:name_base\": null, \"intermittent\": null, \"nhd:com_id\": null, \"layer\": null, \"nhd:gnis_id\": null, \"natural\": null, \"water\": null, \"bicycle\": null, \"motorcycle\": null, \"mtb:scale:imba\": null, \"parking\": null, \"name_1\": null, \"foot\": null, \"horse\": null, \"wikidata\": null, \"tunnel\": null}, {\"ele\": null, \"gnis:county_id\": null, \"gnis:created\": \"\", \"gnis:feature_id\": null, \"gnis:state_id\": null, \"name\": \"Wave Road Parking\", \"place\": null, \"osm_item_type\": \"node\", \"osm_id\": 3726640334, \"osm_path\": \"node/3726640334\", \"waterway\": null, \"addr:state\": null, \"gnis:county_name\": null, \"gnis:feature_type\": null, \"landuse\": null, \"man_made\": null, \"amenity\": \"parking\", \"operator\": \"BLM\", \"tourism\": null, \"leisure\": null, \"highway\": null, \"motor_vehicle\": null, \"smoothness\": null, \"source\": null, \"surface\": null, \"tracktype\": null, \"tiger:name_base\": null, \"intermittent\": null, \"nhd:com_id\": null, \"layer\": null, \"nhd:gnis_id\": null, \"natural\": null, \"water\": null, \"bicycle\": null, \"motorcycle\": null, \"mtb:scale:imba\": null, \"parking\": null, \"name_1\": null, \"foot\": null, \"horse\": null, \"wikidata\": null, \"tunnel\": null}, {\"ele\": null, \"gnis:county_id\": null, \"gnis:created\": \"\", \"gnis:feature_id\": null, \"gnis:state_id\": null, \"name\": \"Wave/Eagle/Sidewinder Connector Parking\", \"place\": null, \"osm_item_type\": \"node\", \"osm_id\": 3726640335, \"osm_path\": \"node/3726640335\", \"waterway\": null, \"addr:state\": null, \"gnis:county_name\": null, \"gnis:feature_type\": null, \"landuse\": null, \"man_made\": null, \"amenity\": \"parking\", \"operator\": \"BLM\", \"tourism\": null, \"leisure\": null, \"highway\": null, \"motor_vehicle\": null, \"smoothness\": null, \"source\": null, \"surface\": null, \"tracktype\": null, \"tiger:name_base\": null, \"intermittent\": null, \"nhd:com_id\": null, \"layer\": null, \"nhd:gnis_id\": null, \"natural\": null, \"water\": null, \"bicycle\": null, \"motorcycle\": null, \"mtb:scale:imba\": null, \"parking\": null, \"name_1\": null, \"foot\": null, \"horse\": null, \"wikidata\": null, \"tunnel\": null}, {\"ele\": null, \"gnis:county_id\": null, \"gnis:created\": \"\", \"gnis:feature_id\": null, \"gnis:state_id\": null, \"name\": \"Birthday Canyon Trailhead\", \"place\": null, \"osm_item_type\": \"node\", \"osm_id\": 3726754307, \"osm_path\": \"node/3726754307\", \"waterway\": null, \"addr:state\": null, \"gnis:county_name\": null, \"gnis:feature_type\": null, \"landuse\": null, \"man_made\": null, \"amenity\": \"parking\", \"operator\": \"BLM\", \"tourism\": null, \"leisure\": null, \"highway\": null, \"motor_vehicle\": null, \"smoothness\": null, \"source\": null, \"surface\": null, \"tracktype\": null, \"tiger:name_base\": null, \"intermittent\": null, \"nhd:com_id\": null, \"layer\": null, \"nhd:gnis_id\": null, \"natural\": null, \"water\": null, \"bicycle\": null, \"motorcycle\": null, \"mtb:scale:imba\": null, \"parking\": null, \"name_1\": null, \"foot\": null, \"horse\": null, \"wikidata\": null, \"tunnel\": null}, {\"ele\": null, \"gnis:county_id\": null, \"gnis:created\": \"\", \"gnis:feature_id\": null, \"gnis:state_id\": null, \"name\": \"Cool Rock Canyon Trailhead\", \"place\": null, \"osm_item_type\": \"node\", \"osm_id\": 3726754308, \"osm_path\": \"node/3726754308\", \"waterway\": null, \"addr:state\": null, \"gnis:county_name\": null, \"gnis:feature_type\": null, \"landuse\": null, \"man_made\": null, \"amenity\": \"parking\", \"operator\": \"BLM\", \"tourism\": null, \"leisure\": null, \"highway\": null, \"motor_vehicle\": null, \"smoothness\": null, \"source\": null, \"surface\": null, \"tracktype\": null, \"tiger:name_base\": null, \"intermittent\": null, \"nhd:com_id\": null, \"layer\": null, \"nhd:gnis_id\": null, \"natural\": null, \"water\": null, \"bicycle\": null, \"motorcycle\": null, \"mtb:scale:imba\": null, \"parking\": null, \"name_1\": null, \"foot\": null, \"horse\": null, \"wikidata\": null, \"tunnel\": null}, {\"ele\": null, \"gnis:county_id\": null, \"gnis:created\": \"\", \"gnis:feature_id\": null, \"gnis:state_id\": null, \"name\": \"Cottonwood Grove Campground\", \"place\": null, \"osm_item_type\": \"node\", \"osm_id\": 3726754309, \"osm_path\": \"node/3726754309\", \"waterway\": null, \"addr:state\": null, \"gnis:county_name\": null, \"gnis:feature_type\": null, \"landuse\": null, \"man_made\": null, \"amenity\": null, \"operator\": \"BLM\", \"tourism\": \"camp_site\", \"leisure\": null, \"highway\": null, \"motor_vehicle\": null, \"smoothness\": null, \"source\": null, \"surface\": null, \"tracktype\": null, \"tiger:name_base\": null, \"intermittent\": null, \"nhd:com_id\": null, \"layer\": null, \"nhd:gnis_id\": null, \"natural\": null, \"water\": null, \"bicycle\": null, \"motorcycle\": null, \"mtb:scale:imba\": null, \"parking\": null, \"name_1\": null, \"foot\": null, \"horse\": null, \"wikidata\": null, \"tunnel\": null}, {\"ele\": null, \"gnis:county_id\": null, \"gnis:created\": \"\", \"gnis:feature_id\": null, \"gnis:state_id\": null, \"name\": \"Crocodile Rock Trailhead\", \"place\": null, \"osm_item_type\": \"node\", \"osm_id\": 3726754310, \"osm_path\": \"node/3726754310\", \"waterway\": null, \"addr:state\": null, \"gnis:county_name\": null, \"gnis:feature_type\": null, \"landuse\": null, \"man_made\": null, \"amenity\": \"parking\", \"operator\": \"BLM\", \"tourism\": null, \"leisure\": null, \"highway\": null, \"motor_vehicle\": null, \"smoothness\": null, \"source\": null, \"surface\": null, \"tracktype\": null, \"tiger:name_base\": null, \"intermittent\": null, \"nhd:com_id\": null, \"layer\": null, \"nhd:gnis_id\": null, \"natural\": null, \"water\": null, \"bicycle\": null, \"motorcycle\": null, \"mtb:scale:imba\": null, \"parking\": null, \"name_1\": null, \"foot\": null, \"horse\": null, \"wikidata\": null, \"tunnel\": null}, {\"ele\": null, \"gnis:county_id\": null, \"gnis:created\": \"\", \"gnis:feature_id\": null, \"gnis:state_id\": null, \"name\": \"Duncan Trailhead\", \"place\": null, \"osm_item_type\": \"node\", \"osm_id\": 3726754311, \"osm_path\": \"node/3726754311\", \"waterway\": null, \"addr:state\": null, \"gnis:county_name\": null, \"gnis:feature_type\": null, \"landuse\": null, \"man_made\": null, \"amenity\": \"parking\", \"operator\": \"BLM\", \"tourism\": null, \"leisure\": null, \"highway\": null, \"motor_vehicle\": null, \"smoothness\": null, \"source\": null, \"surface\": null, \"tracktype\": null, \"tiger:name_base\": null, \"intermittent\": null, \"nhd:com_id\": null, \"layer\": null, \"nhd:gnis_id\": null, \"natural\": null, \"water\": null, \"bicycle\": null, \"motorcycle\": null, \"mtb:scale:imba\": null, \"parking\": null, \"name_1\": null, \"foot\": null, \"horse\": null, \"wikidata\": null, \"tunnel\": null}, {\"ele\": null, \"gnis:county_id\": null, \"gnis:created\": \"\", \"gnis:feature_id\": null, \"gnis:state_id\": null, \"name\": \"Orchard Boat Ramp\", \"place\": null, \"osm_item_type\": \"node\", \"osm_id\": 3726754312, \"osm_path\": \"node/3726754312\", \"waterway\": null, \"addr:state\": null, \"gnis:county_name\": null, \"gnis:feature_type\": null, \"landuse\": null, \"man_made\": null, \"amenity\": null, \"operator\": null, \"tourism\": null, \"leisure\": \"slipway\", \"highway\": null, \"motor_vehicle\": null, \"smoothness\": null, \"source\": null, \"surface\": null, \"tracktype\": null, \"tiger:name_base\": null, \"intermittent\": null, \"nhd:com_id\": null, \"layer\": null, \"nhd:gnis_id\": null, \"natural\": null, \"water\": null, \"bicycle\": null, \"motorcycle\": null, \"mtb:scale:imba\": null, \"parking\": null, \"name_1\": null, \"foot\": null, \"horse\": null, \"wikidata\": null, \"tunnel\": null}, {\"ele\": null, \"gnis:county_id\": null, \"gnis:created\": \"\", \"gnis:feature_id\": null, \"gnis:state_id\": null, \"name\": \"Smith Mountain Saddle Trailhead\", \"place\": null, \"osm_item_type\": \"node\", \"osm_id\": 3726754313, \"osm_path\": \"node/3726754313\", \"waterway\": null, \"addr:state\": null, \"gnis:county_name\": null, \"gnis:feature_type\": null, \"landuse\": null, \"man_made\": null, \"amenity\": \"parking\", \"operator\": \"BLM\", \"tourism\": null, \"leisure\": null, \"highway\": null, \"motor_vehicle\": null, \"smoothness\": null, \"source\": null, \"surface\": null, \"tracktype\": null, \"tiger:name_base\": null, \"intermittent\": null, \"nhd:com_id\": null, \"layer\": null, \"nhd:gnis_id\": null, \"natural\": null, \"water\": null, \"bicycle\": null, \"motorcycle\": null, \"mtb:scale:imba\": null, \"parking\": null, \"name_1\": null, \"foot\": null, \"horse\": null, \"wikidata\": null, \"tunnel\": null}, {\"ele\": null, \"gnis:county_id\": null, \"gnis:created\": \"\", \"gnis:feature_id\": null, \"gnis:state_id\": null, \"name\": \"West River Trailhead\", \"place\": null, \"osm_item_type\": \"node\", \"osm_id\": 3726754315, \"osm_path\": \"node/3726754315\", \"waterway\": null, \"addr:state\": null, \"gnis:county_name\": null, \"gnis:feature_type\": null, \"landuse\": null, \"man_made\": null, \"amenity\": \"parking\", \"operator\": \"BLM\", \"tourism\": null, \"leisure\": null, \"highway\": null, \"motor_vehicle\": null, \"smoothness\": null, \"source\": null, \"surface\": null, \"tracktype\": null, \"tiger:name_base\": null, \"intermittent\": null, \"nhd:com_id\": null, \"layer\": null, \"nhd:gnis_id\": null, \"natural\": null, \"water\": null, \"bicycle\": null, \"motorcycle\": null, \"mtb:scale:imba\": null, \"parking\": null, \"name_1\": null, \"foot\": null, \"horse\": null, \"wikidata\": null, \"tunnel\": null}, {\"ele\": null, \"gnis:county_id\": null, \"gnis:created\": \"\", \"gnis:feature_id\": null, \"gnis:state_id\": null, \"name\": \"Smiths Mountain Overlook\", \"place\": null, \"osm_item_type\": \"node\", \"osm_id\": 3726792320, \"osm_path\": \"node/3726792320\", \"waterway\": null, \"addr:state\": null, \"gnis:county_name\": null, \"gnis:feature_type\": null, \"landuse\": null, \"man_made\": null, \"amenity\": null, \"operator\": null, \"tourism\": \"viewpoint\", \"leisure\": null, \"highway\": null, \"motor_vehicle\": null, \"smoothness\": null, \"source\": null, \"surface\": null, \"tracktype\": null, \"tiger:name_base\": null, \"intermittent\": null, \"nhd:com_id\": null, \"layer\": null, \"nhd:gnis_id\": null, \"natural\": null, \"water\": null, \"bicycle\": null, \"motorcycle\": null, \"mtb:scale:imba\": null, \"parking\": null, \"name_1\": null, \"foot\": null, \"horse\": null, \"wikidata\": null, \"tunnel\": null}, {\"ele\": null, \"gnis:county_id\": null, \"gnis:created\": \"\", \"gnis:feature_id\": null, \"gnis:state_id\": null, \"name\": \"Gunnison Forks Overlook\", \"place\": null, \"osm_item_type\": \"node\", \"osm_id\": 3728357763, \"osm_path\": \"node/3728357763\", \"waterway\": null, \"addr:state\": null, \"gnis:county_name\": null, \"gnis:feature_type\": null, \"landuse\": null, \"man_made\": null, \"amenity\": null, \"operator\": null, \"tourism\": \"viewpoint\", \"leisure\": null, \"highway\": null, \"motor_vehicle\": null, \"smoothness\": null, \"source\": null, \"surface\": null, \"tracktype\": null, \"tiger:name_base\": null, \"intermittent\": null, \"nhd:com_id\": null, \"layer\": null, \"nhd:gnis_id\": null, \"natural\": null, \"water\": null, \"bicycle\": null, \"motorcycle\": null, \"mtb:scale:imba\": null, \"parking\": null, \"name_1\": null, \"foot\": null, \"horse\": null, \"wikidata\": null, \"tunnel\": null}, {\"ele\": null, \"gnis:county_id\": null, \"gnis:created\": \"\", \"gnis:feature_id\": null, \"gnis:state_id\": null, \"name\": \"Gunnison Forks Picnic Area\", \"place\": null, \"osm_item_type\": \"node\", \"osm_id\": 3728357764, \"osm_path\": \"node/3728357764\", \"waterway\": null, \"addr:state\": null, \"gnis:county_name\": null, \"gnis:feature_type\": null, \"landuse\": null, \"man_made\": null, \"amenity\": null, \"operator\": null, \"tourism\": \"picnic_site\", \"leisure\": null, \"highway\": null, \"motor_vehicle\": null, \"smoothness\": null, \"source\": null, \"surface\": null, \"tracktype\": null, \"tiger:name_base\": null, \"intermittent\": null, \"nhd:com_id\": null, \"layer\": null, \"nhd:gnis_id\": null, \"natural\": null, \"water\": null, \"bicycle\": null, \"motorcycle\": null, \"mtb:scale:imba\": null, \"parking\": null, \"name_1\": null, \"foot\": null, \"horse\": null, \"wikidata\": null, \"tunnel\": null}, {\"ele\": null, \"gnis:county_id\": null, \"gnis:created\": \"\", \"gnis:feature_id\": null, \"gnis:state_id\": null, \"name\": \"Gunnison River Rock Art Site\", \"place\": null, \"osm_item_type\": \"node\", \"osm_id\": 3728357765, \"osm_path\": \"node/3728357765\", \"waterway\": null, \"addr:state\": null, \"gnis:county_name\": null, \"gnis:feature_type\": null, \"landuse\": null, \"man_made\": null, \"amenity\": \"parking\", \"operator\": \"BLM\", \"tourism\": null, \"leisure\": null, \"highway\": null, \"motor_vehicle\": null, \"smoothness\": null, \"source\": null, \"surface\": null, \"tracktype\": null, \"tiger:name_base\": null, \"intermittent\": null, \"nhd:com_id\": null, \"layer\": null, \"nhd:gnis_id\": null, \"natural\": null, \"water\": null, \"bicycle\": null, \"motorcycle\": null, \"mtb:scale:imba\": null, \"parking\": null, \"name_1\": null, \"foot\": null, \"horse\": null, \"wikidata\": null, \"tunnel\": null}, {\"ele\": null, \"gnis:county_id\": null, \"gnis:created\": \"\", \"gnis:feature_id\": null, \"gnis:state_id\": null, \"name\": \"NCA Entrance\", \"place\": null, \"osm_item_type\": \"node\", \"osm_id\": 3728357766, \"osm_path\": \"node/3728357766\", \"waterway\": null, \"addr:state\": null, \"gnis:county_name\": null, \"gnis:feature_type\": null, \"landuse\": null, \"man_made\": null, \"amenity\": \"parking\", \"operator\": \"BLM\", \"tourism\": null, \"leisure\": null, \"highway\": null, \"motor_vehicle\": null, \"smoothness\": null, \"source\": null, \"surface\": null, \"tracktype\": null, \"tiger:name_base\": null, \"intermittent\": null, \"nhd:com_id\": null, \"layer\": null, \"nhd:gnis_id\": null, \"natural\": null, \"water\": null, \"bicycle\": null, \"motorcycle\": null, \"mtb:scale:imba\": null, \"parking\": null, \"name_1\": null, \"foot\": null, \"horse\": null, \"wikidata\": null, \"tunnel\": null}, {\"ele\": null, \"gnis:county_id\": null, \"gnis:created\": \"\", \"gnis:feature_id\": null, \"gnis:state_id\": null, \"name\": \"Black Ridge\", \"place\": \"locality\", \"osm_item_type\": \"node\", \"osm_id\": 3728459464, \"osm_path\": \"node/3728459464\", \"waterway\": null, \"addr:state\": null, \"gnis:county_name\": null, \"gnis:feature_type\": null, \"landuse\": null, \"man_made\": null, \"amenity\": null, \"operator\": null, \"tourism\": null, \"leisure\": null, \"highway\": null, \"motor_vehicle\": null, \"smoothness\": null, \"source\": null, \"surface\": null, \"tracktype\": null, \"tiger:name_base\": null, \"intermittent\": null, \"nhd:com_id\": null, \"layer\": null, \"nhd:gnis_id\": null, \"natural\": null, \"water\": null, \"bicycle\": null, \"motorcycle\": null, \"mtb:scale:imba\": null, \"parking\": null, \"name_1\": null, \"foot\": null, \"horse\": null, \"wikidata\": null, \"tunnel\": null}, {\"ele\": null, \"gnis:county_id\": null, \"gnis:created\": \"\", \"gnis:feature_id\": null, \"gnis:state_id\": null, \"name\": \"Cedar Flats\", \"place\": \"locality\", \"osm_item_type\": \"node\", \"osm_id\": 3728459466, \"osm_path\": \"node/3728459466\", \"waterway\": null, \"addr:state\": null, \"gnis:county_name\": null, \"gnis:feature_type\": null, \"landuse\": null, \"man_made\": null, \"amenity\": null, \"operator\": null, \"tourism\": null, \"leisure\": null, \"highway\": null, \"motor_vehicle\": null, \"smoothness\": null, \"source\": null, \"surface\": null, \"tracktype\": null, \"tiger:name_base\": null, \"intermittent\": null, \"nhd:com_id\": null, \"layer\": null, \"nhd:gnis_id\": null, \"natural\": null, \"water\": null, \"bicycle\": null, \"motorcycle\": null, \"mtb:scale:imba\": null, \"parking\": null, \"name_1\": null, \"foot\": null, \"horse\": null, \"wikidata\": null, \"tunnel\": null}, {\"ele\": null, \"gnis:county_id\": null, \"gnis:created\": \"\", \"gnis:feature_id\": null, \"gnis:state_id\": null, \"name\": \"Sun Cliff Canyon Trailhead\", \"place\": null, \"osm_item_type\": \"node\", \"osm_id\": 3729425335, \"osm_path\": \"node/3729425335\", \"waterway\": null, \"addr:state\": null, \"gnis:county_name\": null, \"gnis:feature_type\": null, \"landuse\": null, \"man_made\": null, \"amenity\": \"parking\", \"operator\": \"BLM\", \"tourism\": null, \"leisure\": null, \"highway\": null, \"motor_vehicle\": null, \"smoothness\": null, \"source\": null, \"surface\": null, \"tracktype\": null, \"tiger:name_base\": null, \"intermittent\": null, \"nhd:com_id\": null, \"layer\": null, \"nhd:gnis_id\": null, \"natural\": null, \"water\": null, \"bicycle\": null, \"motorcycle\": null, \"mtb:scale:imba\": null, \"parking\": null, \"name_1\": null, \"foot\": null, \"horse\": null, \"wikidata\": null, \"tunnel\": null}, {\"ele\": null, \"gnis:county_id\": null, \"gnis:created\": \"\", \"gnis:feature_id\": null, \"gnis:state_id\": null, \"name\": \"Black Ridge Road\", \"place\": null, \"osm_item_type\": \"way\", \"osm_id\": 17040435, \"osm_path\": \"way/17040435\", \"waterway\": null, \"addr:state\": null, \"gnis:county_name\": null, \"gnis:feature_type\": null, \"landuse\": null, \"man_made\": null, \"amenity\": null, \"operator\": null, \"tourism\": null, \"leisure\": null, \"highway\": \"track\", \"motor_vehicle\": \"yes\", \"smoothness\": \"very_bad\", \"source\": \"Delta County GIS data, BLM, Bing\", \"surface\": \"dirt\", \"tracktype\": \"grade2\", \"tiger:name_base\": null, \"intermittent\": null, \"nhd:com_id\": null, \"layer\": null, \"nhd:gnis_id\": null, \"natural\": null, \"water\": null, \"bicycle\": null, \"motorcycle\": null, \"mtb:scale:imba\": null, \"parking\": null, \"name_1\": null, \"foot\": null, \"horse\": null, \"wikidata\": null, \"tunnel\": null}, {\"ele\": null, \"gnis:county_id\": null, \"gnis:created\": \"\", \"gnis:feature_id\": null, \"gnis:state_id\": null, \"name\": \"Smith Mountain Road\", \"place\": null, \"osm_item_type\": \"way\", \"osm_id\": 17041815, \"osm_path\": \"way/17041815\", \"waterway\": null, \"addr:state\": null, \"gnis:county_name\": null, \"gnis:feature_type\": null, \"landuse\": null, \"man_made\": null, \"amenity\": null, \"operator\": null, \"tourism\": null, \"leisure\": null, \"highway\": \"track\", \"motor_vehicle\": \"yes\", \"smoothness\": \"very_bad\", \"source\": \"Delta County GIS data, BLM, Bing\", \"surface\": \"dirt\", \"tracktype\": \"grade3\", \"tiger:name_base\": \"G 50\", \"intermittent\": null, \"nhd:com_id\": null, \"layer\": null, \"nhd:gnis_id\": null, \"natural\": null, \"water\": null, \"bicycle\": null, \"motorcycle\": null, \"mtb:scale:imba\": null, \"parking\": null, \"name_1\": null, \"foot\": null, \"horse\": null, \"wikidata\": null, \"tunnel\": null}, {\"ele\": null, \"gnis:county_id\": null, \"gnis:created\": \"\", \"gnis:feature_id\": null, \"gnis:state_id\": null, \"name\": \"Smith Mountain Road\", \"place\": null, \"osm_item_type\": \"way\", \"osm_id\": 17041818, \"osm_path\": \"way/17041818\", \"waterway\": null, \"addr:state\": null, \"gnis:county_name\": null, \"gnis:feature_type\": null, \"landuse\": null, \"man_made\": null, \"amenity\": null, \"operator\": null, \"tourism\": null, \"leisure\": null, \"highway\": \"track\", \"motor_vehicle\": \"yes\", \"smoothness\": \"very_bad\", \"source\": \"Delta County GIS data, BLM, Bing\", \"surface\": \"dirt\", \"tracktype\": \"grade3\", \"tiger:name_base\": \"G 50\", \"intermittent\": null, \"nhd:com_id\": null, \"layer\": null, \"nhd:gnis_id\": null, \"natural\": null, \"water\": null, \"bicycle\": null, \"motorcycle\": null, \"mtb:scale:imba\": null, \"parking\": null, \"name_1\": null, \"foot\": null, \"horse\": null, \"wikidata\": null, \"tunnel\": null}, {\"ele\": null, \"gnis:county_id\": null, \"gnis:created\": \"\", \"gnis:feature_id\": null, \"gnis:state_id\": null, \"name\": \"Peach Valley Road\", \"place\": null, \"osm_item_type\": \"way\", \"osm_id\": 17043457, \"osm_path\": \"way/17043457\", \"waterway\": null, \"addr:state\": null, \"gnis:county_name\": null, \"gnis:feature_type\": null, \"landuse\": null, \"man_made\": null, \"amenity\": null, \"operator\": null, \"tourism\": null, \"leisure\": null, \"highway\": \"unclassified\", \"motor_vehicle\": null, \"smoothness\": null, \"source\": \"Delta County GIS data, Bing\", \"surface\": \"gravel\", \"tracktype\": null, \"tiger:name_base\": null, \"intermittent\": null, \"nhd:com_id\": null, \"layer\": null, \"nhd:gnis_id\": null, \"natural\": null, \"water\": null, \"bicycle\": null, \"motorcycle\": null, \"mtb:scale:imba\": null, \"parking\": null, \"name_1\": null, \"foot\": null, \"horse\": null, \"wikidata\": null, \"tunnel\": null}, {\"ele\": null, \"gnis:county_id\": null, \"gnis:created\": \"\", \"gnis:feature_id\": null, \"gnis:state_id\": null, \"name\": \"Peach Valley Road\", \"place\": null, \"osm_item_type\": \"way\", \"osm_id\": 17112730, \"osm_path\": \"way/17112730\", \"waterway\": null, \"addr:state\": null, \"gnis:county_name\": null, \"gnis:feature_type\": null, \"landuse\": null, \"man_made\": null, \"amenity\": null, \"operator\": null, \"tourism\": null, \"leisure\": null, \"highway\": \"unclassified\", \"motor_vehicle\": null, \"smoothness\": null, \"source\": \"Montrose County GIS data, Bing\", \"surface\": \"dirt\", \"tracktype\": null, \"tiger:name_base\": null, \"intermittent\": null, \"nhd:com_id\": null, \"layer\": null, \"nhd:gnis_id\": null, \"natural\": null, \"water\": null, \"bicycle\": null, \"motorcycle\": null, \"mtb:scale:imba\": null, \"parking\": null, \"name_1\": null, \"foot\": null, \"horse\": null, \"wikidata\": null, \"tunnel\": null}, {\"ele\": null, \"gnis:county_id\": null, \"gnis:created\": \"\", \"gnis:feature_id\": null, \"gnis:state_id\": null, \"name\": \"Red Canyon\", \"place\": null, \"osm_item_type\": \"way\", \"osm_id\": 45943733, \"osm_path\": \"way/45943733\", \"waterway\": \"stream\", \"addr:state\": null, \"gnis:county_name\": null, \"gnis:feature_type\": null, \"landuse\": null, \"man_made\": null, \"amenity\": null, \"operator\": null, \"tourism\": null, \"leisure\": null, \"highway\": null, \"motor_vehicle\": null, \"smoothness\": null, \"source\": \"NHD, Bing\", \"surface\": null, \"tracktype\": null, \"tiger:name_base\": null, \"intermittent\": \"yes\", \"nhd:com_id\": \"64442888;64458607;64458729;64458714;64458628;64442783;64458591;64458691;64482052;64442835;64442823;64442818;64458765;64458754;64458611;64458744;64458623;64458640;64442907;64458664\", \"layer\": null, \"nhd:gnis_id\": null, \"natural\": null, \"water\": null, \"bicycle\": null, \"motorcycle\": null, \"mtb:scale:imba\": null, \"parking\": null, \"name_1\": null, \"foot\": null, \"horse\": null, \"wikidata\": null, \"tunnel\": null}, {\"ele\": null, \"gnis:county_id\": null, \"gnis:created\": \"\", \"gnis:feature_id\": null, \"gnis:state_id\": null, \"name\": \"East O Lateral\", \"place\": null, \"osm_item_type\": \"way\", \"osm_id\": 45948897, \"osm_path\": \"way/45948897\", \"waterway\": \"drain\", \"addr:state\": null, \"gnis:county_name\": null, \"gnis:feature_type\": null, \"landuse\": null, \"man_made\": null, \"amenity\": null, \"operator\": null, \"tourism\": null, \"leisure\": null, \"highway\": null, \"motor_vehicle\": null, \"smoothness\": null, \"source\": \"NHD, Bing\", \"surface\": null, \"tracktype\": null, \"tiger:name_base\": null, \"intermittent\": null, \"nhd:com_id\": \"75568773;75568789;75568799;75568825;75568883;75568839\", \"layer\": \"-1\", \"nhd:gnis_id\": \"00186505\", \"natural\": null, \"water\": null, \"bicycle\": null, \"motorcycle\": null, \"mtb:scale:imba\": null, \"parking\": null, \"name_1\": null, \"foot\": null, \"horse\": null, \"wikidata\": null, \"tunnel\": null}, {\"ele\": null, \"gnis:county_id\": null, \"gnis:created\": \"\", \"gnis:feature_id\": null, \"gnis:state_id\": null, \"name\": \"Long Gulch\", \"place\": null, \"osm_item_type\": \"way\", \"osm_id\": 45949853, \"osm_path\": \"way/45949853\", \"waterway\": \"stream\", \"addr:state\": null, \"gnis:county_name\": null, \"gnis:feature_type\": null, \"landuse\": null, \"man_made\": null, \"amenity\": null, \"operator\": null, \"tourism\": null, \"leisure\": null, \"highway\": null, \"motor_vehicle\": null, \"smoothness\": null, \"source\": \"NHD, Bing\", \"surface\": null, \"tracktype\": null, \"tiger:name_base\": null, \"intermittent\": \"yes\", \"nhd:com_id\": \"64442775;64442884;64443012\", \"layer\": null, \"nhd:gnis_id\": null, \"natural\": null, \"water\": null, \"bicycle\": null, \"motorcycle\": null, \"mtb:scale:imba\": null, \"parking\": null, \"name_1\": null, \"foot\": null, \"horse\": null, \"wikidata\": null, \"tunnel\": null}, {\"ele\": \"2362\", \"gnis:county_id\": \"085\", \"gnis:created\": \"1978-10-13T00:00:00\", \"gnis:feature_id\": \"186697\", \"gnis:state_id\": \"08\", \"name\": \"Green Mountain Reservoir Number 1\", \"place\": null, \"osm_item_type\": \"way\", \"osm_id\": 45967325, \"osm_path\": \"way/45967325\", \"waterway\": null, \"addr:state\": null, \"gnis:county_name\": null, \"gnis:feature_type\": null, \"landuse\": null, \"man_made\": null, \"amenity\": null, \"operator\": null, \"tourism\": null, \"leisure\": null, \"highway\": null, \"motor_vehicle\": null, \"smoothness\": null, \"source\": null, \"surface\": null, \"tracktype\": null, \"tiger:name_base\": null, \"intermittent\": \"yes\", \"nhd:com_id\": null, \"layer\": null, \"nhd:gnis_id\": null, \"natural\": \"water\", \"water\": \"pond\", \"bicycle\": null, \"motorcycle\": null, \"mtb:scale:imba\": null, \"parking\": null, \"name_1\": null, \"foot\": null, \"horse\": null, \"wikidata\": null, \"tunnel\": null}, {\"ele\": null, \"gnis:county_id\": null, \"gnis:created\": \"\", \"gnis:feature_id\": null, \"gnis:state_id\": null, \"name\": \"Gunnison River - Black Canyon of the Gunnison\", \"place\": null, \"osm_item_type\": \"way\", \"osm_id\": 45987634, \"osm_path\": \"way/45987634\", \"waterway\": \"river\", \"addr:state\": null, \"gnis:county_name\": null, \"gnis:feature_type\": null, \"landuse\": null, \"man_made\": null, \"amenity\": null, \"operator\": null, \"tourism\": null, \"leisure\": null, \"highway\": null, \"motor_vehicle\": null, \"smoothness\": null, \"source\": \"NHD, Bing\", \"surface\": null, \"tracktype\": null, \"tiger:name_base\": null, \"intermittent\": null, \"nhd:com_id\": \"<many>\", \"layer\": null, \"nhd:gnis_id\": \"00201748\", \"natural\": null, \"water\": null, \"bicycle\": null, \"motorcycle\": null, \"mtb:scale:imba\": null, \"parking\": null, \"name_1\": null, \"foot\": null, \"horse\": null, \"wikidata\": null, \"tunnel\": null}, {\"ele\": null, \"gnis:county_id\": null, \"gnis:created\": \"\", \"gnis:feature_id\": null, \"gnis:state_id\": null, \"name\": \"Lime Kiln Gulch\", \"place\": null, \"osm_item_type\": \"way\", \"osm_id\": 45988475, \"osm_path\": \"way/45988475\", \"waterway\": \"stream\", \"addr:state\": null, \"gnis:county_name\": null, \"gnis:feature_type\": null, \"landuse\": null, \"man_made\": null, \"amenity\": null, \"operator\": null, \"tourism\": null, \"leisure\": null, \"highway\": null, \"motor_vehicle\": null, \"smoothness\": null, \"source\": \"NHD, Bing\", \"surface\": null, \"tracktype\": null, \"tiger:name_base\": null, \"intermittent\": \"yes\", \"nhd:com_id\": \"64442791\", \"layer\": null, \"nhd:gnis_id\": null, \"natural\": null, \"water\": null, \"bicycle\": null, \"motorcycle\": null, \"mtb:scale:imba\": null, \"parking\": null, \"name_1\": null, \"foot\": null, \"horse\": null, \"wikidata\": null, \"tunnel\": null}, {\"ele\": null, \"gnis:county_id\": null, \"gnis:created\": \"\", \"gnis:feature_id\": null, \"gnis:state_id\": null, \"name\": \"Loutsenhizer Canal\", \"place\": null, \"osm_item_type\": \"way\", \"osm_id\": 45992163, \"osm_path\": \"way/45992163\", \"waterway\": \"drain\", \"addr:state\": null, \"gnis:county_name\": null, \"gnis:feature_type\": null, \"landuse\": null, \"man_made\": null, \"amenity\": null, \"operator\": null, \"tourism\": null, \"leisure\": null, \"highway\": null, \"motor_vehicle\": null, \"smoothness\": null, \"source\": \"NHD, Bing\", \"surface\": null, \"tracktype\": null, \"tiger:name_base\": null, \"intermittent\": null, \"nhd:com_id\": \"70227403;70216217;70230085;70227329;70230083;70227385;70230087;70233059\", \"layer\": \"-1\", \"nhd:gnis_id\": \"00203269\", \"natural\": null, \"water\": null, \"bicycle\": null, \"motorcycle\": null, \"mtb:scale:imba\": null, \"parking\": null, \"name_1\": null, \"foot\": null, \"horse\": null, \"wikidata\": null, \"tunnel\": null}, {\"ele\": null, \"gnis:county_id\": null, \"gnis:created\": \"\", \"gnis:feature_id\": null, \"gnis:state_id\": null, \"name\": \"Relief Canal\", \"place\": null, \"osm_item_type\": \"way\", \"osm_id\": 45995362, \"osm_path\": \"way/45995362\", \"waterway\": \"drain\", \"addr:state\": null, \"gnis:county_name\": null, \"gnis:feature_type\": null, \"landuse\": null, \"man_made\": null, \"amenity\": null, \"operator\": null, \"tourism\": null, \"leisure\": null, \"highway\": null, \"motor_vehicle\": null, \"smoothness\": null, \"source\": \"NHD, Bing\", \"surface\": null, \"tracktype\": null, \"tiger:name_base\": null, \"intermittent\": null, \"nhd:com_id\": \"75568833;120298957;75568807;120299510;75568777;75568763;75568737;75568745;75568733\", \"layer\": \"-1\", \"nhd:gnis_id\": null, \"natural\": null, \"water\": null, \"bicycle\": null, \"motorcycle\": null, \"mtb:scale:imba\": null, \"parking\": null, \"name_1\": null, \"foot\": null, \"horse\": null, \"wikidata\": null, \"tunnel\": null}, {\"ele\": null, \"gnis:county_id\": null, \"gnis:created\": \"\", \"gnis:feature_id\": null, \"gnis:state_id\": null, \"name\": \"Fruitland Mesa Ditch\", \"place\": null, \"osm_item_type\": \"way\", \"osm_id\": 46021447, \"osm_path\": \"way/46021447\", \"waterway\": \"ditch\", \"addr:state\": null, \"gnis:county_name\": null, \"gnis:feature_type\": null, \"landuse\": null, \"man_made\": null, \"amenity\": null, \"operator\": null, \"tourism\": null, \"leisure\": null, \"highway\": null, \"motor_vehicle\": null, \"smoothness\": null, \"source\": \"NHD, Bing\", \"surface\": null, \"tracktype\": null, \"tiger:name_base\": null, \"intermittent\": null, \"nhd:com_id\": \"64482050\", \"layer\": \"-1\", \"nhd:gnis_id\": \"00186693\", \"natural\": null, \"water\": null, \"bicycle\": null, \"motorcycle\": null, \"mtb:scale:imba\": null, \"parking\": null, \"name_1\": null, \"foot\": null, \"horse\": null, \"wikidata\": null, \"tunnel\": null}, {\"ele\": null, \"gnis:county_id\": null, \"gnis:created\": \"\", \"gnis:feature_id\": null, \"gnis:state_id\": null, \"name\": \"Birthday Canyon\", \"place\": null, \"osm_item_type\": \"way\", \"osm_id\": 46023392, \"osm_path\": \"way/46023392\", \"waterway\": \"stream\", \"addr:state\": null, \"gnis:county_name\": null, \"gnis:feature_type\": null, \"landuse\": null, \"man_made\": null, \"amenity\": null, \"operator\": null, \"tourism\": null, \"leisure\": null, \"highway\": null, \"motor_vehicle\": null, \"smoothness\": null, \"source\": \"NHD, Bing\", \"surface\": null, \"tracktype\": null, \"tiger:name_base\": null, \"intermittent\": \"yes\", \"nhd:com_id\": \"75563571;75547411\", \"layer\": null, \"nhd:gnis_id\": null, \"natural\": null, \"water\": null, \"bicycle\": null, \"motorcycle\": null, \"mtb:scale:imba\": null, \"parking\": null, \"name_1\": null, \"foot\": null, \"horse\": null, \"wikidata\": null, \"tunnel\": null}, {\"ele\": null, \"gnis:county_id\": null, \"gnis:created\": \"\", \"gnis:feature_id\": null, \"gnis:state_id\": null, \"name\": \"Cool Rock Canyon\", \"place\": null, \"osm_item_type\": \"way\", \"osm_id\": 46023512, \"osm_path\": \"way/46023512\", \"waterway\": \"stream\", \"addr:state\": null, \"gnis:county_name\": null, \"gnis:feature_type\": null, \"landuse\": null, \"man_made\": null, \"amenity\": null, \"operator\": null, \"tourism\": null, \"leisure\": null, \"highway\": null, \"motor_vehicle\": null, \"smoothness\": null, \"source\": \"NHD, Bing\", \"surface\": null, \"tracktype\": null, \"tiger:name_base\": null, \"intermittent\": \"yes\", \"nhd:com_id\": \"75547519;75563569\", \"layer\": null, \"nhd:gnis_id\": null, \"natural\": null, \"water\": null, \"bicycle\": null, \"motorcycle\": null, \"mtb:scale:imba\": null, \"parking\": null, \"name_1\": null, \"foot\": null, \"horse\": null, \"wikidata\": null, \"tunnel\": null}, {\"ele\": null, \"gnis:county_id\": null, \"gnis:created\": \"\", \"gnis:feature_id\": null, \"gnis:state_id\": null, \"name\": \"Sun Cliff Canyon\", \"place\": null, \"osm_item_type\": \"way\", \"osm_id\": 46026099, \"osm_path\": \"way/46026099\", \"waterway\": \"stream\", \"addr:state\": null, \"gnis:county_name\": null, \"gnis:feature_type\": null, \"landuse\": null, \"man_made\": null, \"amenity\": null, \"operator\": null, \"tourism\": null, \"leisure\": null, \"highway\": null, \"motor_vehicle\": null, \"smoothness\": null, \"source\": \"NHD, Bing\", \"surface\": null, \"tracktype\": null, \"tiger:name_base\": null, \"intermittent\": \"yes\", \"nhd:com_id\": \"75568885;75568803;75567627\", \"layer\": null, \"nhd:gnis_id\": null, \"natural\": null, \"water\": null, \"bicycle\": null, \"motorcycle\": null, \"mtb:scale:imba\": null, \"parking\": null, \"name_1\": null, \"foot\": null, \"horse\": null, \"wikidata\": null, \"tunnel\": null}, {\"ele\": null, \"gnis:county_id\": null, \"gnis:created\": \"\", \"gnis:feature_id\": null, \"gnis:state_id\": null, \"name\": \"Selig Canal\", \"place\": null, \"osm_item_type\": \"way\", \"osm_id\": 46028067, \"osm_path\": \"way/46028067\", \"waterway\": \"drain\", \"addr:state\": null, \"gnis:county_name\": null, \"gnis:feature_type\": null, \"landuse\": null, \"man_made\": null, \"amenity\": null, \"operator\": null, \"tourism\": null, \"leisure\": null, \"highway\": null, \"motor_vehicle\": null, \"smoothness\": null, \"source\": \"NHD, Bing\", \"surface\": null, \"tracktype\": null, \"tiger:name_base\": null, \"intermittent\": null, \"nhd:com_id\": \"70227119;70227113;70227893;70227883;75567793\", \"layer\": \"-1\", \"nhd:gnis_id\": \"00203252\", \"natural\": null, \"water\": null, \"bicycle\": null, \"motorcycle\": null, \"mtb:scale:imba\": null, \"parking\": null, \"name_1\": null, \"foot\": null, \"horse\": null, \"wikidata\": null, \"tunnel\": null}, {\"ele\": null, \"gnis:county_id\": null, \"gnis:created\": \"\", \"gnis:feature_id\": null, \"gnis:state_id\": null, \"name\": \"Selig Canal\", \"place\": null, \"osm_item_type\": \"way\", \"osm_id\": 46031297, \"osm_path\": \"way/46031297\", \"waterway\": \"drain\", \"addr:state\": null, \"gnis:county_name\": null, \"gnis:feature_type\": null, \"landuse\": null, \"man_made\": null, \"amenity\": null, \"operator\": null, \"tourism\": null, \"leisure\": null, \"highway\": null, \"motor_vehicle\": null, \"smoothness\": null, \"source\": \"NHD, Bing\", \"surface\": null, \"tracktype\": null, \"tiger:name_base\": null, \"intermittent\": null, \"nhd:com_id\": \"70227157;70227125\", \"layer\": \"-1\", \"nhd:gnis_id\": \"00203252\", \"natural\": null, \"water\": null, \"bicycle\": null, \"motorcycle\": null, \"mtb:scale:imba\": null, \"parking\": null, \"name_1\": null, \"foot\": null, \"horse\": null, \"wikidata\": null, \"tunnel\": null}, {\"ele\": null, \"gnis:county_id\": null, \"gnis:created\": \"\", \"gnis:feature_id\": null, \"gnis:state_id\": null, \"name\": \"Selig Canal\", \"place\": null, \"osm_item_type\": \"way\", \"osm_id\": 46057466, \"osm_path\": \"way/46057466\", \"waterway\": \"drain\", \"addr:state\": null, \"gnis:county_name\": null, \"gnis:feature_type\": null, \"landuse\": null, \"man_made\": null, \"amenity\": null, \"operator\": null, \"tourism\": null, \"leisure\": null, \"highway\": null, \"motor_vehicle\": null, \"smoothness\": null, \"source\": \"NHD, Bing\", \"surface\": null, \"tracktype\": null, \"tiger:name_base\": null, \"intermittent\": null, \"nhd:com_id\": \"120299453;70227231;166889337;70227233\", \"layer\": \"-1\", \"nhd:gnis_id\": \"00203252\", \"natural\": null, \"water\": null, \"bicycle\": null, \"motorcycle\": null, \"mtb:scale:imba\": null, \"parking\": null, \"name_1\": null, \"foot\": null, \"horse\": null, \"wikidata\": null, \"tunnel\": null}, {\"ele\": null, \"gnis:county_id\": null, \"gnis:created\": \"\", \"gnis:feature_id\": null, \"gnis:state_id\": null, \"name\": \"East O Lateral\", \"place\": null, \"osm_item_type\": \"way\", \"osm_id\": 46059952, \"osm_path\": \"way/46059952\", \"waterway\": \"drain\", \"addr:state\": null, \"gnis:county_name\": null, \"gnis:feature_type\": null, \"landuse\": null, \"man_made\": null, \"amenity\": null, \"operator\": null, \"tourism\": null, \"leisure\": null, \"highway\": null, \"motor_vehicle\": null, \"smoothness\": null, \"source\": \"NHD, Bing\", \"surface\": null, \"tracktype\": null, \"tiger:name_base\": null, \"intermittent\": null, \"nhd:com_id\": \"120299500;75567625;120299501\", \"layer\": \"-1\", \"nhd:gnis_id\": \"00186505\", \"natural\": null, \"water\": null, \"bicycle\": null, \"motorcycle\": null, \"mtb:scale:imba\": null, \"parking\": null, \"name_1\": null, \"foot\": null, \"horse\": null, \"wikidata\": null, \"tunnel\": null}, {\"ele\": null, \"gnis:county_id\": null, \"gnis:created\": \"\", \"gnis:feature_id\": null, \"gnis:state_id\": null, \"name\": \"Rabbit Gulch\", \"place\": null, \"osm_item_type\": \"way\", \"osm_id\": 46081514, \"osm_path\": \"way/46081514\", \"waterway\": \"stream\", \"addr:state\": null, \"gnis:county_name\": null, \"gnis:feature_type\": null, \"landuse\": null, \"man_made\": null, \"amenity\": null, \"operator\": null, \"tourism\": null, \"leisure\": null, \"highway\": null, \"motor_vehicle\": null, \"smoothness\": null, \"source\": \"NHD, Bing\", \"surface\": null, \"tracktype\": null, \"tiger:name_base\": null, \"intermittent\": \"yes\", \"nhd:com_id\": \"64464048\", \"layer\": null, \"nhd:gnis_id\": null, \"natural\": null, \"water\": null, \"bicycle\": null, \"motorcycle\": null, \"mtb:scale:imba\": null, \"parking\": null, \"name_1\": null, \"foot\": null, \"horse\": null, \"wikidata\": null, \"tunnel\": null}, {\"ele\": null, \"gnis:county_id\": null, \"gnis:created\": \"\", \"gnis:feature_id\": null, \"gnis:state_id\": null, \"name\": \"Loutsenhizer Arroyo\", \"place\": null, \"osm_item_type\": \"way\", \"osm_id\": 46082497, \"osm_path\": \"way/46082497\", \"waterway\": \"stream\", \"addr:state\": null, \"gnis:county_name\": null, \"gnis:feature_type\": null, \"landuse\": null, \"man_made\": null, \"amenity\": null, \"operator\": null, \"tourism\": null, \"leisure\": null, \"highway\": null, \"motor_vehicle\": null, \"smoothness\": null, \"source\": \"NHD, Bing\", \"surface\": null, \"tracktype\": null, \"tiger:name_base\": null, \"intermittent\": \"yes\", \"nhd:com_id\": \"<many>\", \"layer\": null, \"nhd:gnis_id\": \"00186688\", \"natural\": null, \"water\": null, \"bicycle\": null, \"motorcycle\": null, \"mtb:scale:imba\": null, \"parking\": null, \"name_1\": null, \"foot\": null, \"horse\": null, \"wikidata\": null, \"tunnel\": null}, {\"ele\": null, \"gnis:county_id\": null, \"gnis:created\": \"\", \"gnis:feature_id\": null, \"gnis:state_id\": null, \"name\": \"Smith Fork\", \"place\": null, \"osm_item_type\": \"way\", \"osm_id\": 46084462, \"osm_path\": \"way/46084462\", \"waterway\": \"stream\", \"addr:state\": null, \"gnis:county_name\": null, \"gnis:feature_type\": null, \"landuse\": null, \"man_made\": null, \"amenity\": null, \"operator\": null, \"tourism\": null, \"leisure\": null, \"highway\": null, \"motor_vehicle\": null, \"smoothness\": null, \"source\": \"NHD, Bing\", \"surface\": null, \"tracktype\": null, \"tiger:name_base\": null, \"intermittent\": null, \"nhd:com_id\": \"<many>\", \"layer\": null, \"nhd:gnis_id\": \"00186702\", \"natural\": null, \"water\": null, \"bicycle\": null, \"motorcycle\": null, \"mtb:scale:imba\": null, \"parking\": null, \"name_1\": null, \"foot\": null, \"horse\": null, \"wikidata\": null, \"tunnel\": null}, {\"ele\": null, \"gnis:county_id\": null, \"gnis:created\": \"\", \"gnis:feature_id\": null, \"gnis:state_id\": null, \"name\": \"Sidewinder Trail\", \"place\": null, \"osm_item_type\": \"way\", \"osm_id\": 239024531, \"osm_path\": \"way/239024531\", \"waterway\": null, \"addr:state\": null, \"gnis:county_name\": null, \"gnis:feature_type\": null, \"landuse\": null, \"man_made\": null, \"amenity\": null, \"operator\": null, \"tourism\": null, \"leisure\": null, \"highway\": \"path\", \"motor_vehicle\": null, \"smoothness\": null, \"source\": null, \"surface\": \"ground\", \"tracktype\": null, \"tiger:name_base\": null, \"intermittent\": null, \"nhd:com_id\": null, \"layer\": null, \"nhd:gnis_id\": null, \"natural\": null, \"water\": null, \"bicycle\": \"yes\", \"motorcycle\": \"yes\", \"mtb:scale:imba\": \"3\", \"parking\": null, \"name_1\": null, \"foot\": null, \"horse\": null, \"wikidata\": null, \"tunnel\": null}, {\"ele\": null, \"gnis:county_id\": null, \"gnis:created\": \"\", \"gnis:feature_id\": null, \"gnis:state_id\": null, \"name\": \"North Sidewinder Trailhead\", \"place\": null, \"osm_item_type\": \"way\", \"osm_id\": 239024534, \"osm_path\": \"way/239024534\", \"waterway\": null, \"addr:state\": null, \"gnis:county_name\": null, \"gnis:feature_type\": null, \"landuse\": null, \"man_made\": null, \"amenity\": \"parking\", \"operator\": \"BLM\", \"tourism\": null, \"leisure\": null, \"highway\": null, \"motor_vehicle\": null, \"smoothness\": null, \"source\": null, \"surface\": null, \"tracktype\": null, \"tiger:name_base\": null, \"intermittent\": null, \"nhd:com_id\": null, \"layer\": null, \"nhd:gnis_id\": null, \"natural\": null, \"water\": null, \"bicycle\": null, \"motorcycle\": null, \"mtb:scale:imba\": null, \"parking\": \"surface\", \"name_1\": null, \"foot\": null, \"horse\": null, \"wikidata\": null, \"tunnel\": null}, {\"ele\": null, \"gnis:county_id\": null, \"gnis:created\": \"\", \"gnis:feature_id\": null, \"gnis:state_id\": null, \"name\": \"Ute Road\", \"place\": null, \"osm_item_type\": \"way\", \"osm_id\": 250880219, \"osm_path\": \"way/250880219\", \"waterway\": null, \"addr:state\": null, \"gnis:county_name\": null, \"gnis:feature_type\": null, \"landuse\": null, \"man_made\": null, \"amenity\": null, \"operator\": null, \"tourism\": null, \"leisure\": null, \"highway\": \"track\", \"motor_vehicle\": \"yes\", \"smoothness\": \"very_bad\", \"source\": \"BLM, Bing\", \"surface\": \"dirt\", \"tracktype\": \"grade3\", \"tiger:name_base\": null, \"intermittent\": null, \"nhd:com_id\": null, \"layer\": null, \"nhd:gnis_id\": null, \"natural\": null, \"water\": null, \"bicycle\": null, \"motorcycle\": null, \"mtb:scale:imba\": null, \"parking\": null, \"name_1\": null, \"foot\": null, \"horse\": null, \"wikidata\": null, \"tunnel\": null}, {\"ele\": null, \"gnis:county_id\": null, \"gnis:created\": \"\", \"gnis:feature_id\": null, \"gnis:state_id\": null, \"name\": \"Dinosaur Road\", \"place\": null, \"osm_item_type\": \"way\", \"osm_id\": 250880462, \"osm_path\": \"way/250880462\", \"waterway\": null, \"addr:state\": null, \"gnis:county_name\": null, \"gnis:feature_type\": null, \"landuse\": null, \"man_made\": null, \"amenity\": null, \"operator\": null, \"tourism\": null, \"leisure\": null, \"highway\": \"track\", \"motor_vehicle\": \"yes\", \"smoothness\": \"very_bad\", \"source\": \"BLM, Bing\", \"surface\": \"dirt\", \"tracktype\": \"grade3\", \"tiger:name_base\": null, \"intermittent\": null, \"nhd:com_id\": null, \"layer\": null, \"nhd:gnis_id\": null, \"natural\": null, \"water\": null, \"bicycle\": null, \"motorcycle\": null, \"mtb:scale:imba\": null, \"parking\": null, \"name_1\": null, \"foot\": null, \"horse\": null, \"wikidata\": null, \"tunnel\": null}, {\"ele\": null, \"gnis:county_id\": null, \"gnis:created\": \"\", \"gnis:feature_id\": null, \"gnis:state_id\": null, \"name\": \"Duncan Road\", \"place\": null, \"osm_item_type\": \"way\", \"osm_id\": 250880790, \"osm_path\": \"way/250880790\", \"waterway\": null, \"addr:state\": null, \"gnis:county_name\": null, \"gnis:feature_type\": null, \"landuse\": null, \"man_made\": null, \"amenity\": null, \"operator\": null, \"tourism\": null, \"leisure\": null, \"highway\": \"track\", \"motor_vehicle\": \"yes\", \"smoothness\": \"very_bad\", \"source\": \"BLM, Bing\", \"surface\": \"dirt\", \"tracktype\": \"grade3\", \"tiger:name_base\": null, \"intermittent\": null, \"nhd:com_id\": null, \"layer\": null, \"nhd:gnis_id\": null, \"natural\": null, \"water\": null, \"bicycle\": null, \"motorcycle\": null, \"mtb:scale:imba\": null, \"parking\": null, \"name_1\": null, \"foot\": null, \"horse\": null, \"wikidata\": null, \"tunnel\": null}, {\"ele\": null, \"gnis:county_id\": null, \"gnis:created\": \"\", \"gnis:feature_id\": null, \"gnis:state_id\": null, \"name\": \"South River Road\", \"place\": null, \"osm_item_type\": \"way\", \"osm_id\": 250881405, \"osm_path\": \"way/250881405\", \"waterway\": null, \"addr:state\": null, \"gnis:county_name\": null, \"gnis:feature_type\": null, \"landuse\": null, \"man_made\": null, \"amenity\": null, \"operator\": null, \"tourism\": null, \"leisure\": null, \"highway\": \"unclassified\", \"motor_vehicle\": null, \"smoothness\": null, \"source\": \"BLM, Bing\", \"surface\": \"dirt\", \"tracktype\": null, \"tiger:name_base\": null, \"intermittent\": null, \"nhd:com_id\": null, \"layer\": null, \"nhd:gnis_id\": null, \"natural\": null, \"water\": null, \"bicycle\": null, \"motorcycle\": null, \"mtb:scale:imba\": null, \"parking\": null, \"name_1\": null, \"foot\": null, \"horse\": null, \"wikidata\": null, \"tunnel\": null}, {\"ele\": null, \"gnis:county_id\": null, \"gnis:created\": \"\", \"gnis:feature_id\": null, \"gnis:state_id\": null, \"name\": \"Bostwick Park Road\", \"place\": null, \"osm_item_type\": \"way\", \"osm_id\": 338259938, \"osm_path\": \"way/338259938\", \"waterway\": null, \"addr:state\": null, \"gnis:county_name\": null, \"gnis:feature_type\": null, \"landuse\": null, \"man_made\": null, \"amenity\": null, \"operator\": null, \"tourism\": null, \"leisure\": null, \"highway\": \"unclassified\", \"motor_vehicle\": null, \"smoothness\": null, \"source\": \"Montrose County GIS data, Bing\", \"surface\": \"dirt\", \"tracktype\": null, \"tiger:name_base\": null, \"intermittent\": null, \"nhd:com_id\": null, \"layer\": null, \"nhd:gnis_id\": null, \"natural\": null, \"water\": null, \"bicycle\": null, \"motorcycle\": null, \"mtb:scale:imba\": null, \"parking\": null, \"name_1\": null, \"foot\": null, \"horse\": null, \"wikidata\": null, \"tunnel\": null}, {\"ele\": null, \"gnis:county_id\": null, \"gnis:created\": \"\", \"gnis:feature_id\": null, \"gnis:state_id\": null, \"name\": \"Chukar Road\", \"place\": null, \"osm_item_type\": \"way\", \"osm_id\": 368784165, \"osm_path\": \"way/368784165\", \"waterway\": null, \"addr:state\": null, \"gnis:county_name\": null, \"gnis:feature_type\": null, \"landuse\": null, \"man_made\": null, \"amenity\": null, \"operator\": null, \"tourism\": null, \"leisure\": null, \"highway\": \"unclassified\", \"motor_vehicle\": null, \"smoothness\": null, \"source\": \"Montrose County GIS data, BLM, Bing\", \"surface\": \"dirt\", \"tracktype\": null, \"tiger:name_base\": null, \"intermittent\": null, \"nhd:com_id\": null, \"layer\": null, \"nhd:gnis_id\": null, \"natural\": null, \"water\": null, \"bicycle\": null, \"motorcycle\": null, \"mtb:scale:imba\": null, \"parking\": null, \"name_1\": null, \"foot\": null, \"horse\": null, \"wikidata\": null, \"tunnel\": null}, {\"ele\": null, \"gnis:county_id\": null, \"gnis:created\": \"\", \"gnis:feature_id\": null, \"gnis:state_id\": null, \"name\": \"Chukar Road\", \"place\": null, \"osm_item_type\": \"way\", \"osm_id\": 368784170, \"osm_path\": \"way/368784170\", \"waterway\": null, \"addr:state\": null, \"gnis:county_name\": null, \"gnis:feature_type\": null, \"landuse\": null, \"man_made\": null, \"amenity\": null, \"operator\": null, \"tourism\": null, \"leisure\": null, \"highway\": \"track\", \"motor_vehicle\": \"yes\", \"smoothness\": \"very_bad\", \"source\": \"Montrose County GIS data, BLM, Bing\", \"surface\": \"dirt\", \"tracktype\": \"grade2\", \"tiger:name_base\": null, \"intermittent\": null, \"nhd:com_id\": null, \"layer\": null, \"nhd:gnis_id\": null, \"natural\": null, \"water\": null, \"bicycle\": null, \"motorcycle\": null, \"mtb:scale:imba\": null, \"parking\": null, \"name_1\": null, \"foot\": null, \"horse\": null, \"wikidata\": null, \"tunnel\": null}, {\"ele\": null, \"gnis:county_id\": null, \"gnis:created\": \"\", \"gnis:feature_id\": null, \"gnis:state_id\": null, \"name\": \"Elephant Skin Road\", \"place\": null, \"osm_item_type\": \"way\", \"osm_id\": 368784172, \"osm_path\": \"way/368784172\", \"waterway\": null, \"addr:state\": null, \"gnis:county_name\": null, \"gnis:feature_type\": null, \"landuse\": null, \"man_made\": null, \"amenity\": null, \"operator\": null, \"tourism\": null, \"leisure\": null, \"highway\": \"track\", \"motor_vehicle\": null, \"smoothness\": \"very_bad\", \"source\": \"Montrose County GIS data, Bing\", \"surface\": \"dirt\", \"tracktype\": \"grade2\", \"tiger:name_base\": null, \"intermittent\": null, \"nhd:com_id\": null, \"layer\": null, \"nhd:gnis_id\": null, \"natural\": null, \"water\": null, \"bicycle\": null, \"motorcycle\": null, \"mtb:scale:imba\": null, \"parking\": null, \"name_1\": \"Coal Bank Road\", \"foot\": null, \"horse\": null, \"wikidata\": null, \"tunnel\": null}, {\"ele\": null, \"gnis:county_id\": null, \"gnis:created\": \"\", \"gnis:feature_id\": null, \"gnis:state_id\": null, \"name\": \"Elephant Skin Road\", \"place\": null, \"osm_item_type\": \"way\", \"osm_id\": 368784173, \"osm_path\": \"way/368784173\", \"waterway\": null, \"addr:state\": null, \"gnis:county_name\": null, \"gnis:feature_type\": null, \"landuse\": null, \"man_made\": null, \"amenity\": null, \"operator\": null, \"tourism\": null, \"leisure\": null, \"highway\": \"track\", \"motor_vehicle\": \"yes\", \"smoothness\": \"very_bad\", \"source\": \"BLM, Bing\", \"surface\": \"dirt\", \"tracktype\": \"grade2\", \"tiger:name_base\": null, \"intermittent\": null, \"nhd:com_id\": null, \"layer\": null, \"nhd:gnis_id\": null, \"natural\": null, \"water\": null, \"bicycle\": null, \"motorcycle\": null, \"mtb:scale:imba\": null, \"parking\": null, \"name_1\": null, \"foot\": null, \"horse\": null, \"wikidata\": null, \"tunnel\": null}, {\"ele\": null, \"gnis:county_id\": null, \"gnis:created\": \"\", \"gnis:feature_id\": null, \"gnis:state_id\": null, \"name\": \"Bobcat Road\", \"place\": null, \"osm_item_type\": \"way\", \"osm_id\": 368821383, \"osm_path\": \"way/368821383\", \"waterway\": null, \"addr:state\": null, \"gnis:county_name\": null, \"gnis:feature_type\": null, \"landuse\": null, \"man_made\": null, \"amenity\": null, \"operator\": null, \"tourism\": null, \"leisure\": null, \"highway\": \"track\", \"motor_vehicle\": \"yes\", \"smoothness\": \"very_bad\", \"source\": \"Montrose County GIS data, BLM, Bing\", \"surface\": \"dirt\", \"tracktype\": \"grade3\", \"tiger:name_base\": null, \"intermittent\": null, \"nhd:com_id\": null, \"layer\": null, \"nhd:gnis_id\": null, \"natural\": null, \"water\": null, \"bicycle\": null, \"motorcycle\": null, \"mtb:scale:imba\": null, \"parking\": null, \"name_1\": null, \"foot\": null, \"horse\": null, \"wikidata\": null, \"tunnel\": null}, {\"ele\": null, \"gnis:county_id\": null, \"gnis:created\": \"\", \"gnis:feature_id\": null, \"gnis:state_id\": null, \"name\": \"Candy Lane\", \"place\": null, \"osm_item_type\": \"way\", \"osm_id\": 368821384, \"osm_path\": \"way/368821384\", \"waterway\": null, \"addr:state\": null, \"gnis:county_name\": null, \"gnis:feature_type\": null, \"landuse\": null, \"man_made\": null, \"amenity\": null, \"operator\": null, \"tourism\": null, \"leisure\": null, \"highway\": \"track\", \"motor_vehicle\": null, \"smoothness\": \"very_bad\", \"source\": \"Montrose County GIS data, BLM, Bing\", \"surface\": \"dirt\", \"tracktype\": \"grade3\", \"tiger:name_base\": null, \"intermittent\": null, \"nhd:com_id\": null, \"layer\": null, \"nhd:gnis_id\": null, \"natural\": null, \"water\": null, \"bicycle\": null, \"motorcycle\": null, \"mtb:scale:imba\": null, \"parking\": null, \"name_1\": null, \"foot\": null, \"horse\": null, \"wikidata\": null, \"tunnel\": null}, {\"ele\": null, \"gnis:county_id\": null, \"gnis:created\": \"\", \"gnis:feature_id\": null, \"gnis:state_id\": null, \"name\": \"Eagle Road\", \"place\": null, \"osm_item_type\": \"way\", \"osm_id\": 368821385, \"osm_path\": \"way/368821385\", \"waterway\": null, \"addr:state\": null, \"gnis:county_name\": null, \"gnis:feature_type\": null, \"landuse\": null, \"man_made\": null, \"amenity\": null, \"operator\": null, \"tourism\": null, \"leisure\": null, \"highway\": \"track\", \"motor_vehicle\": \"yes\", \"smoothness\": \"very_bad\", \"source\": \"Montrose County GIS data, BLM, Bing\", \"surface\": \"dirt\", \"tracktype\": \"grade3\", \"tiger:name_base\": null, \"intermittent\": null, \"nhd:com_id\": null, \"layer\": null, \"nhd:gnis_id\": null, \"natural\": null, \"water\": null, \"bicycle\": null, \"motorcycle\": null, \"mtb:scale:imba\": null, \"parking\": null, \"name_1\": null, \"foot\": null, \"horse\": null, \"wikidata\": null, \"tunnel\": null}, {\"ele\": null, \"gnis:county_id\": null, \"gnis:created\": \"\", \"gnis:feature_id\": null, \"gnis:state_id\": null, \"name\": \"Red Rock - Nighthorse Trail\", \"place\": null, \"osm_item_type\": \"way\", \"osm_id\": 368821386, \"osm_path\": \"way/368821386\", \"waterway\": null, \"addr:state\": null, \"gnis:county_name\": null, \"gnis:feature_type\": null, \"landuse\": null, \"man_made\": null, \"amenity\": null, \"operator\": null, \"tourism\": null, \"leisure\": null, \"highway\": \"track\", \"motor_vehicle\": \"yes\", \"smoothness\": \"very_bad\", \"source\": \"BLM, Bing\", \"surface\": \"dirt\", \"tracktype\": \"grade5\", \"tiger:name_base\": null, \"intermittent\": null, \"nhd:com_id\": null, \"layer\": null, \"nhd:gnis_id\": null, \"natural\": null, \"water\": null, \"bicycle\": null, \"motorcycle\": null, \"mtb:scale:imba\": null, \"parking\": null, \"name_1\": null, \"foot\": null, \"horse\": null, \"wikidata\": null, \"tunnel\": null}, {\"ele\": null, \"gnis:county_id\": null, \"gnis:created\": \"\", \"gnis:feature_id\": null, \"gnis:state_id\": null, \"name\": \"Wave Road\", \"place\": null, \"osm_item_type\": \"way\", \"osm_id\": 368821390, \"osm_path\": \"way/368821390\", \"waterway\": null, \"addr:state\": null, \"gnis:county_name\": null, \"gnis:feature_type\": null, \"landuse\": null, \"man_made\": null, \"amenity\": null, \"operator\": null, \"tourism\": null, \"leisure\": null, \"highway\": \"track\", \"motor_vehicle\": \"yes\", \"smoothness\": \"very_bad\", \"source\": \"Montrose County GIS data, BLM, Bing\", \"surface\": \"dirt\", \"tracktype\": \"grade3\", \"tiger:name_base\": null, \"intermittent\": null, \"nhd:com_id\": null, \"layer\": null, \"nhd:gnis_id\": null, \"natural\": null, \"water\": null, \"bicycle\": null, \"motorcycle\": null, \"mtb:scale:imba\": null, \"parking\": null, \"name_1\": null, \"foot\": null, \"horse\": null, \"wikidata\": null, \"tunnel\": null}, {\"ele\": null, \"gnis:county_id\": null, \"gnis:created\": \"\", \"gnis:feature_id\": null, \"gnis:state_id\": null, \"name\": \"Wave/Eagle Loop\", \"place\": null, \"osm_item_type\": \"way\", \"osm_id\": 368821396, \"osm_path\": \"way/368821396\", \"waterway\": null, \"addr:state\": null, \"gnis:county_name\": null, \"gnis:feature_type\": null, \"landuse\": null, \"man_made\": null, \"amenity\": null, \"operator\": null, \"tourism\": null, \"leisure\": null, \"highway\": \"track\", \"motor_vehicle\": \"yes\", \"smoothness\": \"very_bad\", \"source\": \"Montrose County GIS data, BLM, Bing\", \"surface\": \"dirt\", \"tracktype\": \"grade3\", \"tiger:name_base\": null, \"intermittent\": null, \"nhd:com_id\": null, \"layer\": null, \"nhd:gnis_id\": null, \"natural\": null, \"water\": null, \"bicycle\": null, \"motorcycle\": null, \"mtb:scale:imba\": null, \"parking\": null, \"name_1\": null, \"foot\": null, \"horse\": null, \"wikidata\": null, \"tunnel\": null}, {\"ele\": null, \"gnis:county_id\": null, \"gnis:created\": \"\", \"gnis:feature_id\": null, \"gnis:state_id\": null, \"name\": \"West River Trail\", \"place\": null, \"osm_item_type\": \"way\", \"osm_id\": 368835752, \"osm_path\": \"way/368835752\", \"waterway\": null, \"addr:state\": null, \"gnis:county_name\": null, \"gnis:feature_type\": null, \"landuse\": null, \"man_made\": null, \"amenity\": null, \"operator\": null, \"tourism\": null, \"leisure\": null, \"highway\": \"path\", \"motor_vehicle\": null, \"smoothness\": null, \"source\": \"BLM, Bing\", \"surface\": null, \"tracktype\": null, \"tiger:name_base\": null, \"intermittent\": null, \"nhd:com_id\": null, \"layer\": null, \"nhd:gnis_id\": null, \"natural\": null, \"water\": null, \"bicycle\": \"no\", \"motorcycle\": null, \"mtb:scale:imba\": null, \"parking\": null, \"name_1\": null, \"foot\": \"yes\", \"horse\": \"yes\", \"wikidata\": null, \"tunnel\": null}, {\"ele\": null, \"gnis:county_id\": null, \"gnis:created\": \"\", \"gnis:feature_id\": null, \"gnis:state_id\": null, \"name\": \"Pleasure Park Road\", \"place\": null, \"osm_item_type\": \"way\", \"osm_id\": 368998625, \"osm_path\": \"way/368998625\", \"waterway\": null, \"addr:state\": null, \"gnis:county_name\": null, \"gnis:feature_type\": null, \"landuse\": null, \"man_made\": null, \"amenity\": null, \"operator\": null, \"tourism\": null, \"leisure\": null, \"highway\": \"unclassified\", \"motor_vehicle\": null, \"smoothness\": null, \"source\": null, \"surface\": \"paved\", \"tracktype\": null, \"tiger:name_base\": null, \"intermittent\": null, \"nhd:com_id\": null, \"layer\": null, \"nhd:gnis_id\": null, \"natural\": null, \"water\": null, \"bicycle\": null, \"motorcycle\": null, \"mtb:scale:imba\": null, \"parking\": null, \"name_1\": null, \"foot\": null, \"horse\": null, \"wikidata\": null, \"tunnel\": null}, {\"ele\": null, \"gnis:county_id\": null, \"gnis:created\": \"\", \"gnis:feature_id\": null, \"gnis:state_id\": null, \"name\": \"Chukar Trail\", \"place\": null, \"osm_item_type\": \"way\", \"osm_id\": 369008805, \"osm_path\": \"way/369008805\", \"waterway\": null, \"addr:state\": null, \"gnis:county_name\": null, \"gnis:feature_type\": null, \"landuse\": null, \"man_made\": null, \"amenity\": null, \"operator\": null, \"tourism\": null, \"leisure\": null, \"highway\": \"path\", \"motor_vehicle\": null, \"smoothness\": null, \"source\": \"Bing\", \"surface\": \"dirt\", \"tracktype\": null, \"tiger:name_base\": null, \"intermittent\": null, \"nhd:com_id\": null, \"layer\": null, \"nhd:gnis_id\": null, \"natural\": null, \"water\": null, \"bicycle\": null, \"motorcycle\": null, \"mtb:scale:imba\": null, \"parking\": null, \"name_1\": null, \"foot\": \"yes\", \"horse\": \"yes\", \"wikidata\": \"Q112667890\", \"tunnel\": null}, {\"ele\": null, \"gnis:county_id\": null, \"gnis:created\": \"\", \"gnis:feature_id\": null, \"gnis:state_id\": null, \"name\": \"Gunnison River\", \"place\": null, \"osm_item_type\": \"way\", \"osm_id\": 369097720, \"osm_path\": \"way/369097720\", \"waterway\": \"river\", \"addr:state\": null, \"gnis:county_name\": null, \"gnis:feature_type\": null, \"landuse\": null, \"man_made\": null, \"amenity\": null, \"operator\": null, \"tourism\": null, \"leisure\": null, \"highway\": null, \"motor_vehicle\": null, \"smoothness\": null, \"source\": \"NHD, Bing\", \"surface\": null, \"tracktype\": null, \"tiger:name_base\": null, \"intermittent\": null, \"nhd:com_id\": \"<many>\", \"layer\": null, \"nhd:gnis_id\": \"00201748\", \"natural\": null, \"water\": null, \"bicycle\": null, \"motorcycle\": null, \"mtb:scale:imba\": null, \"parking\": null, \"name_1\": null, \"foot\": null, \"horse\": null, \"wikidata\": null, \"tunnel\": null}, {\"ele\": null, \"gnis:county_id\": null, \"gnis:created\": \"\", \"gnis:feature_id\": null, \"gnis:state_id\": null, \"name\": \"North Delta Canal\", \"place\": null, \"osm_item_type\": \"way\", \"osm_id\": 369104572, \"osm_path\": \"way/369104572\", \"waterway\": \"drain\", \"addr:state\": null, \"gnis:county_name\": null, \"gnis:feature_type\": null, \"landuse\": null, \"man_made\": null, \"amenity\": null, \"operator\": null, \"tourism\": null, \"leisure\": null, \"highway\": null, \"motor_vehicle\": null, \"smoothness\": null, \"source\": \"NHD, Bing\", \"surface\": null, \"tracktype\": null, \"tiger:name_base\": null, \"intermittent\": null, \"nhd:com_id\": \"75568743;75568653;120298955;75568731;75568703\", \"layer\": null, \"nhd:gnis_id\": \"00203069\", \"natural\": null, \"water\": null, \"bicycle\": null, \"motorcycle\": null, \"mtb:scale:imba\": null, \"parking\": null, \"name_1\": null, \"foot\": null, \"horse\": null, \"wikidata\": null, \"tunnel\": null}, {\"ele\": null, \"gnis:county_id\": null, \"gnis:created\": \"\", \"gnis:feature_id\": null, \"gnis:state_id\": null, \"name\": \"Cool Rock Canyon\", \"place\": null, \"osm_item_type\": \"way\", \"osm_id\": 369125649, \"osm_path\": \"way/369125649\", \"waterway\": \"stream\", \"addr:state\": null, \"gnis:county_name\": null, \"gnis:feature_type\": null, \"landuse\": null, \"man_made\": null, \"amenity\": null, \"operator\": null, \"tourism\": null, \"leisure\": null, \"highway\": null, \"motor_vehicle\": null, \"smoothness\": null, \"source\": \"NHD, Bing\", \"surface\": null, \"tracktype\": null, \"tiger:name_base\": null, \"intermittent\": \"yes\", \"nhd:com_id\": \"75547519;75563569\", \"layer\": \"-1\", \"nhd:gnis_id\": null, \"natural\": null, \"water\": null, \"bicycle\": null, \"motorcycle\": null, \"mtb:scale:imba\": null, \"parking\": null, \"name_1\": null, \"foot\": null, \"horse\": null, \"wikidata\": null, \"tunnel\": \"culvert\"}, {\"ele\": null, \"gnis:county_id\": null, \"gnis:created\": \"\", \"gnis:feature_id\": null, \"gnis:state_id\": null, \"name\": \"Cool Rock Canyon\", \"place\": null, \"osm_item_type\": \"way\", \"osm_id\": 369125650, \"osm_path\": \"way/369125650\", \"waterway\": \"stream\", \"addr:state\": null, \"gnis:county_name\": null, \"gnis:feature_type\": null, \"landuse\": null, \"man_made\": null, \"amenity\": null, \"operator\": null, \"tourism\": null, \"leisure\": null, \"highway\": null, \"motor_vehicle\": null, \"smoothness\": null, \"source\": \"NHD, Bing\", \"surface\": null, \"tracktype\": null, \"tiger:name_base\": null, \"intermittent\": \"yes\", \"nhd:com_id\": \"75547519;75563569\", \"layer\": null, \"nhd:gnis_id\": null, \"natural\": null, \"water\": null, \"bicycle\": null, \"motorcycle\": null, \"mtb:scale:imba\": null, \"parking\": null, \"name_1\": null, \"foot\": null, \"horse\": null, \"wikidata\": null, \"tunnel\": null}, {\"ele\": null, \"gnis:county_id\": null, \"gnis:created\": \"\", \"gnis:feature_id\": null, \"gnis:state_id\": null, \"name\": \"Sun Cliff Canyon\", \"place\": null, \"osm_item_type\": \"way\", \"osm_id\": 369125651, \"osm_path\": \"way/369125651\", \"waterway\": \"stream\", \"addr:state\": null, \"gnis:county_name\": null, \"gnis:feature_type\": null, \"landuse\": null, \"man_made\": null, \"amenity\": null, \"operator\": null, \"tourism\": null, \"leisure\": null, \"highway\": null, \"motor_vehicle\": null, \"smoothness\": null, \"source\": \"NHD, Bing\", \"surface\": null, \"tracktype\": null, \"tiger:name_base\": null, \"intermittent\": \"yes\", \"nhd:com_id\": \"75568885;75568803;75567627\", \"layer\": null, \"nhd:gnis_id\": null, \"natural\": null, \"water\": null, \"bicycle\": null, \"motorcycle\": null, \"mtb:scale:imba\": null, \"parking\": null, \"name_1\": null, \"foot\": null, \"horse\": null, \"wikidata\": null, \"tunnel\": null}, {\"ele\": null, \"gnis:county_id\": null, \"gnis:created\": \"\", \"gnis:feature_id\": null, \"gnis:state_id\": null, \"name\": \"Sun Cliff Canyon\", \"place\": null, \"osm_item_type\": \"way\", \"osm_id\": 369125652, \"osm_path\": \"way/369125652\", \"waterway\": \"stream\", \"addr:state\": null, \"gnis:county_name\": null, \"gnis:feature_type\": null, \"landuse\": null, \"man_made\": null, \"amenity\": null, \"operator\": null, \"tourism\": null, \"leisure\": null, \"highway\": null, \"motor_vehicle\": null, \"smoothness\": null, \"source\": \"NHD, Bing\", \"surface\": null, \"tracktype\": null, \"tiger:name_base\": null, \"intermittent\": \"yes\", \"nhd:com_id\": \"75568885;75568803;75567627\", \"layer\": \"-1\", \"nhd:gnis_id\": null, \"natural\": null, \"water\": null, \"bicycle\": null, \"motorcycle\": null, \"mtb:scale:imba\": null, \"parking\": null, \"name_1\": null, \"foot\": null, \"horse\": null, \"wikidata\": null, \"tunnel\": \"culvert\"}, {\"ele\": null, \"gnis:county_id\": null, \"gnis:created\": \"\", \"gnis:feature_id\": null, \"gnis:state_id\": null, \"name\": \"North Fork Gunnison River\", \"place\": null, \"osm_item_type\": \"way\", \"osm_id\": 373537216, \"osm_path\": \"way/373537216\", \"waterway\": \"river\", \"addr:state\": null, \"gnis:county_name\": null, \"gnis:feature_type\": null, \"landuse\": null, \"man_made\": null, \"amenity\": null, \"operator\": null, \"tourism\": null, \"leisure\": null, \"highway\": null, \"motor_vehicle\": null, \"smoothness\": null, \"source\": \"NHD, Bing\", \"surface\": null, \"tracktype\": null, \"tiger:name_base\": null, \"intermittent\": null, \"nhd:com_id\": \"<many>\", \"layer\": null, \"nhd:gnis_id\": \"00186323\", \"natural\": null, \"water\": null, \"bicycle\": null, \"motorcycle\": null, \"mtb:scale:imba\": null, \"parking\": null, \"name_1\": null, \"foot\": null, \"horse\": null, \"wikidata\": null, \"tunnel\": null}, {\"ele\": null, \"gnis:county_id\": null, \"gnis:created\": \"\", \"gnis:feature_id\": null, \"gnis:state_id\": null, \"name\": \"Eagle Valley\", \"place\": null, \"osm_item_type\": \"way\", \"osm_id\": 845490443, \"osm_path\": \"way/845490443\", \"waterway\": null, \"addr:state\": null, \"gnis:county_name\": null, \"gnis:feature_type\": null, \"landuse\": null, \"man_made\": null, \"amenity\": null, \"operator\": null, \"tourism\": null, \"leisure\": null, \"highway\": \"path\", \"motor_vehicle\": \"yes\", \"smoothness\": null, \"source\": null, \"surface\": \"dirt\", \"tracktype\": null, \"tiger:name_base\": null, \"intermittent\": null, \"nhd:com_id\": null, \"layer\": null, \"nhd:gnis_id\": null, \"natural\": null, \"water\": null, \"bicycle\": \"yes\", \"motorcycle\": null, \"mtb:scale:imba\": null, \"parking\": null, \"name_1\": null, \"foot\": \"yes\", \"horse\": \"yes\", \"wikidata\": null, \"tunnel\": null}, {\"ele\": null, \"gnis:county_id\": null, \"gnis:created\": \"\", \"gnis:feature_id\": null, \"gnis:state_id\": null, \"name\": \"Black Ridge\", \"place\": null, \"osm_item_type\": \"way\", \"osm_id\": 1083320545, \"osm_path\": \"way/1083320545\", \"waterway\": null, \"addr:state\": null, \"gnis:county_name\": null, \"gnis:feature_type\": null, \"landuse\": null, \"man_made\": null, \"amenity\": null, \"operator\": null, \"tourism\": null, \"leisure\": null, \"highway\": null, \"motor_vehicle\": null, \"smoothness\": null, \"source\": null, \"surface\": null, \"tracktype\": null, \"tiger:name_base\": null, \"intermittent\": null, \"nhd:com_id\": null, \"layer\": null, \"nhd:gnis_id\": null, \"natural\": \"ridge\", \"water\": null, \"bicycle\": null, \"motorcycle\": null, \"mtb:scale:imba\": null, \"parking\": null, \"name_1\": null, \"foot\": null, \"horse\": null, \"wikidata\": null, \"tunnel\": null}]}}, {\"actions\": false, \"mode\": \"vega-lite\"});\n</script>",
      "text/plain": "alt.Chart(...)"
     },
     "metadata": {}
    }
   ]
  },
  {
   "cell_type": "markdown",
   "source": "# Conclusions",
   "metadata": {
    "formattedRanges": [],
    "is_collapsed": false,
    "cell_id": "ef83be8757e24f698d4abf997992bdc9",
    "tags": [],
    "deepnote_cell_type": "text-cell-h1"
   }
  },
  {
   "cell_type": "markdown",
   "source": "This exercise does leave me with a couple of interesting conclusions. I can see why no one has yet done this comprehensively. Nicely curated and clean public data about trails just doesn't exist outside the scope of any of the areas where someone for some reason has taken enough interest to develop such a resource. I can also see the tremendous intellectual capital investment that commercial companies like Natural Atlas, Gaia GPS, All Trails and others have laid out to build their own sources. The one effort here in the U.S. through the USGS National Digital Trails dataset is more of an simple amalgamation at this point, relying on best available declared sources of trails data from mostly Federal providers and not yet dealing with all the deeper semantics of a full integration.",
   "metadata": {
    "formattedRanges": [],
    "is_collapsed": false,
    "cell_id": "3ac147c8-afc9-4894-b7fc-0cd44642b7fc",
    "tags": [],
    "deepnote_cell_type": "text-cell-p"
   }
  },
  {
   "cell_type": "markdown",
   "source": "A combination of Wikidata and OSM could be a powerful platform upon which to carry out a more semantically robust integration of trails data and information from multiple sources to create a powerful public domain asset. The knowledge model is inherent in those two platforms with slight differences in them making up for weaknesses one or the other might have on their own. A challenge exists in pre-existing data already in either one of the systems that has been contributed somewhat by happenstance rather than carefully thought out design. This could create collisions in trying to do something more systematically.",
   "metadata": {
    "formattedRanges": [],
    "is_collapsed": false,
    "cell_id": "a5be560b-f284-4d86-902c-519cf10fb1e3",
    "tags": [],
    "deepnote_cell_type": "text-cell-p"
   }
  },
  {
   "cell_type": "markdown",
   "source": "## Potential operating model",
   "metadata": {
    "formattedRanges": [],
    "is_collapsed": false,
    "cell_id": "aeaf870e-dc15-4daf-9f21-7293520cdf9b",
    "tags": [],
    "deepnote_cell_type": "text-cell-h2"
   }
  },
  {
   "cell_type": "markdown",
   "source": "I think what I've proven to myself with this exercise is that there's not really a way to go directly from point A (source data/information) to point B (knowledge commons). I've also seen how I need to focus on both Wikidata and OSM and the relationships between them in this kind of exercise when the entities in question are also inherently geospatial features.",
   "metadata": {
    "is_collapsed": false,
    "cell_id": "d81da505-8de6-4c3f-862f-6116a6d186ca",
    "tags": [],
    "formattedRanges": [],
    "deepnote_cell_type": "text-cell-p"
   }
  },
  {
   "cell_type": "markdown",
   "source": "I will have to create some type of intermediary data structure where the curatorial process can occur. While I may sometimes be able to use some code against an information source to work up my initial list of trails for a given area, I'll need to have something with trail names I can use as a starting point to go after information for claims (Wikidata)/tags (OSM). This is the type of scenario I've seen from other Wikidata contributors who end up using something like OpenRefine to work up some final details for a dataset that got into that form from some other means. Having used that same approach in other data integration exercises, I've got a lot of respect for OpenRefine and its method of recording provenance.",
   "metadata": {
    "is_collapsed": false,
    "cell_id": "06e6fdde-ff62-436c-a0a2-9706ea8337b7",
    "tags": [],
    "formattedRanges": [],
    "deepnote_cell_type": "text-cell-p"
   }
  },
  {
   "cell_type": "markdown",
   "source": "My goal is to make sure that there is little to nothing that can't be linked to or shown with code between the original sources I decide I can use and the point where I need to sit down and make choices that establish trail entities and their claims and tags. In doing so, I will establish a provenance trace that should both promote trustworthiness in the end result and show that it's possible to improve things at the sources such that more direct contributions to the knowledge commons could occur at some point. Demonstrating and recording everything that has to be done with records from one place to another should be a helpful lesson. It should also let me automate at least some of this process within certain constraints.",
   "metadata": {
    "formattedRanges": [],
    "is_collapsed": false,
    "cell_id": "d7c8025c-321c-463a-be1b-e413ec4b9d07",
    "tags": [],
    "deepnote_cell_type": "text-cell-p"
   }
  },
  {
   "cell_type": "markdown",
   "source": "<a style='text-decoration:none;line-height:16px;display:flex;color:#5B5B62;padding:10px;justify-content:end;' href='https://deepnote.com?utm_source=created-in-deepnote-cell&projectId=c40bd484-9cb3-4a0c-b0ba-4d390c2978fd' target=\"_blank\">\n<img alt='Created in deepnote.com' style='display:inline;max-height:16px;margin:0px;margin-right:7.5px;' src='data:image/svg+xml;base64,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' > </img>\nCreated in <span style='font-weight:600;margin-left:4px;'>Deepnote</span></a>",
   "metadata": {
    "tags": [],
    "created_in_deepnote_cell": true,
    "deepnote_cell_type": "markdown"
   }
  }
 ],
 "nbformat": 4,
 "nbformat_minor": 2,
 "metadata": {
  "orig_nbformat": 2,
  "deepnote": {},
  "deepnote_notebook_id": "8a801232-ff9f-45cf-b142-71e372fa0624",
  "deepnote_execution_queue": []
 }
}